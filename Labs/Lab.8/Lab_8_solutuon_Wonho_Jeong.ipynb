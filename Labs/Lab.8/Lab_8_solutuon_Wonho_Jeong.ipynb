{
  "cells": [
    {
      "cell_type": "markdown",
      "metadata": {
        "id": "VuTnR9BArKuV"
      },
      "source": [
        "# **DATA 3402 - Lab 8**\n"
      ]
    },
    {
      "cell_type": "markdown",
      "source": [
        "# **Wonho Jeong 1002242697**"
      ],
      "metadata": {
        "id": "TWojCbjx5ym8"
      }
    },
    {
      "cell_type": "markdown",
      "metadata": {
        "id": "fKgclf-ErKuZ"
      },
      "source": [
        "## Setup for SUSY Dataset\n",
        "\n",
        "Use the SUSY dataset for the rest of this lab. Here is a basic setup."
      ]
    },
    {
      "cell_type": "code",
      "execution_count": 1,
      "metadata": {
        "id": "RU9ZLWpjrKua"
      },
      "outputs": [],
      "source": [
        "# Our usual libraries...\n",
        "import pandas as pd\n",
        "import numpy as np\n",
        "import matplotlib.pyplot as plt\n",
        "%matplotlib inline\n",
        "from IPython.display import HTML, display\n",
        "import tabulate"
      ]
    },
    {
      "cell_type": "code",
      "source": [
        "!curl http://archive.ics.uci.edu/ml/machine-learning-databases/00279/SUSY.csv.gz > SUSY.csv.gz"
      ],
      "metadata": {
        "colab": {
          "base_uri": "https://localhost:8080/"
        },
        "id": "BEjbtL_lslfd",
        "outputId": "b681c648-8300-4447-a4ec-5cfc46400db6"
      },
      "execution_count": 2,
      "outputs": [
        {
          "output_type": "stream",
          "name": "stdout",
          "text": [
            "  % Total    % Received % Xferd  Average Speed   Time    Time     Time  Current\n",
            "                                 Dload  Upload   Total   Spent    Left  Speed\n",
            "100  879M    0  879M    0     0  4479k      0 --:--:--  0:03:21 --:--:-- 2696k\n"
          ]
        }
      ]
    },
    {
      "cell_type": "code",
      "source": [
        "!gunzip SUSY.csv.gz"
      ],
      "metadata": {
        "id": "8FSZ4C91sl2_"
      },
      "execution_count": 3,
      "outputs": []
    },
    {
      "cell_type": "code",
      "source": [
        "ls -lh"
      ],
      "metadata": {
        "colab": {
          "base_uri": "https://localhost:8080/"
        },
        "id": "MRksOHWbsonM",
        "outputId": "c7b1f399-cfbc-4c15-e363-dcb7f893a42b"
      },
      "execution_count": 4,
      "outputs": [
        {
          "output_type": "stream",
          "name": "stdout",
          "text": [
            "total 2.3G\n",
            "drwxr-xr-x 1 root root 4.0K Apr  3 13:37 \u001b[0m\u001b[01;34msample_data\u001b[0m/\n",
            "-rw-r--r-- 1 root root 2.3G Apr  4 23:18 SUSY.csv\n"
          ]
        }
      ]
    },
    {
      "cell_type": "code",
      "execution_count": 5,
      "metadata": {
        "id": "bK8Vuv8grKuc"
      },
      "outputs": [],
      "source": [
        "filename=\"SUSY.csv\"\n",
        "VarNames=[\"signal\", \"l_1_pT\", \"l_1_eta\",\"l_1_phi\", \"l_2_pT\", \"l_2_eta\",\n",
        "          \"l_2_phi\", \"MET\", \"MET_phi\", \"MET_rel\", \"axial_MET\",\n",
        "          \"M_R\", \"M_TR_2\", \"R\", \"MT2\", \"S_R\", \"M_Delta_R\", \"dPhi_r_b\", \"cos_theta_r1\"]\n",
        "df = pd.read_csv(filename, dtype='float64', names=VarNames)"
      ]
    },
    {
      "cell_type": "markdown",
      "metadata": {
        "id": "hmNUYMpLrKud"
      },
      "source": [
        "## Scikit-Learn\n",
        "\n",
        "[Scikit-learn](http://scikit-learn.org) is a rich python library for data science, including machine learning. For example, we can build a Fisher Discriminant (aka Linear Discriminant Analysis, or LDA).\n",
        "\n",
        "### Exercise 1: Install Scikit-Learn\n",
        "\n",
        "Follow the [Installation Instructions](https://scikit-learn.org/stable/install.html) and install `scikit-learn` in your environment."
      ]
    },
    {
      "cell_type": "markdown",
      "metadata": {
        "id": "ToaSToZFrKud"
      },
      "source": [
        "### Exercise 2: Read About Classifiers\n",
        "\n",
        "#### Part a\n",
        "Scikit-learn offers an impressively comprehensive list of machine learning algorithms. Browse through [scikit-learn's documentation](https://scikit-learn.org/stable/index.html). You'll note the algorithms are organized into classification, regression, clustering, dimensionality reduction, model selection, and preprocessing. Browse through the list of [classification algorithms](https://scikit-learn.org/stable/supervised_learning.html#supervised-learning).\n",
        "\n",
        "#### Part b\n",
        "Note scikit-learn's documentation is rather comprehensive. The documentation on [linear models](https://scikit-learn.org/stable/modules/linear_model.html) shows how classification problems are setup. Read about the first few methods and try to comprehend the example codes. Skim the rest of the document.\n",
        "\n",
        "#### Part c\n",
        "Read through the [LDA Documentation](https://scikit-learn.org/stable/modules/lda_qda.html).\n"
      ]
    },
    {
      "cell_type": "markdown",
      "metadata": {
        "id": "uu95mmEhrKue"
      },
      "source": [
        "### Exercise 3: Training a Classifier\n",
        "\n",
        "Lets' repeat what we did manually in the previous lab using scikit-learn. We'll use a LDA classifier, which we can instanciate as follows:"
      ]
    },
    {
      "cell_type": "code",
      "execution_count": 6,
      "metadata": {
        "id": "9kG0wUg3rKue"
      },
      "outputs": [],
      "source": [
        "import sklearn.discriminant_analysis as DA\n",
        "Fisher=DA.LinearDiscriminantAnalysis()"
      ]
    },
    {
      "cell_type": "markdown",
      "metadata": {
        "id": "tD_unlfdrKuf"
      },
      "source": [
        "As discussed in the lecture, to properly formulate our problem, we'll have to:\n",
        "\n",
        "* Define the inputs (X) vs outputs (Y)\n",
        "* Designate training vs testing samples (in order to get a unbias assessment of the performance of Machine Learning algorithms)\n",
        "\n",
        "for example, here we'll take use 4M events for training and the remainder for testing."
      ]
    },
    {
      "cell_type": "code",
      "execution_count": 7,
      "metadata": {
        "id": "IIXnSygQrKuf"
      },
      "outputs": [],
      "source": [
        "N_Train=4000000\n",
        "\n",
        "Train_Sample=df[:N_Train]\n",
        "Test_Sample=df[N_Train:]\n",
        "\n",
        "X_Train=Train_Sample[VarNames[1:]]\n",
        "y_Train=Train_Sample[\"signal\"]\n",
        "\n",
        "X_Test=Test_Sample[VarNames[1:]]\n",
        "y_Test=Test_Sample[\"signal\"]\n",
        "\n",
        "Test_sig=Test_Sample[Test_Sample.signal==1]\n",
        "Test_bkg=Test_Sample[Test_Sample.signal==0]\n"
      ]
    },
    {
      "cell_type": "markdown",
      "metadata": {
        "id": "xw3a9bperKug"
      },
      "source": [
        "We can train the classifier as follow:"
      ]
    },
    {
      "cell_type": "code",
      "execution_count": 8,
      "metadata": {
        "colab": {
          "base_uri": "https://localhost:8080/",
          "height": 81
        },
        "id": "oYM0kc4nrKug",
        "outputId": "d926d414-05bf-4a51-8dbb-2728fd2a51cd"
      },
      "outputs": [
        {
          "output_type": "execute_result",
          "data": {
            "text/plain": [
              "LinearDiscriminantAnalysis()"
            ],
            "text/html": [
              "<style>#sk-container-id-1 {\n",
              "  /* Definition of color scheme common for light and dark mode */\n",
              "  --sklearn-color-text: #000;\n",
              "  --sklearn-color-text-muted: #666;\n",
              "  --sklearn-color-line: gray;\n",
              "  /* Definition of color scheme for unfitted estimators */\n",
              "  --sklearn-color-unfitted-level-0: #fff5e6;\n",
              "  --sklearn-color-unfitted-level-1: #f6e4d2;\n",
              "  --sklearn-color-unfitted-level-2: #ffe0b3;\n",
              "  --sklearn-color-unfitted-level-3: chocolate;\n",
              "  /* Definition of color scheme for fitted estimators */\n",
              "  --sklearn-color-fitted-level-0: #f0f8ff;\n",
              "  --sklearn-color-fitted-level-1: #d4ebff;\n",
              "  --sklearn-color-fitted-level-2: #b3dbfd;\n",
              "  --sklearn-color-fitted-level-3: cornflowerblue;\n",
              "\n",
              "  /* Specific color for light theme */\n",
              "  --sklearn-color-text-on-default-background: var(--sg-text-color, var(--theme-code-foreground, var(--jp-content-font-color1, black)));\n",
              "  --sklearn-color-background: var(--sg-background-color, var(--theme-background, var(--jp-layout-color0, white)));\n",
              "  --sklearn-color-border-box: var(--sg-text-color, var(--theme-code-foreground, var(--jp-content-font-color1, black)));\n",
              "  --sklearn-color-icon: #696969;\n",
              "\n",
              "  @media (prefers-color-scheme: dark) {\n",
              "    /* Redefinition of color scheme for dark theme */\n",
              "    --sklearn-color-text-on-default-background: var(--sg-text-color, var(--theme-code-foreground, var(--jp-content-font-color1, white)));\n",
              "    --sklearn-color-background: var(--sg-background-color, var(--theme-background, var(--jp-layout-color0, #111)));\n",
              "    --sklearn-color-border-box: var(--sg-text-color, var(--theme-code-foreground, var(--jp-content-font-color1, white)));\n",
              "    --sklearn-color-icon: #878787;\n",
              "  }\n",
              "}\n",
              "\n",
              "#sk-container-id-1 {\n",
              "  color: var(--sklearn-color-text);\n",
              "}\n",
              "\n",
              "#sk-container-id-1 pre {\n",
              "  padding: 0;\n",
              "}\n",
              "\n",
              "#sk-container-id-1 input.sk-hidden--visually {\n",
              "  border: 0;\n",
              "  clip: rect(1px 1px 1px 1px);\n",
              "  clip: rect(1px, 1px, 1px, 1px);\n",
              "  height: 1px;\n",
              "  margin: -1px;\n",
              "  overflow: hidden;\n",
              "  padding: 0;\n",
              "  position: absolute;\n",
              "  width: 1px;\n",
              "}\n",
              "\n",
              "#sk-container-id-1 div.sk-dashed-wrapped {\n",
              "  border: 1px dashed var(--sklearn-color-line);\n",
              "  margin: 0 0.4em 0.5em 0.4em;\n",
              "  box-sizing: border-box;\n",
              "  padding-bottom: 0.4em;\n",
              "  background-color: var(--sklearn-color-background);\n",
              "}\n",
              "\n",
              "#sk-container-id-1 div.sk-container {\n",
              "  /* jupyter's `normalize.less` sets `[hidden] { display: none; }`\n",
              "     but bootstrap.min.css set `[hidden] { display: none !important; }`\n",
              "     so we also need the `!important` here to be able to override the\n",
              "     default hidden behavior on the sphinx rendered scikit-learn.org.\n",
              "     See: https://github.com/scikit-learn/scikit-learn/issues/21755 */\n",
              "  display: inline-block !important;\n",
              "  position: relative;\n",
              "}\n",
              "\n",
              "#sk-container-id-1 div.sk-text-repr-fallback {\n",
              "  display: none;\n",
              "}\n",
              "\n",
              "div.sk-parallel-item,\n",
              "div.sk-serial,\n",
              "div.sk-item {\n",
              "  /* draw centered vertical line to link estimators */\n",
              "  background-image: linear-gradient(var(--sklearn-color-text-on-default-background), var(--sklearn-color-text-on-default-background));\n",
              "  background-size: 2px 100%;\n",
              "  background-repeat: no-repeat;\n",
              "  background-position: center center;\n",
              "}\n",
              "\n",
              "/* Parallel-specific style estimator block */\n",
              "\n",
              "#sk-container-id-1 div.sk-parallel-item::after {\n",
              "  content: \"\";\n",
              "  width: 100%;\n",
              "  border-bottom: 2px solid var(--sklearn-color-text-on-default-background);\n",
              "  flex-grow: 1;\n",
              "}\n",
              "\n",
              "#sk-container-id-1 div.sk-parallel {\n",
              "  display: flex;\n",
              "  align-items: stretch;\n",
              "  justify-content: center;\n",
              "  background-color: var(--sklearn-color-background);\n",
              "  position: relative;\n",
              "}\n",
              "\n",
              "#sk-container-id-1 div.sk-parallel-item {\n",
              "  display: flex;\n",
              "  flex-direction: column;\n",
              "}\n",
              "\n",
              "#sk-container-id-1 div.sk-parallel-item:first-child::after {\n",
              "  align-self: flex-end;\n",
              "  width: 50%;\n",
              "}\n",
              "\n",
              "#sk-container-id-1 div.sk-parallel-item:last-child::after {\n",
              "  align-self: flex-start;\n",
              "  width: 50%;\n",
              "}\n",
              "\n",
              "#sk-container-id-1 div.sk-parallel-item:only-child::after {\n",
              "  width: 0;\n",
              "}\n",
              "\n",
              "/* Serial-specific style estimator block */\n",
              "\n",
              "#sk-container-id-1 div.sk-serial {\n",
              "  display: flex;\n",
              "  flex-direction: column;\n",
              "  align-items: center;\n",
              "  background-color: var(--sklearn-color-background);\n",
              "  padding-right: 1em;\n",
              "  padding-left: 1em;\n",
              "}\n",
              "\n",
              "\n",
              "/* Toggleable style: style used for estimator/Pipeline/ColumnTransformer box that is\n",
              "clickable and can be expanded/collapsed.\n",
              "- Pipeline and ColumnTransformer use this feature and define the default style\n",
              "- Estimators will overwrite some part of the style using the `sk-estimator` class\n",
              "*/\n",
              "\n",
              "/* Pipeline and ColumnTransformer style (default) */\n",
              "\n",
              "#sk-container-id-1 div.sk-toggleable {\n",
              "  /* Default theme specific background. It is overwritten whether we have a\n",
              "  specific estimator or a Pipeline/ColumnTransformer */\n",
              "  background-color: var(--sklearn-color-background);\n",
              "}\n",
              "\n",
              "/* Toggleable label */\n",
              "#sk-container-id-1 label.sk-toggleable__label {\n",
              "  cursor: pointer;\n",
              "  display: flex;\n",
              "  width: 100%;\n",
              "  margin-bottom: 0;\n",
              "  padding: 0.5em;\n",
              "  box-sizing: border-box;\n",
              "  text-align: center;\n",
              "  align-items: start;\n",
              "  justify-content: space-between;\n",
              "  gap: 0.5em;\n",
              "}\n",
              "\n",
              "#sk-container-id-1 label.sk-toggleable__label .caption {\n",
              "  font-size: 0.6rem;\n",
              "  font-weight: lighter;\n",
              "  color: var(--sklearn-color-text-muted);\n",
              "}\n",
              "\n",
              "#sk-container-id-1 label.sk-toggleable__label-arrow:before {\n",
              "  /* Arrow on the left of the label */\n",
              "  content: \"▸\";\n",
              "  float: left;\n",
              "  margin-right: 0.25em;\n",
              "  color: var(--sklearn-color-icon);\n",
              "}\n",
              "\n",
              "#sk-container-id-1 label.sk-toggleable__label-arrow:hover:before {\n",
              "  color: var(--sklearn-color-text);\n",
              "}\n",
              "\n",
              "/* Toggleable content - dropdown */\n",
              "\n",
              "#sk-container-id-1 div.sk-toggleable__content {\n",
              "  max-height: 0;\n",
              "  max-width: 0;\n",
              "  overflow: hidden;\n",
              "  text-align: left;\n",
              "  /* unfitted */\n",
              "  background-color: var(--sklearn-color-unfitted-level-0);\n",
              "}\n",
              "\n",
              "#sk-container-id-1 div.sk-toggleable__content.fitted {\n",
              "  /* fitted */\n",
              "  background-color: var(--sklearn-color-fitted-level-0);\n",
              "}\n",
              "\n",
              "#sk-container-id-1 div.sk-toggleable__content pre {\n",
              "  margin: 0.2em;\n",
              "  border-radius: 0.25em;\n",
              "  color: var(--sklearn-color-text);\n",
              "  /* unfitted */\n",
              "  background-color: var(--sklearn-color-unfitted-level-0);\n",
              "}\n",
              "\n",
              "#sk-container-id-1 div.sk-toggleable__content.fitted pre {\n",
              "  /* unfitted */\n",
              "  background-color: var(--sklearn-color-fitted-level-0);\n",
              "}\n",
              "\n",
              "#sk-container-id-1 input.sk-toggleable__control:checked~div.sk-toggleable__content {\n",
              "  /* Expand drop-down */\n",
              "  max-height: 200px;\n",
              "  max-width: 100%;\n",
              "  overflow: auto;\n",
              "}\n",
              "\n",
              "#sk-container-id-1 input.sk-toggleable__control:checked~label.sk-toggleable__label-arrow:before {\n",
              "  content: \"▾\";\n",
              "}\n",
              "\n",
              "/* Pipeline/ColumnTransformer-specific style */\n",
              "\n",
              "#sk-container-id-1 div.sk-label input.sk-toggleable__control:checked~label.sk-toggleable__label {\n",
              "  color: var(--sklearn-color-text);\n",
              "  background-color: var(--sklearn-color-unfitted-level-2);\n",
              "}\n",
              "\n",
              "#sk-container-id-1 div.sk-label.fitted input.sk-toggleable__control:checked~label.sk-toggleable__label {\n",
              "  background-color: var(--sklearn-color-fitted-level-2);\n",
              "}\n",
              "\n",
              "/* Estimator-specific style */\n",
              "\n",
              "/* Colorize estimator box */\n",
              "#sk-container-id-1 div.sk-estimator input.sk-toggleable__control:checked~label.sk-toggleable__label {\n",
              "  /* unfitted */\n",
              "  background-color: var(--sklearn-color-unfitted-level-2);\n",
              "}\n",
              "\n",
              "#sk-container-id-1 div.sk-estimator.fitted input.sk-toggleable__control:checked~label.sk-toggleable__label {\n",
              "  /* fitted */\n",
              "  background-color: var(--sklearn-color-fitted-level-2);\n",
              "}\n",
              "\n",
              "#sk-container-id-1 div.sk-label label.sk-toggleable__label,\n",
              "#sk-container-id-1 div.sk-label label {\n",
              "  /* The background is the default theme color */\n",
              "  color: var(--sklearn-color-text-on-default-background);\n",
              "}\n",
              "\n",
              "/* On hover, darken the color of the background */\n",
              "#sk-container-id-1 div.sk-label:hover label.sk-toggleable__label {\n",
              "  color: var(--sklearn-color-text);\n",
              "  background-color: var(--sklearn-color-unfitted-level-2);\n",
              "}\n",
              "\n",
              "/* Label box, darken color on hover, fitted */\n",
              "#sk-container-id-1 div.sk-label.fitted:hover label.sk-toggleable__label.fitted {\n",
              "  color: var(--sklearn-color-text);\n",
              "  background-color: var(--sklearn-color-fitted-level-2);\n",
              "}\n",
              "\n",
              "/* Estimator label */\n",
              "\n",
              "#sk-container-id-1 div.sk-label label {\n",
              "  font-family: monospace;\n",
              "  font-weight: bold;\n",
              "  display: inline-block;\n",
              "  line-height: 1.2em;\n",
              "}\n",
              "\n",
              "#sk-container-id-1 div.sk-label-container {\n",
              "  text-align: center;\n",
              "}\n",
              "\n",
              "/* Estimator-specific */\n",
              "#sk-container-id-1 div.sk-estimator {\n",
              "  font-family: monospace;\n",
              "  border: 1px dotted var(--sklearn-color-border-box);\n",
              "  border-radius: 0.25em;\n",
              "  box-sizing: border-box;\n",
              "  margin-bottom: 0.5em;\n",
              "  /* unfitted */\n",
              "  background-color: var(--sklearn-color-unfitted-level-0);\n",
              "}\n",
              "\n",
              "#sk-container-id-1 div.sk-estimator.fitted {\n",
              "  /* fitted */\n",
              "  background-color: var(--sklearn-color-fitted-level-0);\n",
              "}\n",
              "\n",
              "/* on hover */\n",
              "#sk-container-id-1 div.sk-estimator:hover {\n",
              "  /* unfitted */\n",
              "  background-color: var(--sklearn-color-unfitted-level-2);\n",
              "}\n",
              "\n",
              "#sk-container-id-1 div.sk-estimator.fitted:hover {\n",
              "  /* fitted */\n",
              "  background-color: var(--sklearn-color-fitted-level-2);\n",
              "}\n",
              "\n",
              "/* Specification for estimator info (e.g. \"i\" and \"?\") */\n",
              "\n",
              "/* Common style for \"i\" and \"?\" */\n",
              "\n",
              ".sk-estimator-doc-link,\n",
              "a:link.sk-estimator-doc-link,\n",
              "a:visited.sk-estimator-doc-link {\n",
              "  float: right;\n",
              "  font-size: smaller;\n",
              "  line-height: 1em;\n",
              "  font-family: monospace;\n",
              "  background-color: var(--sklearn-color-background);\n",
              "  border-radius: 1em;\n",
              "  height: 1em;\n",
              "  width: 1em;\n",
              "  text-decoration: none !important;\n",
              "  margin-left: 0.5em;\n",
              "  text-align: center;\n",
              "  /* unfitted */\n",
              "  border: var(--sklearn-color-unfitted-level-1) 1pt solid;\n",
              "  color: var(--sklearn-color-unfitted-level-1);\n",
              "}\n",
              "\n",
              ".sk-estimator-doc-link.fitted,\n",
              "a:link.sk-estimator-doc-link.fitted,\n",
              "a:visited.sk-estimator-doc-link.fitted {\n",
              "  /* fitted */\n",
              "  border: var(--sklearn-color-fitted-level-1) 1pt solid;\n",
              "  color: var(--sklearn-color-fitted-level-1);\n",
              "}\n",
              "\n",
              "/* On hover */\n",
              "div.sk-estimator:hover .sk-estimator-doc-link:hover,\n",
              ".sk-estimator-doc-link:hover,\n",
              "div.sk-label-container:hover .sk-estimator-doc-link:hover,\n",
              ".sk-estimator-doc-link:hover {\n",
              "  /* unfitted */\n",
              "  background-color: var(--sklearn-color-unfitted-level-3);\n",
              "  color: var(--sklearn-color-background);\n",
              "  text-decoration: none;\n",
              "}\n",
              "\n",
              "div.sk-estimator.fitted:hover .sk-estimator-doc-link.fitted:hover,\n",
              ".sk-estimator-doc-link.fitted:hover,\n",
              "div.sk-label-container:hover .sk-estimator-doc-link.fitted:hover,\n",
              ".sk-estimator-doc-link.fitted:hover {\n",
              "  /* fitted */\n",
              "  background-color: var(--sklearn-color-fitted-level-3);\n",
              "  color: var(--sklearn-color-background);\n",
              "  text-decoration: none;\n",
              "}\n",
              "\n",
              "/* Span, style for the box shown on hovering the info icon */\n",
              ".sk-estimator-doc-link span {\n",
              "  display: none;\n",
              "  z-index: 9999;\n",
              "  position: relative;\n",
              "  font-weight: normal;\n",
              "  right: .2ex;\n",
              "  padding: .5ex;\n",
              "  margin: .5ex;\n",
              "  width: min-content;\n",
              "  min-width: 20ex;\n",
              "  max-width: 50ex;\n",
              "  color: var(--sklearn-color-text);\n",
              "  box-shadow: 2pt 2pt 4pt #999;\n",
              "  /* unfitted */\n",
              "  background: var(--sklearn-color-unfitted-level-0);\n",
              "  border: .5pt solid var(--sklearn-color-unfitted-level-3);\n",
              "}\n",
              "\n",
              ".sk-estimator-doc-link.fitted span {\n",
              "  /* fitted */\n",
              "  background: var(--sklearn-color-fitted-level-0);\n",
              "  border: var(--sklearn-color-fitted-level-3);\n",
              "}\n",
              "\n",
              ".sk-estimator-doc-link:hover span {\n",
              "  display: block;\n",
              "}\n",
              "\n",
              "/* \"?\"-specific style due to the `<a>` HTML tag */\n",
              "\n",
              "#sk-container-id-1 a.estimator_doc_link {\n",
              "  float: right;\n",
              "  font-size: 1rem;\n",
              "  line-height: 1em;\n",
              "  font-family: monospace;\n",
              "  background-color: var(--sklearn-color-background);\n",
              "  border-radius: 1rem;\n",
              "  height: 1rem;\n",
              "  width: 1rem;\n",
              "  text-decoration: none;\n",
              "  /* unfitted */\n",
              "  color: var(--sklearn-color-unfitted-level-1);\n",
              "  border: var(--sklearn-color-unfitted-level-1) 1pt solid;\n",
              "}\n",
              "\n",
              "#sk-container-id-1 a.estimator_doc_link.fitted {\n",
              "  /* fitted */\n",
              "  border: var(--sklearn-color-fitted-level-1) 1pt solid;\n",
              "  color: var(--sklearn-color-fitted-level-1);\n",
              "}\n",
              "\n",
              "/* On hover */\n",
              "#sk-container-id-1 a.estimator_doc_link:hover {\n",
              "  /* unfitted */\n",
              "  background-color: var(--sklearn-color-unfitted-level-3);\n",
              "  color: var(--sklearn-color-background);\n",
              "  text-decoration: none;\n",
              "}\n",
              "\n",
              "#sk-container-id-1 a.estimator_doc_link.fitted:hover {\n",
              "  /* fitted */\n",
              "  background-color: var(--sklearn-color-fitted-level-3);\n",
              "}\n",
              "</style><div id=\"sk-container-id-1\" class=\"sk-top-container\"><div class=\"sk-text-repr-fallback\"><pre>LinearDiscriminantAnalysis()</pre><b>In a Jupyter environment, please rerun this cell to show the HTML representation or trust the notebook. <br />On GitHub, the HTML representation is unable to render, please try loading this page with nbviewer.org.</b></div><div class=\"sk-container\" hidden><div class=\"sk-item\"><div class=\"sk-estimator fitted sk-toggleable\"><input class=\"sk-toggleable__control sk-hidden--visually\" id=\"sk-estimator-id-1\" type=\"checkbox\" checked><label for=\"sk-estimator-id-1\" class=\"sk-toggleable__label fitted sk-toggleable__label-arrow\"><div><div>LinearDiscriminantAnalysis</div></div><div><a class=\"sk-estimator-doc-link fitted\" rel=\"noreferrer\" target=\"_blank\" href=\"https://scikit-learn.org/1.6/modules/generated/sklearn.discriminant_analysis.LinearDiscriminantAnalysis.html\">?<span>Documentation for LinearDiscriminantAnalysis</span></a><span class=\"sk-estimator-doc-link fitted\">i<span>Fitted</span></span></div></label><div class=\"sk-toggleable__content fitted\"><pre>LinearDiscriminantAnalysis()</pre></div> </div></div></div></div>"
            ]
          },
          "metadata": {},
          "execution_count": 8
        }
      ],
      "source": [
        "Fisher.fit(X_Train,y_Train)"
      ]
    },
    {
      "cell_type": "markdown",
      "metadata": {
        "id": "Kx12xZgorKuh"
      },
      "source": [
        "We can plot the output, comparing signal and background:"
      ]
    },
    {
      "cell_type": "code",
      "execution_count": 9,
      "metadata": {
        "colab": {
          "base_uri": "https://localhost:8080/",
          "height": 430
        },
        "id": "RcDySWa7rKuh",
        "outputId": "26015fb2-8434-47ba-e288-27299d9fdb93"
      },
      "outputs": [
        {
          "output_type": "display_data",
          "data": {
            "text/plain": [
              "<Figure size 640x480 with 1 Axes>"
            ],
            "image/png": "[encoded data removed]"
          },
          "metadata": {}
        }
      ],
      "source": [
        "plt.figure()\n",
        "plt.hist(Fisher.decision_function(Test_sig[VarNames[1:]]),bins=100,histtype=\"step\", color=\"blue\", label=\"signal\",stacked=True)\n",
        "plt.hist(Fisher.decision_function(Test_bkg[VarNames[1:]]),bins=100,histtype=\"step\", color=\"red\", label=\"background\",stacked=True)\n",
        "plt.legend(loc='upper right')\n",
        "plt.show()"
      ]
    },
    {
      "cell_type": "markdown",
      "metadata": {
        "id": "2ML7Ao-2rKui"
      },
      "source": [
        "#### Part a\n",
        "\n",
        "Compare ROC curves computed on the test versus training samples, in a single plot. Do you see a bias?"
      ]
    },
    {
      "cell_type": "code",
      "source": [
        "from sklearn.metrics import roc_curve, auc\n",
        "import matplotlib.pyplot as plt\n",
        "\n",
        "# Compute ROC curve and AUC for the training set\n",
        "fpr_train, tpr_train, _ = roc_curve(y_Train, Fisher.decision_function(X_Train))\n",
        "auc_train = auc(fpr_train, tpr_train)\n",
        "\n",
        "# Compute ROC curve and AUC for the test set\n",
        "fpr_test, tpr_test, _ = roc_curve(y_Test, Fisher.decision_function(X_Test))\n",
        "auc_test = auc(fpr_test, tpr_test)\n",
        "\n",
        "# Plot ROC curves\n",
        "plt.figure()\n",
        "plt.plot(fpr_train, tpr_train, label=f\"Train ROC (AUC = {auc_train:.3f})\")\n",
        "plt.plot(fpr_test, tpr_test, label=f\"Test ROC (AUC = {auc_test:.3f})\")\n",
        "plt.xlabel(\"False Positive Rate\")\n",
        "plt.ylabel(\"True Positive Rate\")\n",
        "plt.title(\"ROC Curve: Train vs Test\")\n",
        "plt.legend()\n",
        "plt.grid()\n",
        "plt.show()\n"
      ],
      "metadata": {
        "colab": {
          "base_uri": "https://localhost:8080/",
          "height": 472
        },
        "id": "Fl2KuBQNyhFe",
        "outputId": "4ea5a114-1503-4551-d528-8ae545830e16"
      },
      "execution_count": 10,
      "outputs": [
        {
          "output_type": "display_data",
          "data": {
            "text/plain": [
              "<Figure size 640x480 with 1 Axes>"
            ],
            "image/png": "[encoded data removed]"
          },
          "metadata": {}
        }
      ]
    },
    {
      "cell_type": "markdown",
      "source": [
        "### Explanation:\n",
        "\n",
        "I compare the ROC curves for the training and test datasets. Since both curves overlap almost perfectly and have the same AUC score (~0.836), this indicates that the model generalizes well and is not overfitting to the training data.\n",
        "\n"
      ],
      "metadata": {
        "id": "GdHe2lK33ned"
      }
    },
    {
      "cell_type": "markdown",
      "metadata": {
        "id": "TbCGg6L0rKui"
      },
      "source": [
        "#### Part b\n",
        "\n",
        "Train the Fisher performance of using the raw, features, and raw+features as input. Compare the performance one a single plot."
      ]
    },
    {
      "cell_type": "code",
      "source": [
        "RawNames = [\"l_1_pT\", \"l_1_eta\", \"l_1_phi\",\n",
        "            \"l_2_pT\", \"l_2_eta\", \"l_2_phi\",\n",
        "            \"MET\", \"MET_phi\"]\n",
        "\n",
        "FeatureNames = list(set(VarNames[1:]).difference(RawNames))\n"
      ],
      "metadata": {
        "id": "2WxzrLbp2lZU"
      },
      "execution_count": 11,
      "outputs": []
    },
    {
      "cell_type": "code",
      "source": [
        "# Define input sets\n",
        "X_raw = df[RawNames]\n",
        "X_feat = df[FeatureNames]\n",
        "X_all = df[VarNames[1:]]\n",
        "\n",
        "# Define output\n",
        "y_all = df[\"signal\"]\n",
        "\n",
        "# Split into training and testing\n",
        "X_raw_train = X_raw[:N_Train]\n",
        "X_raw_test  = X_raw[N_Train:]\n",
        "X_feat_train = X_feat[:N_Train]\n",
        "X_feat_test  = X_feat[N_Train:]\n",
        "X_all_train = X_all[:N_Train]\n",
        "X_all_test  = X_all[N_Train:]\n",
        "y_train = y_all[:N_Train]\n",
        "y_test  = y_all[N_Train:]\n",
        "\n",
        "# Train 3 models\n",
        "lda_raw = DA.LinearDiscriminantAnalysis()\n",
        "lda_feat = DA.LinearDiscriminantAnalysis()\n",
        "lda_all = DA.LinearDiscriminantAnalysis()\n",
        "\n",
        "lda_raw.fit(X_raw_train, y_train)\n",
        "lda_feat.fit(X_feat_train, y_train)\n",
        "lda_all.fit(X_all_train, y_train)\n",
        "\n",
        "# Compute ROC and AUC for all 3\n",
        "fpr_raw, tpr_raw, _ = roc_curve(y_test, lda_raw.decision_function(X_raw_test))\n",
        "auc_raw = auc(fpr_raw, tpr_raw)\n",
        "\n",
        "fpr_feat, tpr_feat, _ = roc_curve(y_test, lda_feat.decision_function(X_feat_test))\n",
        "auc_feat = auc(fpr_feat, tpr_feat)\n",
        "\n",
        "fpr_all, tpr_all, _ = roc_curve(y_test, lda_all.decision_function(X_all_test))\n",
        "auc_all = auc(fpr_all, tpr_all)\n",
        "\n",
        "# Plot all on one figure\n",
        "plt.figure()\n",
        "plt.plot(fpr_raw, tpr_raw, label=f\"Raw Only (AUC = {auc_raw:.3f})\")\n",
        "plt.plot(fpr_feat, tpr_feat, label=f\"Features Only (AUC = {auc_feat:.3f})\")\n",
        "plt.plot(fpr_all, tpr_all, label=f\"All Inputs (AUC = {auc_all:.3f})\")\n",
        "plt.xlabel(\"False Positive Rate\")\n",
        "plt.ylabel(\"True Positive Rate\")\n",
        "plt.title(\"ROC Comparison: Raw vs Features vs All\")\n",
        "plt.legend()\n",
        "plt.grid()\n",
        "plt.show()\n"
      ],
      "metadata": {
        "colab": {
          "base_uri": "https://localhost:8080/",
          "height": 472
        },
        "id": "O5xRfGAnzzSG",
        "outputId": "74abd2f5-6d40-4945-852f-46cc280dd8e2"
      },
      "execution_count": 12,
      "outputs": [
        {
          "output_type": "display_data",
          "data": {
            "text/plain": [
              "<Figure size 640x480 with 1 Axes>"
            ],
            "image/png": "[encoded data removed]"
          },
          "metadata": {}
        }
      ]
    },
    {
      "cell_type": "markdown",
      "source": [
        "### Explanation:\n",
        "I trained the LDA classifier using three different input sets: raw variables, derived features, and a combination of both. The AUC was highest when using all inputs (0.836), slightly better than using only raw inputs (0.833). The features-only model performed slightly worse (0.823), likely because it lacks some of the low-level information present in the raw inputs.\n"
      ],
      "metadata": {
        "id": "jRSlKKtu3xeV"
      }
    },
    {
      "cell_type": "markdown",
      "metadata": {
        "id": "-S_F0y1mrKui"
      },
      "source": [
        "### Exercise 4: Comparing Techniques\n",
        "\n",
        "#### Part a\n",
        "Select 3 different classifiers from the techniques listed [here](http://scikit-learn.org/stable/supervised_learning.html#supervised-learning) to compare. Note that you can use the multi-layer perceptron to build a deep network, though training may be prohibitively slow. So avoid this technique.\n",
        "\n",
        "#### Part b\n",
        "\n",
        "Write a function that takes an instantiated classifier and performs the comparison from part 3b. Use the function on your choice of functions in part a.\n",
        "\n",
        "#### Part c\n",
        "\n",
        "Use the best method from part c to compute the maximal significance $\\sigma_S= \\frac{N_S}{\\sqrt{N_S+N_B}}$ for the scenarios in lab 5."
      ]
    },
    {
      "cell_type": "code",
      "source": [
        "# part a\n",
        "# Import classifiers\n",
        "from sklearn.linear_model import LogisticRegression, SGDClassifier\n",
        "from sklearn.naive_bayes import GaussianNB\n",
        "\n",
        "# Define the classifiers to be compared\n",
        "models = [\n",
        "    (LogisticRegression(max_iter=1000), \"Logistic Regression\"),\n",
        "    (SGDClassifier(loss='log_loss', max_iter=1000, random_state=42), \"SGD Classifier\"),\n",
        "    (GaussianNB(), \"Naive Bayes (Gaussian)\")\n",
        "]"
      ],
      "metadata": {
        "id": "lHP0xsVI5IZE"
      },
      "execution_count": 13,
      "outputs": []
    },
    {
      "cell_type": "markdown",
      "source": [
        "### Explanation- part a\n",
        "In this part, I import and define three fast and commonly used classification algorithms to compare their performance on the SUSY dataset:\n",
        "\n",
        "- **Logistic Regression** – A linear model widely used as a strong baseline for classification tasks.\n",
        "\n",
        "- **SGD Classifier** – A linear model trained using Stochastic Gradient Descent. When used with 'log_loss', it behaves similarly to logistic regression but is highly scalable to large datasets.\n",
        "\n",
        "- **Gaussian Naive Bayes** – A probabilistic classifier based on applying Bayes’ theorem with the assumption of feature independence and Gaussian distribution. It's extremely fast to train and predict.\n",
        "\n",
        "These models were selected due to their high speed, suitability for large datasets, and their ability to produce probability scores for ROC and AUC evaluation."
      ],
      "metadata": {
        "id": "pP-uj8hcIRca"
      }
    },
    {
      "cell_type": "code",
      "source": [
        "# part b\n",
        "from sklearn.metrics import roc_curve, auc\n",
        "\n",
        "# This function takes a model and evaluates it using ROC and AUC\n",
        "def evaluate_classifier(model, X_train, X_test, y_train, y_test, label=\"\"):\n",
        "    # Train the model\n",
        "    model.fit(X_train, y_train)\n",
        "\n",
        "    # Get predicted scores using decision_function or predict_proba\n",
        "    if hasattr(model, \"decision_function\"):\n",
        "        y_score = model.decision_function(X_test)\n",
        "    else:\n",
        "        y_score = model.predict_proba(X_test)[:, 1]\n",
        "    fpr, tpr, _ = roc_curve(y_test, y_score)\n",
        "    auc_score = auc(fpr, tpr)\n",
        "    return fpr, tpr, auc_score, y_score, label"
      ],
      "metadata": {
        "id": "Cg0oRRnK5KaZ"
      },
      "execution_count": 15,
      "outputs": []
    },
    {
      "cell_type": "markdown",
      "source": [
        "### Explanation- part b\n",
        "This section defines the evaluate_classifier function, which:\n",
        "\n",
        "- Trains each classifier using the provided training data.\n",
        "\n",
        "- Computes prediction scores using either decision_function or predict_proba, depending on the model.\n",
        "\n",
        "- Calculates the Receiver Operating Characteristic (ROC) curve, showing the trade-off between true positive rate and false positive rate.\n",
        "\n",
        "- Computes the Area Under the Curve (AUC) as a single scalar value summarizing classifier performance — the higher the AUC, the better the model is at ranking positive instances higher than negatives.\n",
        "\n",
        "This function is key to understanding the discriminatory power of each classifier."
      ],
      "metadata": {
        "id": "OHg93qMWIhvN"
      }
    },
    {
      "cell_type": "code",
      "source": [
        "# part c\n",
        "import numpy as np\n",
        "# Function to compute significance σ = Ns / sqrt(Ns + Nb)\n",
        "def compute_significance(y_score, y_true, threshold=0.5):\n",
        "    # Convert score to binary prediction based on threshold\n",
        "    y_pred = (y_score >= threshold).astype(int)\n",
        "\n",
        "    # Count number of predicted signal and background\n",
        "    N_S = np.sum((y_true == 1) & (y_pred == 1))  # True positives\n",
        "    N_B = np.sum((y_true == 0) & (y_pred == 1))  # False positives\n",
        "\n",
        "    # Avoid divide-by-zero\n",
        "    if N_S + N_B == 0:\n",
        "        return 0, N_S, N_B\n",
        "\n",
        "    # Compute statistical significance\n",
        "    sigma = N_S / np.sqrt(N_S + N_B)\n",
        "    return sigma, N_S, N_B"
      ],
      "metadata": {
        "id": "4uvszZz15Oo5"
      },
      "execution_count": 16,
      "outputs": []
    },
    {
      "cell_type": "markdown",
      "source": [
        "### Explanation- part c\n",
        "\n",
        "In this part, I assessed how well each classifier distinguishes signal events from background using a physics-inspired metric called statistical significance.\n",
        "\n",
        "The goal was not just to evaluate the classifier's accuracy, but to measure how confidently it can identify rare signal events while minimizing false positives from background data.\n",
        "\n",
        "To do this:\n",
        "\n",
        "- I converted the predicted scores into binary predictions using a threshold (typically 0.5).\n",
        "\n",
        "Then, I counted:\n",
        "\n",
        "- The number of correctly predicted signal events (true positives)\n",
        "\n",
        "- The number of background events that were incorrectly classified as signal (false positives)\n",
        "\n",
        "- Based on these values, I computed a significance score, which increases when the model finds more true signals with fewer false detections.\n",
        "\n",
        "This metric is especially useful in scientific applications, such as particle physics, where the challenge is to detect a small number of important signal events hidden within a much larger background.\n",
        "\n",
        "For each classifier, I printed:\n",
        "\n",
        "- The significance score\n",
        "\n",
        "- The number of signal events it correctly identified\n",
        "\n",
        "- The number of background events it misclassified\n",
        "\n",
        "This approach complements the ROC and AUC evaluation by adding a more domain-specific perspective on model performance."
      ],
      "metadata": {
        "id": "xx_v9Dx_JKYI"
      }
    },
    {
      "cell_type": "code",
      "source": [
        "# Import matplotlib for plotting\n",
        "import matplotlib.pyplot as plt\n",
        "\n",
        "# Create a new figure for the ROC plot\n",
        "plt.figure()\n",
        "\n",
        "# Loop through each classifier model and label\n",
        "for model, label in models:\n",
        "    # Train and evaluate the classifier\n",
        "    # Returns ROC curve (fpr, tpr), AUC score, prediction scores\n",
        "    fpr, tpr, auc_score, y_score, _ = evaluate_classifier(\n",
        "        model, X_Train, X_Test, y_Train, y_Test, label)\n",
        "\n",
        "    # Plot the ROC curve with the AUC in the legend\n",
        "    plt.plot(fpr, tpr, label=f\"{label} (AUC = {auc_score:.3f})\")\n",
        "\n",
        "    # Compute significance based on threshold (default 0.5)\n",
        "    sigma, N_S, N_B = compute_significance(y_score, y_Test, threshold=0.5)\n",
        "\n",
        "    # Print the statistical significance and number of signal/background events\n",
        "    print(f\"{label}: Significance σ = {sigma:.3f}, Ns = {N_S}, Nb = {N_B}\")\n",
        "\n",
        "# Label the plot axes\n",
        "plt.xlabel(\"False Positive Rate\")\n",
        "plt.ylabel(\"True Positive Rate\")\n",
        "plt.title(\"ROC Comparison of Fast Classifiers (No Shuffle, Full Data)\")\n",
        "\n",
        "# Show legend and grid for better readability\n",
        "plt.legend()\n",
        "plt.grid()\n",
        "\n",
        "# Display the plot\n",
        "plt.show()\n"
      ],
      "metadata": {
        "colab": {
          "base_uri": "https://localhost:8080/",
          "height": 524
        },
        "id": "n67F7836FWN9",
        "outputId": "c92c575d-9fac-4204-914e-0e3500bc8d2a"
      },
      "execution_count": 18,
      "outputs": [
        {
          "output_type": "stream",
          "name": "stdout",
          "text": [
            "Logistic Regression: Significance σ = 487.195, Ns = 268129, Nb = 34759\n",
            "SGD Classifier: Significance σ = 483.994, Ns = 262813, Nb = 32045\n",
            "Naive Bayes (Gaussian): Significance σ = 452.609, Ns = 253626, Nb = 60382\n"
          ]
        },
        {
          "output_type": "display_data",
          "data": {
            "text/plain": [
              "<Figure size 640x480 with 1 Axes>"
            ],
            "image/png": "[encoded data removed]"
          },
          "metadata": {}
        }
      ]
    },
    {
      "cell_type": "markdown",
      "source": [
        "### Final Output\n",
        "\n",
        "The plot generated compares all three classifiers visually through ROC curves, and prints:\n",
        "\n",
        "AUC values for quantitative performance comparison.\n",
        "\n",
        "Significance (σ) values to assess the classifiers’ utility in signal detection contexts."
      ],
      "metadata": {
        "id": "vL31-uOHJQ2s"
      }
    },
    {
      "cell_type": "markdown",
      "metadata": {
        "id": "Gb6ASuCcrKui"
      },
      "source": [
        "### Exercise 5: Metrics\n",
        "\n",
        "Scikit-learn provides methods for computing the FPR, TPR, ROC, AUC metrics. For example:"
      ]
    },
    {
      "cell_type": "code",
      "execution_count": null,
      "metadata": {
        "id": "SeCTZJU8rKuj"
      },
      "outputs": [],
      "source": [
        "from sklearn.metrics import roc_curve, auc\n",
        "fpr, tpr, _ = roc_curve(y_Test, Fisher.decision_function(X_Test))\n",
        "\n",
        "roc_auc = auc(fpr, tpr)\n",
        "\n",
        "plt.plot(fpr,tpr,color='darkorange',label='ROC curve (area = %0.2f)' % roc_auc)\n",
        "plt.legend(loc=\"lower right\")\n",
        "plt.xlabel('False Positive Rate')\n",
        "plt.ylabel('True Positive Rate')\n",
        "\n",
        "plt.show()"
      ]
    },
    {
      "cell_type": "markdown",
      "metadata": {
        "id": "kGngMs4yrKuj"
      },
      "source": [
        "\n",
        "#### Part a\n",
        "TPR/FPR/ROC/AUC are one way of assessing the quality of a classifier. Read about [Precision and Recall](https://en.wikipedia.org/wiki/Precision_and_recall), [Accuracy](https://en.wikipedia.org/wiki/Accuracy_and_precision), and [F-score](https://en.wikipedia.org/wiki/F-score).\n",
        "\n",
        "#### Part b\n",
        "Look through [model evaluation](https://scikit-learn.org/stable/modules/model_evaluation.html#) documentation. Using scikit-learns tools, compute TPR, FPR, ROC, AUC, Precision, Recall, F1 score, and accuracy for the method you selected in 4c above and each scenario. Make a nice table, which also includes the maximal significance.\n"
      ]
    },
    {
      "cell_type": "markdown",
      "source": [
        "### Part a – Metric Concepts Summary\n",
        "\n",
        "To evaluate the performance of a classifier, I reviewed several key metrics:\n",
        "\n",
        "- **True Positive Rate (TPR)**: The proportion of actual positives correctly predicted as positive.\n",
        "- **False Positive Rate (FPR)**: The proportion of actual negatives incorrectly predicted as positive.\n",
        "- **ROC Curve**: A graphical plot showing the trade-off between TPR and FPR at various thresholds.\n",
        "- **AUC**: The area under the ROC curve; a higher AUC indicates better overall performance.\n",
        "- **Precision**: The proportion of predicted positives that are actually positive.\n",
        "- **Accuracy**: The proportion of all correct predictions among total predictions.\n",
        "- **F1 Score**: The harmonic mean of precision and recall, useful when dealing with class imbalance.\n",
        "\n",
        "These metrics provide different perspectives on model performance, especially in imbalanced datasets like SUSY."
      ],
      "metadata": {
        "id": "NvyDNoz1LFfz"
      }
    },
    {
      "cell_type": "code",
      "execution_count": 19,
      "metadata": {
        "id": "6oALNiQBrKuj",
        "colab": {
          "base_uri": "https://localhost:8080/",
          "height": 332
        },
        "outputId": "bdcc6110-8918-44a4-d07b-3e8158a06c80"
      },
      "outputs": [
        {
          "output_type": "execute_result",
          "data": {
            "text/plain": [
              "           Metric          Value\n",
              "0        Accuracy       0.775137\n",
              "1       Precision       0.885241\n",
              "2    Recall (TPR)       0.585137\n",
              "3        F1 Score       0.704563\n",
              "4             FPR       0.064159\n",
              "5             AUC       0.858159\n",
              "6  Significance σ     487.194924\n",
              "7              Ns  268129.000000\n",
              "8              Nb   34759.000000"
            ],
            "text/html": [
              "\n",
              "  <div id=\"df-692a149c-aff2-4030-a2ef-5af66fb7c52c\" class=\"colab-df-container\">\n",
              "    <div>\n",
              "<style scoped>\n",
              "    .dataframe tbody tr th:only-of-type {\n",
              "        vertical-align: middle;\n",
              "    }\n",
              "\n",
              "    .dataframe tbody tr th {\n",
              "        vertical-align: top;\n",
              "    }\n",
              "\n",
              "    .dataframe thead th {\n",
              "        text-align: right;\n",
              "    }\n",
              "</style>\n",
              "<table border=\"1\" class=\"dataframe\">\n",
              "  <thead>\n",
              "    <tr style=\"text-align: right;\">\n",
              "      <th></th>\n",
              "      <th>Metric</th>\n",
              "      <th>Value</th>\n",
              "    </tr>\n",
              "  </thead>\n",
              "  <tbody>\n",
              "    <tr>\n",
              "      <th>0</th>\n",
              "      <td>Accuracy</td>\n",
              "      <td>0.775137</td>\n",
              "    </tr>\n",
              "    <tr>\n",
              "      <th>1</th>\n",
              "      <td>Precision</td>\n",
              "      <td>0.885241</td>\n",
              "    </tr>\n",
              "    <tr>\n",
              "      <th>2</th>\n",
              "      <td>Recall (TPR)</td>\n",
              "      <td>0.585137</td>\n",
              "    </tr>\n",
              "    <tr>\n",
              "      <th>3</th>\n",
              "      <td>F1 Score</td>\n",
              "      <td>0.704563</td>\n",
              "    </tr>\n",
              "    <tr>\n",
              "      <th>4</th>\n",
              "      <td>FPR</td>\n",
              "      <td>0.064159</td>\n",
              "    </tr>\n",
              "    <tr>\n",
              "      <th>5</th>\n",
              "      <td>AUC</td>\n",
              "      <td>0.858159</td>\n",
              "    </tr>\n",
              "    <tr>\n",
              "      <th>6</th>\n",
              "      <td>Significance σ</td>\n",
              "      <td>487.194924</td>\n",
              "    </tr>\n",
              "    <tr>\n",
              "      <th>7</th>\n",
              "      <td>Ns</td>\n",
              "      <td>268129.000000</td>\n",
              "    </tr>\n",
              "    <tr>\n",
              "      <th>8</th>\n",
              "      <td>Nb</td>\n",
              "      <td>34759.000000</td>\n",
              "    </tr>\n",
              "  </tbody>\n",
              "</table>\n",
              "</div>\n",
              "    <div class=\"colab-df-buttons\">\n",
              "\n",
              "  <div class=\"colab-df-container\">\n",
              "    <button class=\"colab-df-convert\" onclick=\"convertToInteractive('df-692a149c-aff2-4030-a2ef-5af66fb7c52c')\"\n",
              "            title=\"Convert this dataframe to an interactive table.\"\n",
              "            style=\"display:none;\">\n",
              "\n",
              "  <svg xmlns=\"http://www.w3.org/2000/svg\" height=\"24px\" viewBox=\"0 -960 960 960\">\n",
              "    <path d=\"M120-120v-720h720v720H120Zm60-500h600v-160H180v160Zm220 220h160v-160H400v160Zm0 220h160v-160H400v160ZM180-400h160v-160H180v160Zm440 0h160v-160H620v160ZM180-180h160v-160H180v160Zm440 0h160v-160H620v160Z\"/>\n",
              "  </svg>\n",
              "    </button>\n",
              "\n",
              "  <style>\n",
              "    .colab-df-container {\n",
              "      display:flex;\n",
              "      gap: 12px;\n",
              "    }\n",
              "\n",
              "    .colab-df-convert {\n",
              "      background-color: #E8F0FE;\n",
              "      border: none;\n",
              "      border-radius: 50%;\n",
              "      cursor: pointer;\n",
              "      display: none;\n",
              "      fill: #1967D2;\n",
              "      height: 32px;\n",
              "      padding: 0 0 0 0;\n",
              "      width: 32px;\n",
              "    }\n",
              "\n",
              "    .colab-df-convert:hover {\n",
              "      background-color: #E2EBFA;\n",
              "      box-shadow: 0px 1px 2px rgba(60, 64, 67, 0.3), 0px 1px 3px 1px rgba(60, 64, 67, 0.15);\n",
              "      fill: #174EA6;\n",
              "    }\n",
              "\n",
              "    .colab-df-buttons div {\n",
              "      margin-bottom: 4px;\n",
              "    }\n",
              "\n",
              "    [theme=dark] .colab-df-convert {\n",
              "      background-color: #3B4455;\n",
              "      fill: #D2E3FC;\n",
              "    }\n",
              "\n",
              "    [theme=dark] .colab-df-convert:hover {\n",
              "      background-color: #434B5C;\n",
              "      box-shadow: 0px 1px 3px 1px rgba(0, 0, 0, 0.15);\n",
              "      filter: drop-shadow(0px 1px 2px rgba(0, 0, 0, 0.3));\n",
              "      fill: #FFFFFF;\n",
              "    }\n",
              "  </style>\n",
              "\n",
              "    <script>\n",
              "      const buttonEl =\n",
              "        document.querySelector('#df-692a149c-aff2-4030-a2ef-5af66fb7c52c button.colab-df-convert');\n",
              "      buttonEl.style.display =\n",
              "        google.colab.kernel.accessAllowed ? 'block' : 'none';\n",
              "\n",
              "      async function convertToInteractive(key) {\n",
              "        const element = document.querySelector('#df-692a149c-aff2-4030-a2ef-5af66fb7c52c');\n",
              "        const dataTable =\n",
              "          await google.colab.kernel.invokeFunction('convertToInteractive',\n",
              "                                                    [key], {});\n",
              "        if (!dataTable) return;\n",
              "\n",
              "        const docLinkHtml = 'Like what you see? Visit the ' +\n",
              "          '<a target=\"_blank\" href=https://colab.research.google.com/notebooks/data_table.ipynb>data table notebook</a>'\n",
              "          + ' to learn more about interactive tables.';\n",
              "        element.innerHTML = '';\n",
              "        dataTable['output_type'] = 'display_data';\n",
              "        await google.colab.output.renderOutput(dataTable, element);\n",
              "        const docLink = document.createElement('div');\n",
              "        docLink.innerHTML = docLinkHtml;\n",
              "        element.appendChild(docLink);\n",
              "      }\n",
              "    </script>\n",
              "  </div>\n",
              "\n",
              "\n",
              "<div id=\"df-eef7e86c-86b0-468e-9d19-eb5cd631bc74\">\n",
              "  <button class=\"colab-df-quickchart\" onclick=\"quickchart('df-eef7e86c-86b0-468e-9d19-eb5cd631bc74')\"\n",
              "            title=\"Suggest charts\"\n",
              "            style=\"display:none;\">\n",
              "\n",
              "<svg xmlns=\"http://www.w3.org/2000/svg\" height=\"24px\"viewBox=\"0 0 24 24\"\n",
              "     width=\"24px\">\n",
              "    <g>\n",
              "        <path d=\"M19 3H5c-1.1 0-2 .9-2 2v14c0 1.1.9 2 2 2h14c1.1 0 2-.9 2-2V5c0-1.1-.9-2-2-2zM9 17H7v-7h2v7zm4 0h-2V7h2v10zm4 0h-2v-4h2v4z\"/>\n",
              "    </g>\n",
              "</svg>\n",
              "  </button>\n",
              "\n",
              "<style>\n",
              "  .colab-df-quickchart {\n",
              "      --bg-color: #E8F0FE;\n",
              "      --fill-color: #1967D2;\n",
              "      --hover-bg-color: #E2EBFA;\n",
              "      --hover-fill-color: #174EA6;\n",
              "      --disabled-fill-color: #AAA;\n",
              "      --disabled-bg-color: #DDD;\n",
              "  }\n",
              "\n",
              "  [theme=dark] .colab-df-quickchart {\n",
              "      --bg-color: #3B4455;\n",
              "      --fill-color: #D2E3FC;\n",
              "      --hover-bg-color: #434B5C;\n",
              "      --hover-fill-color: #FFFFFF;\n",
              "      --disabled-bg-color: #3B4455;\n",
              "      --disabled-fill-color: #666;\n",
              "  }\n",
              "\n",
              "  .colab-df-quickchart {\n",
              "    background-color: var(--bg-color);\n",
              "    border: none;\n",
              "    border-radius: 50%;\n",
              "    cursor: pointer;\n",
              "    display: none;\n",
              "    fill: var(--fill-color);\n",
              "    height: 32px;\n",
              "    padding: 0;\n",
              "    width: 32px;\n",
              "  }\n",
              "\n",
              "  .colab-df-quickchart:hover {\n",
              "    background-color: var(--hover-bg-color);\n",
              "    box-shadow: 0 1px 2px rgba(60, 64, 67, 0.3), 0 1px 3px 1px rgba(60, 64, 67, 0.15);\n",
              "    fill: var(--button-hover-fill-color);\n",
              "  }\n",
              "\n",
              "  .colab-df-quickchart-complete:disabled,\n",
              "  .colab-df-quickchart-complete:disabled:hover {\n",
              "    background-color: var(--disabled-bg-color);\n",
              "    fill: var(--disabled-fill-color);\n",
              "    box-shadow: none;\n",
              "  }\n",
              "\n",
              "  .colab-df-spinner {\n",
              "    border: 2px solid var(--fill-color);\n",
              "    border-color: transparent;\n",
              "    border-bottom-color: var(--fill-color);\n",
              "    animation:\n",
              "      spin 1s steps(1) infinite;\n",
              "  }\n",
              "\n",
              "  @keyframes spin {\n",
              "    0% {\n",
              "      border-color: transparent;\n",
              "      border-bottom-color: var(--fill-color);\n",
              "      border-left-color: var(--fill-color);\n",
              "    }\n",
              "    20% {\n",
              "      border-color: transparent;\n",
              "      border-left-color: var(--fill-color);\n",
              "      border-top-color: var(--fill-color);\n",
              "    }\n",
              "    30% {\n",
              "      border-color: transparent;\n",
              "      border-left-color: var(--fill-color);\n",
              "      border-top-color: var(--fill-color);\n",
              "      border-right-color: var(--fill-color);\n",
              "    }\n",
              "    40% {\n",
              "      border-color: transparent;\n",
              "      border-right-color: var(--fill-color);\n",
              "      border-top-color: var(--fill-color);\n",
              "    }\n",
              "    60% {\n",
              "      border-color: transparent;\n",
              "      border-right-color: var(--fill-color);\n",
              "    }\n",
              "    80% {\n",
              "      border-color: transparent;\n",
              "      border-right-color: var(--fill-color);\n",
              "      border-bottom-color: var(--fill-color);\n",
              "    }\n",
              "    90% {\n",
              "      border-color: transparent;\n",
              "      border-bottom-color: var(--fill-color);\n",
              "    }\n",
              "  }\n",
              "</style>\n",
              "\n",
              "  <script>\n",
              "    async function quickchart(key) {\n",
              "      const quickchartButtonEl =\n",
              "        document.querySelector('#' + key + ' button');\n",
              "      quickchartButtonEl.disabled = true;  // To prevent multiple clicks.\n",
              "      quickchartButtonEl.classList.add('colab-df-spinner');\n",
              "      try {\n",
              "        const charts = await google.colab.kernel.invokeFunction(\n",
              "            'suggestCharts', [key], {});\n",
              "      } catch (error) {\n",
              "        console.error('Error during call to suggestCharts:', error);\n",
              "      }\n",
              "      quickchartButtonEl.classList.remove('colab-df-spinner');\n",
              "      quickchartButtonEl.classList.add('colab-df-quickchart-complete');\n",
              "    }\n",
              "    (() => {\n",
              "      let quickchartButtonEl =\n",
              "        document.querySelector('#df-eef7e86c-86b0-468e-9d19-eb5cd631bc74 button');\n",
              "      quickchartButtonEl.style.display =\n",
              "        google.colab.kernel.accessAllowed ? 'block' : 'none';\n",
              "    })();\n",
              "  </script>\n",
              "</div>\n",
              "\n",
              "  <div id=\"id_9cb8fbc3-a217-4431-8f8a-1139860bc89e\">\n",
              "    <style>\n",
              "      .colab-df-generate {\n",
              "        background-color: #E8F0FE;\n",
              "        border: none;\n",
              "        border-radius: 50%;\n",
              "        cursor: pointer;\n",
              "        display: none;\n",
              "        fill: #1967D2;\n",
              "        height: 32px;\n",
              "        padding: 0 0 0 0;\n",
              "        width: 32px;\n",
              "      }\n",
              "\n",
              "      .colab-df-generate:hover {\n",
              "        background-color: #E2EBFA;\n",
              "        box-shadow: 0px 1px 2px rgba(60, 64, 67, 0.3), 0px 1px 3px 1px rgba(60, 64, 67, 0.15);\n",
              "        fill: #174EA6;\n",
              "      }\n",
              "\n",
              "      [theme=dark] .colab-df-generate {\n",
              "        background-color: #3B4455;\n",
              "        fill: #D2E3FC;\n",
              "      }\n",
              "\n",
              "      [theme=dark] .colab-df-generate:hover {\n",
              "        background-color: #434B5C;\n",
              "        box-shadow: 0px 1px 3px 1px rgba(0, 0, 0, 0.15);\n",
              "        filter: drop-shadow(0px 1px 2px rgba(0, 0, 0, 0.3));\n",
              "        fill: #FFFFFF;\n",
              "      }\n",
              "    </style>\n",
              "    <button class=\"colab-df-generate\" onclick=\"generateWithVariable('metrics_table')\"\n",
              "            title=\"Generate code using this dataframe.\"\n",
              "            style=\"display:none;\">\n",
              "\n",
              "  <svg xmlns=\"http://www.w3.org/2000/svg\" height=\"24px\"viewBox=\"0 0 24 24\"\n",
              "       width=\"24px\">\n",
              "    <path d=\"M7,19H8.4L18.45,9,17,7.55,7,17.6ZM5,21V16.75L18.45,3.32a2,2,0,0,1,2.83,0l1.4,1.43a1.91,1.91,0,0,1,.58,1.4,1.91,1.91,0,0,1-.58,1.4L9.25,21ZM18.45,9,17,7.55Zm-12,3A5.31,5.31,0,0,0,4.9,8.1,5.31,5.31,0,0,0,1,6.5,5.31,5.31,0,0,0,4.9,4.9,5.31,5.31,0,0,0,6.5,1,5.31,5.31,0,0,0,8.1,4.9,5.31,5.31,0,0,0,12,6.5,5.46,5.46,0,0,0,6.5,12Z\"/>\n",
              "  </svg>\n",
              "    </button>\n",
              "    <script>\n",
              "      (() => {\n",
              "      const buttonEl =\n",
              "        document.querySelector('#id_9cb8fbc3-a217-4431-8f8a-1139860bc89e button.colab-df-generate');\n",
              "      buttonEl.style.display =\n",
              "        google.colab.kernel.accessAllowed ? 'block' : 'none';\n",
              "\n",
              "      buttonEl.onclick = () => {\n",
              "        google.colab.notebook.generateWithVariable('metrics_table');\n",
              "      }\n",
              "      })();\n",
              "    </script>\n",
              "  </div>\n",
              "\n",
              "    </div>\n",
              "  </div>\n"
            ],
            "application/vnd.google.colaboratory.intrinsic+json": {
              "type": "dataframe",
              "variable_name": "metrics_table",
              "summary": "{\n  \"name\": \"metrics_table\",\n  \"rows\": 9,\n  \"fields\": [\n    {\n      \"column\": \"Metric\",\n      \"properties\": {\n        \"dtype\": \"string\",\n        \"num_unique_values\": 9,\n        \"samples\": [\n          \"Ns\",\n          \"Precision\",\n          \"AUC\"\n        ],\n        \"semantic_type\": \"\",\n        \"description\": \"\"\n      }\n    },\n    {\n      \"column\": \"Value\",\n      \"properties\": {\n        \"dtype\": \"number\",\n        \"std\": 88653.14873978574,\n        \"min\": 0.06415857739581776,\n        \"max\": 268129.0,\n        \"num_unique_values\": 9,\n        \"samples\": [\n          268129.0,\n          0.8852414093658382,\n          0.8581594253103695\n        ],\n        \"semantic_type\": \"\",\n        \"description\": \"\"\n      }\n    }\n  ]\n}"
            }
          },
          "metadata": {},
          "execution_count": 19
        }
      ],
      "source": [
        "# Part b\n",
        "from sklearn.metrics import accuracy_score, precision_score, recall_score, f1_score, roc_auc_score, confusion_matrix\n",
        "\n",
        "# Use best model from Exercise 4 (e.g., Logistic Regression)\n",
        "best_model = LogisticRegression(max_iter=1000)\n",
        "best_model.fit(X_Train, y_Train)\n",
        "\n",
        "# Get predicted probabilities and predicted classes\n",
        "if hasattr(best_model, \"decision_function\"):\n",
        "    y_score = best_model.decision_function(X_Test)\n",
        "else:\n",
        "    y_score = best_model.predict_proba(X_Test)[:, 1]\n",
        "\n",
        "y_pred = (y_score >= 0.5).astype(int)\n",
        "\n",
        "# Compute metrics\n",
        "accuracy = accuracy_score(y_Test, y_pred)\n",
        "precision = precision_score(y_Test, y_pred)\n",
        "recall = recall_score(y_Test, y_pred)  # TPR\n",
        "f1 = f1_score(y_Test, y_pred)\n",
        "roc_auc = roc_auc_score(y_Test, y_score)\n",
        "\n",
        "# FPR from confusion matrix\n",
        "tn, fp, fn, tp = confusion_matrix(y_Test, y_pred).ravel()\n",
        "fpr = fp / (fp + tn)\n",
        "\n",
        "# Significance\n",
        "sigma, N_S, N_B = compute_significance(y_score, y_Test, threshold=0.5)\n",
        "\n",
        "# Display as a table\n",
        "import pandas as pd\n",
        "\n",
        "metrics_table = pd.DataFrame({\n",
        "    \"Metric\": [\"Accuracy\", \"Precision\", \"Recall (TPR)\", \"F1 Score\", \"FPR\", \"AUC\", \"Significance σ\", \"Ns\", \"Nb\"],\n",
        "    \"Value\": [accuracy, precision, recall, f1, fpr, roc_auc, sigma, N_S, N_B]\n",
        "})\n",
        "\n",
        "metrics_table\n"
      ]
    },
    {
      "cell_type": "markdown",
      "source": [
        "### Explanation - part b\n",
        "\n",
        "- Using the Logistic Regression model from Exercise 4, I evaluated several performance metrics on the test dataset.\n",
        "- The classifier achieved an AUC of 0.858, indicating strong discriminatory power.\n",
        "It also reached a high precision of 0.885, meaning that when it predicts a signal, it is usually correct.\n",
        "- However, the recall (0.585) was moderate, suggesting that some true signal events were missed.\n",
        "- The significance score of 487.2 confirms that the classifier is highly effective at distinguishing signal from background in a high-energy physics context.\n",
        "- Overall, the model performs well in terms of both statistical and classification metrics, though improving recall could further enhance its sensitivity to rare signal events."
      ],
      "metadata": {
        "id": "O-Q2qqKwLjND"
      }
    }
  ],
  "metadata": {
    "kernelspec": {
      "display_name": "Python 3 (ipykernel)",
      "language": "python",
      "name": "python3"
    },
    "language_info": {
      "codemirror_mode": {
        "name": "ipython",
        "version": 3
      },
      "file_extension": ".py",
      "mimetype": "text/x-python",
      "name": "python",
      "nbconvert_exporter": "python",
      "pygments_lexer": "ipython3",
      "version": "3.13.2"
    },
    "colab": {
      "provenance": []
    }
  },
  "nbformat": 4,
  "nbformat_minor": 0
}