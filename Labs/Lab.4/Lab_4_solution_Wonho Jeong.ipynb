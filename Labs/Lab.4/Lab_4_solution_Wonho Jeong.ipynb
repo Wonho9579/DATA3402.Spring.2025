{
  "cells": [
    {
      "cell_type": "markdown",
      "metadata": {
        "id": "zZ8LpOx5UJ4Y"
      },
      "source": [
        "# Lab 4- Object Oriented Programming\n",
        "\n",
        "For all of the exercises below, make sure you provide tests of your solutions.\n"
      ]
    },
    {
      "cell_type": "markdown",
      "metadata": {
        "id": "B8P-R0ncUJ4c"
      },
      "source": [
        "1. Write a \"counter\" class that can be incremented up to a specified maximum value, will print an error if an attempt is made to increment beyond that value, and allows reseting the counter."
      ]
    },
    {
      "cell_type": "code",
      "execution_count": null,
      "metadata": {
        "colab": {
          "base_uri": "https://localhost:8080/"
        },
        "id": "ur_zwemXUJ4d",
        "outputId": "cff89234-03d6-4ed8-ed7c-754f04c7d0b4"
      },
      "outputs": [
        {
          "output_type": "stream",
          "name": "stdout",
          "text": [
            "1\n",
            "2\n",
            "3\n",
            "4\n",
            "5\n",
            "Error: Maximum value reached\n",
            "5\n",
            "Error: Maximum value reached\n",
            "5\n",
            "After reset: 0\n"
          ]
        }
      ],
      "source": [
        "class Counter:\n",
        "    def __init__(self, max_value):\n",
        "        self.value = 0\n",
        "        self.max_value = max_value\n",
        "\n",
        "    def increment(self):\n",
        "        if self.value < self.max_value:\n",
        "            self.value += 1\n",
        "        else:\n",
        "            print(\"Error: Maximum value reached\")\n",
        "\n",
        "    def reset(self):\n",
        "        self.value = 0\n",
        "\n",
        "    def get_value(self):\n",
        "        return self.value\n",
        "\n",
        "#Test\n",
        "c = Counter(5)\n",
        "for _ in range(7):\n",
        "    c.increment()\n",
        "    print(c.get_value())\n",
        "\n",
        "c.reset()\n",
        "print(\"After reset:\", c.get_value())"
      ]
    },
    {
      "cell_type": "markdown",
      "metadata": {
        "id": "KOsgHIvqUJ4e"
      },
      "source": [
        "2. Copy and paste your solution to question 1 and modify it so that all the data held by the counter is private. Implement functions to check the value of the counter, check the maximum value, and check if the counter is at the maximum."
      ]
    },
    {
      "cell_type": "code",
      "execution_count": null,
      "metadata": {
        "colab": {
          "base_uri": "https://localhost:8080/"
        },
        "id": "21NFQYAGUJ4f",
        "outputId": "39052db9-e9b4-438b-af52-8f033565ff44"
      },
      "outputs": [
        {
          "output_type": "stream",
          "name": "stdout",
          "text": [
            "Counter Value: 1\n",
            "Is Max? False\n",
            "Is Max? True\n",
            "Error: Maximum value reached\n"
          ]
        }
      ],
      "source": [
        "class PrivateCounter:\n",
        "    def __init__(self, max_value):\n",
        "        self.__value = 0  # Current counter value (private)\n",
        "        self.__max_value = max_value  # Maximum value (private)\n",
        "\n",
        "    def increment(self):\n",
        "        \"\"\"Increase the counter value by 1 (Print error if exceeding max value)\"\"\"\n",
        "        if self.__value < self.__max_value:\n",
        "            self.__value += 1\n",
        "        else:\n",
        "            print(\"Error: Maximum value reached\")\n",
        "\n",
        "    def reset(self):\n",
        "        \"\"\"Reset the counter value to 0\"\"\"\n",
        "        self.__value = 0\n",
        "\n",
        "    def get_value(self):\n",
        "        \"\"\"Return the current counter value\"\"\"\n",
        "        return self.__value\n",
        "\n",
        "    def get_max_value(self):\n",
        "        \"\"\"Return the maximum counter value\"\"\"\n",
        "        return self.__max_value\n",
        "\n",
        "    def is_max(self):\n",
        "        \"\"\"Check if the counter has reached the maximum value\"\"\"\n",
        "        return self.__value == self.__max_value\n",
        "\n",
        "# Test code\n",
        "pc = PrivateCounter(3)\n",
        "pc.increment()\n",
        "print(\"Counter Value:\", pc.get_value())  # 1\n",
        "pc.increment()\n",
        "print(\"Is Max?\", pc.is_max())  # False\n",
        "pc.increment()\n",
        "print(\"Is Max?\", pc.is_max())  # True\n",
        "pc.increment()  # Error message (exceeding max value)\n"
      ]
    },
    {
      "cell_type": "markdown",
      "metadata": {
        "id": "XNATdsWnUJ4f"
      },
      "source": [
        "3. Implement a class to represent a rectangle, holding the length, width, and $x$ and $y$ coordinates of a corner of the object. Implement functions that compute the area and perimeter of the rectangle. Make all data members private and privide accessors to retrieve values of data members."
      ]
    },
    {
      "cell_type": "code",
      "execution_count": null,
      "metadata": {
        "colab": {
          "base_uri": "https://localhost:8080/"
        },
        "id": "6G-KMDQIUJ4f",
        "outputId": "d6f38b15-aceb-4534-bab2-f1d4db583dd1"
      },
      "outputs": [
        {
          "output_type": "stream",
          "name": "stdout",
          "text": [
            "Area: 15\n",
            "Perimeter: 16\n",
            "Length: 5\n",
            "Width: 3\n",
            "Coordinates: (0, 0)\n"
          ]
        }
      ],
      "source": [
        "class Rectangle:\n",
        "    def __init__(self, length, width, x, y):\n",
        "        \"\"\"Initialize a rectangle with length, width, and (x, y) coordinates.\"\"\"\n",
        "        self.__length = length  # Private attribute for length\n",
        "        self.__width = width  # Private attribute for width\n",
        "        self.__x = x  # Private attribute for x-coordinate\n",
        "        self.__y = y  # Private attribute for y-coordinate\n",
        "\n",
        "    def area(self):\n",
        "        \"\"\"Calculate and return the area of the rectangle.\"\"\"\n",
        "        return self.__length * self.__width\n",
        "\n",
        "    def perimeter(self):\n",
        "        \"\"\"Calculate and return the perimeter of the rectangle.\"\"\"\n",
        "        return 2 * (self.__length + self.__width)\n",
        "\n",
        "    def get_length(self):\n",
        "        \"\"\"Return the length of the rectangle.\"\"\"\n",
        "        return self.__length\n",
        "\n",
        "    def get_width(self):\n",
        "        \"\"\"Return the width of the rectangle.\"\"\"\n",
        "        return self.__width\n",
        "\n",
        "    def get_coordinates(self):\n",
        "        \"\"\"Return the (x, y) coordinates of one corner of the rectangle.\"\"\"\n",
        "        return self.__x, self.__y\n",
        "\n",
        "# Test the class\n",
        "rect = Rectangle(5, 3, 0, 0)\n",
        "print(\"Area:\", rect.area())  # 15\n",
        "print(\"Perimeter:\", rect.perimeter())  # 16\n",
        "print(\"Length:\", rect.get_length())  # 5\n",
        "print(\"Width:\", rect.get_width())  # 3\n",
        "print(\"Coordinates:\", rect.get_coordinates())  # (0, 0)\n"
      ]
    },
    {
      "cell_type": "markdown",
      "metadata": {
        "id": "pDPRtbrdUJ4g"
      },
      "source": [
        "4. Implement a class to represent a circle, holding the radius and $x$ and $y$ coordinates of center of the object. Implement functions that compute the area and perimeter of the rectangle. Make all data members private and privide accessors to retrieve values of data members."
      ]
    },
    {
      "cell_type": "code",
      "execution_count": null,
      "metadata": {
        "colab": {
          "base_uri": "https://localhost:8080/"
        },
        "id": "IVjSN3bqUJ4g",
        "outputId": "feab6b5e-bfc5-4c53-b416-eaa749d04375"
      },
      "outputs": [
        {
          "output_type": "stream",
          "name": "stdout",
          "text": [
            "Area: 50.26548245743669\n",
            "Perimeter: 25.132741228718345\n",
            "Radius: 4\n",
            "Center Coordinates: (2, 3)\n"
          ]
        }
      ],
      "source": [
        "import math\n",
        "\n",
        "class Circle:\n",
        "    def __init__(self, radius, x, y):\n",
        "        \"\"\"Initialize a circle with radius and (x, y) coordinates of its center.\"\"\"\n",
        "        self.__radius = radius  # Private attribute for radius\n",
        "        self.__x = x  # Private attribute for x-coordinate of center\n",
        "        self.__y = y  # Private attribute for y-coordinate of center\n",
        "\n",
        "    def area(self):\n",
        "        \"\"\"Calculate and return the area of the circle.\"\"\"\n",
        "        return math.pi * self.__radius ** 2\n",
        "\n",
        "    def perimeter(self):\n",
        "        \"\"\"Calculate and return the perimeter (circumference) of the circle.\"\"\"\n",
        "        return 2 * math.pi * self.__radius\n",
        "\n",
        "    def get_radius(self):\n",
        "        \"\"\"Return the radius of the circle.\"\"\"\n",
        "        return self.__radius\n",
        "\n",
        "    def get_center(self):\n",
        "        \"\"\"Return the (x, y) coordinates of the circle's center.\"\"\"\n",
        "        return self.__x, self.__y\n",
        "\n",
        "# Test the class\n",
        "circle = Circle(4, 2, 3)\n",
        "print(\"Area:\", circle.area())  # 50.26548245743669\n",
        "print(\"Perimeter:\", circle.perimeter())  # 25.132741228718345\n",
        "print(\"Radius:\", circle.get_radius())  # 4\n",
        "print(\"Center Coordinates:\", circle.get_center())  # (2, 3)\n"
      ]
    },
    {
      "cell_type": "markdown",
      "metadata": {
        "id": "jGdwfLLtUJ4h"
      },
      "source": [
        "5. Implement a common base class for the classes implemented in 3 and 4 above which implements all common methods as not implemented functions (virtual). Re-implement your regtangle and circule classes to inherit from the base class and overload the functions accordingly."
      ]
    },
    {
      "cell_type": "code",
      "execution_count": null,
      "metadata": {
        "colab": {
          "base_uri": "https://localhost:8080/"
        },
        "id": "qVGCwts0UJ4h",
        "outputId": "1f6b2069-b11c-4dec-c026-e5db727fea8d"
      },
      "outputs": [
        {
          "output_type": "stream",
          "name": "stdout",
          "text": [
            "Rectangle - Area: 15\n",
            "Rectangle - Perimeter: 16\n",
            "Circle - Area: 50.26548245743669\n",
            "Circle - Perimeter: 25.132741228718345\n"
          ]
        }
      ],
      "source": [
        "import math\n",
        "\n",
        "class Shape:\n",
        "    \"\"\"Base class for geometric shapes with area and perimeter methods.\"\"\"\n",
        "\n",
        "    def area(self):\n",
        "        \"\"\"Calculate and return the area of the shape (to be implemented in subclasses).\"\"\"\n",
        "        raise NotImplementedError(\"Subclasses must implement this method\")\n",
        "\n",
        "    def perimeter(self):\n",
        "        \"\"\"Calculate and return the perimeter of the shape (to be implemented in subclasses).\"\"\"\n",
        "        raise NotImplementedError(\"Subclasses must implement this method\")\n",
        "\n",
        "class Rectangle(Shape):\n",
        "    \"\"\"Rectangle class inheriting from Shape.\"\"\"\n",
        "\n",
        "    def __init__(self, length, width, x, y):\n",
        "        self.__length = length\n",
        "        self.__width = width\n",
        "        self.__x = x\n",
        "        self.__y = y\n",
        "\n",
        "    def area(self):\n",
        "        \"\"\"Calculate and return the area of the rectangle.\"\"\"\n",
        "        return self.__length * self.__width\n",
        "\n",
        "    def perimeter(self):\n",
        "        \"\"\"Calculate and return the perimeter of the rectangle.\"\"\"\n",
        "        return 2 * (self.__length + self.__width)\n",
        "\n",
        "    def get_dimensions(self):\n",
        "        \"\"\"Return the dimensions and coordinates of the rectangle.\"\"\"\n",
        "        return self.__length, self.__width, self.__x, self.__y\n",
        "\n",
        "class Circle(Shape):\n",
        "    \"\"\"Circle class inheriting from Shape.\"\"\"\n",
        "\n",
        "    def __init__(self, radius, x, y):\n",
        "        self.__radius = radius\n",
        "        self.__x = x\n",
        "        self.__y = y\n",
        "\n",
        "    def area(self):\n",
        "        \"\"\"Calculate and return the area of the circle.\"\"\"\n",
        "        return math.pi * self.__radius ** 2\n",
        "\n",
        "    def perimeter(self):\n",
        "        \"\"\"Calculate and return the perimeter (circumference) of the circle.\"\"\"\n",
        "        return 2 * math.pi * self.__radius\n",
        "\n",
        "    def get_properties(self):\n",
        "        \"\"\"Return the radius and coordinates of the circle's center.\"\"\"\n",
        "        return self.__radius, self.__x, self.__y\n",
        "\n",
        "# Test the classes\n",
        "rect = Rectangle(5, 3, 0, 0)\n",
        "circle = Circle(4, 2, 3)\n",
        "\n",
        "print(\"Rectangle - Area:\", rect.area())  # 15\n",
        "print(\"Rectangle - Perimeter:\", rect.perimeter())  # 16\n",
        "\n",
        "print(\"Circle - Area:\", circle.area())  # 50.265...\n",
        "print(\"Circle - Perimeter:\", circle.perimeter())  # 25.132...\n"
      ]
    },
    {
      "cell_type": "markdown",
      "metadata": {
        "id": "qOIDrh1oUJ4h"
      },
      "source": [
        "6. Implement a triangle class analogous to the rectangle and circle in question 5."
      ]
    },
    {
      "cell_type": "code",
      "execution_count": null,
      "metadata": {
        "colab": {
          "base_uri": "https://localhost:8080/"
        },
        "id": "3J__k8KGUJ4i",
        "outputId": "27fd7b88-293a-46f5-bfbe-67287b96a09e"
      },
      "outputs": [
        {
          "output_type": "stream",
          "name": "stdout",
          "text": [
            "Triangle - Area: 6.0\n",
            "Triangle - Perimeter: 12\n",
            "Triangle - Sides: (3, 4, 5)\n"
          ]
        }
      ],
      "source": [
        "import math\n",
        "\n",
        "class Triangle(Shape):\n",
        "    \"\"\"Triangle class inheriting from Shape.\"\"\"\n",
        "\n",
        "    def __init__(self, a, b, c):\n",
        "        \"\"\"Initialize a triangle with three side lengths.\"\"\"\n",
        "        self.__a = a\n",
        "        self.__b = b\n",
        "        self.__c = c\n",
        "\n",
        "    def area(self):\n",
        "        \"\"\"Calculate and return the area using Heron's formula.\"\"\"\n",
        "        s = (self.__a + self.__b + self.__c) / 2\n",
        "        return math.sqrt(s * (s - self.__a) * (s - self.__b) * (s - self.__c))\n",
        "\n",
        "    def perimeter(self):\n",
        "        \"\"\"Calculate and return the perimeter of the triangle.\"\"\"\n",
        "        return self.__a + self.__b + self.__c\n",
        "\n",
        "    def get_sides(self):\n",
        "        \"\"\"Return the three side lengths of the triangle.\"\"\"\n",
        "        return self.__a, self.__b, self.__c\n",
        "\n",
        "# Test the class\n",
        "triangle = Triangle(3, 4, 5)\n",
        "\n",
        "print(\"Triangle - Area:\", triangle.area())  # 6.0\n",
        "print(\"Triangle - Perimeter:\", triangle.perimeter())  # 12\n",
        "print(\"Triangle - Sides:\", triangle.get_sides())  # (3, 4, 5)\n"
      ]
    },
    {
      "cell_type": "markdown",
      "metadata": {
        "id": "S4iHajduUJ4i"
      },
      "source": [
        "7. Add a function to the object classes, including the base, that returns a list of up to 16 pairs of  $x$ and $y$ points on the parameter of the object."
      ]
    },
    {
      "cell_type": "code",
      "execution_count": null,
      "metadata": {
        "colab": {
          "base_uri": "https://localhost:8080/"
        },
        "id": "mA_SI9umUJ4i",
        "outputId": "cfdf0a22-46ff-44e7-afbd-5951817d7370"
      },
      "outputs": [
        {
          "output_type": "stream",
          "name": "stdout",
          "text": [
            "Rectangle - Boundary Points: [(0, 0), (5, 0), (0, 3), (5, 3)]\n",
            "Circle - Boundary Points: [(6.0, 3.0), (5.695518130045147, 4.530733729460359), (4.82842712474619, 5.82842712474619), (3.5307337294603593, 6.695518130045147), (2.0000000000000004, 7.0), (0.4692662705396411, 6.695518130045147), (-0.8284271247461898, 5.82842712474619), (-1.695518130045147, 4.530733729460359), (-2.0, 3.0000000000000004), (-1.6955181300451474, 1.4692662705396413), (-0.8284271247461907, 0.17157287525381015), (0.46926627053963865, -0.6955181300451461), (1.9999999999999993, -1.0), (3.5307337294603602, -0.6955181300451465), (4.82842712474619, 0.17157287525380926), (5.695518130045146, 1.4692662705396384)]\n",
            "Triangle - Boundary Points: [(0, 0), (3, 0), (1, 2)]\n"
          ]
        }
      ],
      "source": [
        "import math\n",
        "\n",
        "class Shape:\n",
        "    \"\"\"Base class for geometric shapes with area, perimeter, and boundary points methods.\"\"\"\n",
        "\n",
        "    def area(self):\n",
        "        \"\"\"Calculate and return the area of the shape (to be implemented in subclasses).\"\"\"\n",
        "        raise NotImplementedError(\"Subclasses must implement this method\")\n",
        "\n",
        "    def perimeter(self):\n",
        "        \"\"\"Calculate and return the perimeter of the shape (to be implemented in subclasses).\"\"\"\n",
        "        raise NotImplementedError(\"Subclasses must implement this method\")\n",
        "\n",
        "    def get_boundary_points(self):\n",
        "        \"\"\"Return a list of (x, y) points on the boundary (to be implemented in subclasses).\"\"\"\n",
        "        raise NotImplementedError(\"Subclasses must implement this method\")\n",
        "\n",
        "class Rectangle(Shape):\n",
        "    \"\"\"Rectangle class inheriting from Shape.\"\"\"\n",
        "\n",
        "    def __init__(self, length, width, x, y):\n",
        "        self.__length = length\n",
        "        self.__width = width\n",
        "        self.__x = x\n",
        "        self.__y = y\n",
        "\n",
        "    def area(self):\n",
        "        return self.__length * self.__width\n",
        "\n",
        "    def perimeter(self):\n",
        "        return 2 * (self.__length + self.__width)\n",
        "\n",
        "    def get_boundary_points(self):\n",
        "        \"\"\"Return up to 16 points along the perimeter of the rectangle.\"\"\"\n",
        "        points = [\n",
        "            (self.__x, self.__y),\n",
        "            (self.__x + self.__length, self.__y),\n",
        "            (self.__x, self.__y + self.__width),\n",
        "            (self.__x + self.__length, self.__y + self.__width)\n",
        "        ]\n",
        "        return points[:16]  # Limit to 16 points\n",
        "\n",
        "class Circle(Shape):\n",
        "    \"\"\"Circle class inheriting from Shape.\"\"\"\n",
        "\n",
        "    def __init__(self, radius, x, y):\n",
        "        self.__radius = radius\n",
        "        self.__x = x\n",
        "        self.__y = y\n",
        "\n",
        "    def area(self):\n",
        "        return math.pi * self.__radius ** 2\n",
        "\n",
        "    def perimeter(self):\n",
        "        return 2 * math.pi * self.__radius\n",
        "\n",
        "    def get_boundary_points(self):\n",
        "        \"\"\"Return 16 evenly spaced points around the circumference of the circle.\"\"\"\n",
        "        points = [\n",
        "            (self.__x + self.__radius * math.cos(2 * math.pi * i / 16),\n",
        "             self.__y + self.__radius * math.sin(2 * math.pi * i / 16))\n",
        "            for i in range(16)\n",
        "        ]\n",
        "        return points\n",
        "\n",
        "class Triangle(Shape):\n",
        "    \"\"\"Triangle class inheriting from Shape.\"\"\"\n",
        "\n",
        "    def __init__(self, a, b, c, x1, y1, x2, y2, x3, y3):\n",
        "        self.__a = a\n",
        "        self.__b = b\n",
        "        self.__c = c\n",
        "        self.__points = [(x1, y1), (x2, y2), (x3, y3)]\n",
        "\n",
        "    def area(self):\n",
        "        s = (self.__a + self.__b + self.__c) / 2\n",
        "        return math.sqrt(s * (s - self.__a) * (s - self.__b) * (s - self.__c))\n",
        "\n",
        "    def perimeter(self):\n",
        "        return self.__a + self.__b + self.__c\n",
        "\n",
        "    def get_boundary_points(self):\n",
        "        \"\"\"Return the three vertices of the triangle.\"\"\"\n",
        "        return self.__points[:16]  # Limit to 16 points if necessary\n",
        "\n",
        "# Test cases\n",
        "rect = Rectangle(5, 3, 0, 0)\n",
        "circle = Circle(4, 2, 3)\n",
        "triangle = Triangle(3, 4, 5, 0, 0, 3, 0, 1, 2)\n",
        "\n",
        "print(\"Rectangle - Boundary Points:\", rect.get_boundary_points())\n",
        "print(\"Circle - Boundary Points:\", circle.get_boundary_points())\n",
        "print(\"Triangle - Boundary Points:\", triangle.get_boundary_points())\n"
      ]
    },
    {
      "cell_type": "markdown",
      "metadata": {
        "id": "piuB6ciXUJ4i"
      },
      "source": [
        "8. Add a function to the object classes, including the base, that tests if a given set of $x$ and $y$ coordinates are inside of the object. You'll have to think through how to determine if a set of coordinates are inside an object for each object type."
      ]
    },
    {
      "cell_type": "code",
      "execution_count": null,
      "metadata": {
        "colab": {
          "base_uri": "https://localhost:8080/"
        },
        "id": "Hv125zaEUJ4j",
        "outputId": "255d5420-1113-4bd5-b78c-62e23802a998"
      },
      "outputs": [
        {
          "output_type": "stream",
          "name": "stdout",
          "text": [
            "Rectangle - Contains (2,2): True\n",
            "Rectangle - Contains (6,2): False\n",
            "Circle - Contains (2,3): True\n",
            "Circle - Contains (7,7): False\n",
            "Triangle - Contains (1,1): True\n",
            "Triangle - Contains (4,4): False\n"
          ]
        }
      ],
      "source": [
        "import math\n",
        "\n",
        "class Shape:\n",
        "    \"\"\"Base class for geometric shapes with area, perimeter, and point containment methods.\"\"\"\n",
        "\n",
        "    def area(self):\n",
        "        \"\"\"Calculate and return the area of the shape (to be implemented in subclasses).\"\"\"\n",
        "        raise NotImplementedError(\"Subclasses must implement this method\")\n",
        "\n",
        "    def perimeter(self):\n",
        "        \"\"\"Calculate and return the perimeter of the shape (to be implemented in subclasses).\"\"\"\n",
        "        raise NotImplementedError(\"Subclasses must implement this method\")\n",
        "\n",
        "    def contains_point(self, x, y):\n",
        "        \"\"\"Check if the given point (x, y) is inside the shape (to be implemented in subclasses).\"\"\"\n",
        "        raise NotImplementedError(\"Subclasses must implement this method\")\n",
        "\n",
        "class Rectangle(Shape):\n",
        "    \"\"\"Rectangle class inheriting from Shape.\"\"\"\n",
        "\n",
        "    def __init__(self, length, width, x, y):\n",
        "        self.__length = length\n",
        "        self.__width = width\n",
        "        self.__x = x\n",
        "        self.__y = y\n",
        "\n",
        "    def area(self):\n",
        "        return self.__length * self.__width\n",
        "\n",
        "    def perimeter(self):\n",
        "        return 2 * (self.__length + self.__width)\n",
        "\n",
        "    def contains_point(self, x, y):\n",
        "        \"\"\"Check if the point (x, y) is inside the rectangle.\"\"\"\n",
        "        return self.__x <= x <= self.__x + self.__length and self.__y <= y <= self.__y + self.__width\n",
        "\n",
        "class Circle(Shape):\n",
        "    \"\"\"Circle class inheriting from Shape.\"\"\"\n",
        "\n",
        "    def __init__(self, radius, x, y):\n",
        "        self.__radius = radius\n",
        "        self.__x = x\n",
        "        self.__y = y\n",
        "\n",
        "    def area(self):\n",
        "        return math.pi * self.__radius ** 2\n",
        "\n",
        "    def perimeter(self):\n",
        "        return 2 * math.pi * self.__radius\n",
        "\n",
        "    def contains_point(self, x, y):\n",
        "        \"\"\"Check if the point (x, y) is inside the circle.\"\"\"\n",
        "        distance = math.sqrt((x - self.__x) ** 2 + (y - self.__y) ** 2)\n",
        "        return distance <= self.__radius\n",
        "\n",
        "class Triangle(Shape):\n",
        "    \"\"\"Triangle class inheriting from Shape.\"\"\"\n",
        "\n",
        "    def __init__(self, x1, y1, x2, y2, x3, y3):\n",
        "        self.__points = [(x1, y1), (x2, y2), (x3, y3)]\n",
        "\n",
        "    def area(self):\n",
        "        x1, y1 = self.__points[0]\n",
        "        x2, y2 = self.__points[1]\n",
        "        x3, y3 = self.__points[2]\n",
        "        return abs((x1*(y2-y3) + x2*(y3-y1) + x3*(y1-y2)) / 2)\n",
        "\n",
        "    def perimeter(self):\n",
        "        x1, y1 = self.__points[0]\n",
        "        x2, y2 = self.__points[1]\n",
        "        x3, y3 = self.__points[2]\n",
        "        a = math.dist((x1, y1), (x2, y2))\n",
        "        b = math.dist((x2, y2), (x3, y3))\n",
        "        c = math.dist((x3, y3), (x1, y1))\n",
        "        return a + b + c\n",
        "\n",
        "    def contains_point(self, x, y):\n",
        "        \"\"\"Check if the point (x, y) is inside the triangle using cross product method.\"\"\"\n",
        "        def sign(px, py, qx, qy, rx, ry):\n",
        "            return (px - rx) * (qy - ry) - (qx - rx) * (py - ry)\n",
        "\n",
        "        x1, y1 = self.__points[0]\n",
        "        x2, y2 = self.__points[1]\n",
        "        x3, y3 = self.__points[2]\n",
        "\n",
        "        d1 = sign(x, y, x1, y1, x2, y2)\n",
        "        d2 = sign(x, y, x2, y2, x3, y3)\n",
        "        d3 = sign(x, y, x3, y3, x1, y1)\n",
        "\n",
        "        has_neg = (d1 < 0) or (d2 < 0) or (d3 < 0)\n",
        "        has_pos = (d1 > 0) or (d2 > 0) or (d3 > 0)\n",
        "\n",
        "        return not (has_neg and has_pos)\n",
        "\n",
        "# Test cases\n",
        "rect = Rectangle(5, 3, 0, 0)\n",
        "circle = Circle(4, 2, 3)\n",
        "triangle = Triangle(0, 0, 3, 0, 1, 2)\n",
        "\n",
        "print(\"Rectangle - Contains (2,2):\", rect.contains_point(2, 2))  # True\n",
        "print(\"Rectangle - Contains (6,2):\", rect.contains_point(6, 2))  # False\n",
        "\n",
        "print(\"Circle - Contains (2,3):\", circle.contains_point(2, 3))  # True\n",
        "print(\"Circle - Contains (7,7):\", circle.contains_point(7, 7))  # False\n",
        "\n",
        "print(\"Triangle - Contains (1,1):\", triangle.contains_point(1, 1))  # True\n",
        "print(\"Triangle - Contains (4,4):\", triangle.contains_point(4, 4))  # False\n"
      ]
    },
    {
      "cell_type": "markdown",
      "metadata": {
        "id": "lKVlBLLmUJ4j"
      },
      "source": [
        "9. Add a function in the base class of the object classes that returns true/false testing that the object overlaps with another object."
      ]
    },
    {
      "cell_type": "code",
      "execution_count": null,
      "metadata": {
        "colab": {
          "base_uri": "https://localhost:8080/"
        },
        "id": "qj4k-C8bUJ4j",
        "outputId": "9509176d-78c6-4be0-a66e-da652af9afe6"
      },
      "outputs": [
        {
          "output_type": "stream",
          "name": "stdout",
          "text": [
            "Triangle 1 & 2 Overlapping: True\n",
            "Triangle 1 & 3 Overlapping: False\n"
          ]
        }
      ],
      "source": [
        "import math\n",
        "\n",
        "class Triangle(Shape):\n",
        "    \"\"\"Triangle class inheriting from Shape.\"\"\"\n",
        "\n",
        "    def __init__(self, x1, y1, x2, y2, x3, y3):\n",
        "        self.__points = [(x1, y1), (x2, y2), (x3, y3)]\n",
        "\n",
        "    def area(self):\n",
        "        x1, y1 = self.__points[0]\n",
        "        x2, y2 = self.__points[1]\n",
        "        x3, y3 = self.__points[2]\n",
        "        return abs((x1*(y2-y3) + x2*(y3-y1) + x3*(y1-y2)) / 2)\n",
        "\n",
        "    def perimeter(self):\n",
        "        x1, y1 = self.__points[0]\n",
        "        x2, y2 = self.__points[1]\n",
        "        x3, y3 = self.__points[2]\n",
        "        a = math.dist((x1, y1), (x2, y2))\n",
        "        b = math.dist((x2, y2), (x3, y3))\n",
        "        c = math.dist((x3, y3), (x1, y1))\n",
        "        return a + b + c\n",
        "\n",
        "    def contains_point(self, x, y):\n",
        "        \"\"\"Check if the point (x, y) is inside the triangle using the barycentric method.\"\"\"\n",
        "        def sign(px, py, qx, qy, rx, ry):\n",
        "            return (px - rx) * (qy - ry) - (qx - rx) * (py - ry)\n",
        "\n",
        "        x1, y1 = self.__points[0]\n",
        "        x2, y2 = self.__points[1]\n",
        "        x3, y3 = self.__points[2]\n",
        "\n",
        "        d1 = sign(x, y, x1, y1, x2, y2)\n",
        "        d2 = sign(x, y, x2, y2, x3, y3)\n",
        "        d3 = sign(x, y, x3, y3, x1, y1)\n",
        "\n",
        "        has_neg = (d1 < 0) or (d2 < 0) or (d3 < 0)\n",
        "        has_pos = (d1 > 0) or (d2 > 0) or (d3 > 0)\n",
        "\n",
        "        return not (has_neg and has_pos)\n",
        "\n",
        "    def _edges_intersect(self, p1, p2, q1, q2):\n",
        "        \"\"\"Check if two line segments (p1-p2 and q1-q2) intersect.\"\"\"\n",
        "        def ccw(a, b, c):\n",
        "            return (c[1] - a[1]) * (b[0] - a[0]) > (b[1] - a[1]) * (c[0] - a[0])\n",
        "\n",
        "        a, b = p1, p2\n",
        "        c, d = q1, q2\n",
        "        return ccw(a, c, d) != ccw(b, c, d) and ccw(a, b, c) != ccw(a, b, d)\n",
        "\n",
        "    def overlaps_with(self, other):\n",
        "        \"\"\"Check if any vertex of this triangle is inside the other triangle, or edges intersect.\"\"\"\n",
        "        if isinstance(other, Triangle):\n",
        "            # Check if any vertex of one triangle is inside the other\n",
        "            if any(other.contains_point(x, y) for x, y in self.__points) or \\\n",
        "               any(self.contains_point(x, y) for x, y in other.__points):\n",
        "                return True\n",
        "\n",
        "            # Check if any edge of this triangle intersects with any edge of the other triangle\n",
        "            edges_self = [(self.__points[i], self.__points[(i+1) % 3]) for i in range(3)]\n",
        "            edges_other = [(other.__points[i], other.__points[(i+1) % 3]) for i in range(3)]\n",
        "\n",
        "            for edge1 in edges_self:\n",
        "                for edge2 in edges_other:\n",
        "                    if self._edges_intersect(edge1[0], edge1[1], edge2[0], edge2[1]):\n",
        "                        return True\n",
        "\n",
        "        return False\n",
        "\n",
        "# Test cases\n",
        "triangle1 = Triangle(0, 0, 3, 0, 1, 2)\n",
        "triangle2 = Triangle(1, 1, 4, 1, 2, 3)  # Should return True (overlapping)\n",
        "triangle3 = Triangle(5, 5, 7, 5, 6, 7)  # Should return False (not overlapping)\n",
        "\n",
        "print(\"Triangle 1 & 2 Overlapping:\", triangle1.overlaps_with(triangle2))  # True\n",
        "print(\"Triangle 1 & 3 Overlapping:\", triangle1.overlaps_with(triangle3))  # False\n"
      ]
    },
    {
      "cell_type": "markdown",
      "metadata": {
        "id": "VwhAK7ONUJ4j"
      },
      "source": [
        "10. Copy the `Canvas` class from lecture to in a python file creating a `paint` module. Copy your classes from above into the module and implement paint functions. Implement a `CompoundShape` class. Create a simple drawing demonstrating that all of your classes are working."
      ]
    },
    {
      "cell_type": "code",
      "execution_count": 274,
      "metadata": {
        "id": "QGCPo97zUJ4j",
        "colab": {
          "base_uri": "https://localhost:8080/"
        },
        "outputId": "142a6c77-c684-45d9-d6a0-ec848b9eeef8"
      },
      "outputs": [
        {
          "output_type": "stream",
          "name": "stdout",
          "text": [
            "oo| ||\n",
            "oooo||\n",
            " o*ooo\n",
            "*   o \n",
            "      \n",
            "      \n"
          ]
        }
      ],
      "source": [
        "# Q10 Test Code\n",
        "from paint import Canvas, Rectangle, Circle, Triangle, CompoundShape\n",
        "\n",
        "# Canvas(6 wide, 6 high)\n",
        "canvas = Canvas(6, 6)\n",
        "\n",
        "# Rectangle(2 high,3 wide) at row=0..1, col=0..2\n",
        "rect = Rectangle(2, 3, 0, 0)\n",
        "\n",
        "# Circle radius=1, center=(2,4)\n",
        "circle = Circle(1, 2, 4)  # row=2±1 => [1..3], col=4±1 => [3..5]\n",
        "\n",
        "# Triangle => (2,1)->(4,2)->(3,0)\n",
        "triangle = Triangle(2, 1, 4, 2, 3, 0)\n",
        "\n",
        "# Compound shape with smaller shapes\n",
        "compound = CompoundShape()\n",
        "# Add rectangle(2,2) at (0,4)\n",
        "compound.add_shape(Rectangle(2, 2, 0, 4))\n",
        "# Add circle radius=1 at (1,1) => fits\n",
        "compound.add_shape(Circle(1, 1, 1))\n",
        "# Add small triangle => (2,2)->(2,3)->(3,2)\n",
        "compound.add_shape(Triangle(2, 2, 2, 3, 3, 2))\n",
        "\n",
        "# Paint them\n",
        "rect.paint(canvas)\n",
        "circle.paint(canvas)\n",
        "triangle.paint(canvas)\n",
        "compound.paint(canvas)\n",
        "\n",
        "# Display result\n",
        "canvas.display()\n"
      ]
    },
    {
      "cell_type": "markdown",
      "metadata": {
        "id": "2LKZUwrPUJ4k"
      },
      "source": [
        "11. Create a `RasterDrawing` class. Demonstrate that you can create a drawing made of several shapes, paint the drawing, modify the drawing, and paint it again."
      ]
    },
    {
      "cell_type": "code",
      "execution_count": 275,
      "metadata": {
        "id": "lryTKdxkUJ4k",
        "colab": {
          "base_uri": "https://localhost:8080/"
        },
        "outputId": "0eccbe76-b89d-4bb1-f9f9-3280a49411ba"
      },
      "outputs": [
        {
          "output_type": "stream",
          "name": "stdout",
          "text": [
            "Initial Drawing:\n",
            "|-|   \n",
            "|-|oo \n",
            " * ooo\n",
            "*   o \n",
            "      \n",
            "      \n",
            "\n",
            "Modified Drawing:\n",
            "|-|   \n",
            "|-|   \n",
            " *    \n",
            "*     \n",
            "    ||\n",
            "    ||\n"
          ]
        }
      ],
      "source": [
        "# Q11 Test Code\n",
        "from paint import RasterDrawing, Rectangle, Circle, Triangle\n",
        "\n",
        "# RasterDrawing(6 high, 6 wide)\n",
        "drawing = RasterDrawing(6, 6)\n",
        "\n",
        "# Add shapes within safe range\n",
        "drawing.add_shape(Rectangle(2, 3, 0, 0))  # top-left corner\n",
        "drawing.add_shape(Circle(1, 2, 4))       # center at (2,4)\n",
        "drawing.add_shape(Triangle(2, 1, 4, 2, 3, 0))\n",
        "\n",
        "print(\"Initial Drawing:\")\n",
        "drawing.paint_drawing()\n",
        "\n",
        "# Modify: add new rectangle(2x2 at row=4,col=4) => bottom-right corner\n",
        "drawing.add_shape(Rectangle(2, 2, 4, 4))\n",
        "# Remove shape index=1 => circle\n",
        "drawing.remove_shape(1)\n",
        "\n",
        "print(\"\\nModified Drawing:\")\n",
        "drawing.paint_drawing()\n"
      ]
    },
    {
      "cell_type": "markdown",
      "metadata": {
        "id": "c0afBRv-UJ4k"
      },
      "source": [
        "12. Implement the ability to load/save raster drawings and demonstate that your method works. One way to implement this ability:\n",
        "\n",
        "   * Overload `__repr__` functions of all objects to return strings of the python code that would construct the object.\n",
        "   \n",
        "   * In the save method of raster drawing class, store the representations into the file.\n",
        "   * Write a loader function that reads the file and uses `eval` to instantiate the object.\n",
        "\n",
        "For example:"
      ]
    },
    {
      "cell_type": "code",
      "execution_count": null,
      "metadata": {
        "id": "V_rBDueYUJ4k"
      },
      "outputs": [],
      "source": [
        "class foo:\n",
        "    def __init__(self,a,b=None):\n",
        "        self.a=a\n",
        "        self.b=b\n",
        "\n",
        "    def __repr__(self):\n",
        "        return \"foo(\"+repr(self.a)+\",\"+repr(self.b)+\")\"\n",
        "\n",
        "    def save(self,filename):\n",
        "        f=open(filename,\"w\")\n",
        "        f.write(self.__repr__())\n",
        "        f.close()\n",
        "\n",
        "\n",
        "def foo_loader(filename):\n",
        "    f=open(filename,\"r\")\n",
        "    tmp=eval(f.read())\n",
        "    f.close()\n",
        "    return tmp\n"
      ]
    },
    {
      "cell_type": "code",
      "execution_count": null,
      "metadata": {
        "id": "_1EBmZbEUJ4l",
        "colab": {
          "base_uri": "https://localhost:8080/"
        },
        "outputId": "499abd5d-3483-4599-9cb9-723dde37d147"
      },
      "outputs": [
        {
          "output_type": "stream",
          "name": "stdout",
          "text": [
            "foo(1,'hello')\n"
          ]
        }
      ],
      "source": [
        "# Test\n",
        "print(repr(foo(1,\"hello\")))"
      ]
    },
    {
      "cell_type": "code",
      "execution_count": null,
      "metadata": {
        "id": "bleh0L4DUJ4m"
      },
      "outputs": [],
      "source": [
        "# Create an object and save it\n",
        "ff=foo(1,\"hello\")\n",
        "ff.save(\"Test.foo\")"
      ]
    },
    {
      "cell_type": "code",
      "execution_count": null,
      "metadata": {
        "id": "8WVK7gikUJ4m",
        "colab": {
          "base_uri": "https://localhost:8080/"
        },
        "outputId": "7442e83c-41d0-44fb-d5bb-f00139f5e001"
      },
      "outputs": [
        {
          "output_type": "stream",
          "name": "stdout",
          "text": [
            "foo(1,'hello')"
          ]
        }
      ],
      "source": [
        "# Check contents of the saved file\n",
        "!cat Test.foo"
      ]
    },
    {
      "cell_type": "code",
      "execution_count": null,
      "metadata": {
        "id": "ipr3HKlcUJ4m",
        "colab": {
          "base_uri": "https://localhost:8080/"
        },
        "outputId": "d1231b22-6c41-475a-b27e-2647540d4d30"
      },
      "outputs": [
        {
          "output_type": "execute_result",
          "data": {
            "text/plain": [
              "foo(1,'hello')"
            ]
          },
          "metadata": {},
          "execution_count": 267
        }
      ],
      "source": [
        "# Load the object\n",
        "ff_reloaded=foo_loader(\"Test.foo\")\n",
        "ff_reloaded"
      ]
    },
    {
      "cell_type": "code",
      "source": [
        "# Reload the updated paint.py module\n",
        "import importlib\n",
        "import paint\n",
        "importlib.reload(paint)\n"
      ],
      "metadata": {
        "id": "A18Hh4wq66dL",
        "colab": {
          "base_uri": "https://localhost:8080/"
        },
        "outputId": "87c7a947-b4f2-4554-f763-ec77d9e2d967"
      },
      "execution_count": null,
      "outputs": [
        {
          "output_type": "execute_result",
          "data": {
            "text/plain": [
              "<module 'paint' from '/content/paint.py'>"
            ]
          },
          "metadata": {},
          "execution_count": 268
        }
      ]
    },
    {
      "cell_type": "code",
      "source": [
        "# Import required classes from paint.py\n",
        "from paint import RasterDrawing, Rectangle, Circle, Triangle\n"
      ],
      "metadata": {
        "id": "AIvkAPVj5skE"
      },
      "execution_count": null,
      "outputs": []
    },
    {
      "cell_type": "code",
      "source": [
        "# Q12 Test Code\n",
        "from paint import RasterDrawing, Rectangle, Circle, Triangle\n",
        "\n",
        "drawing = RasterDrawing(6, 6)\n",
        "\n",
        "# Add safe shapes\n",
        "drawing.add_shape(Rectangle(2, 3, 0, 0))\n",
        "drawing.add_shape(Circle(1, 2, 4))\n",
        "drawing.add_shape(Triangle(2, 1, 4, 2, 3, 0))\n",
        "\n",
        "print(\"Initial Drawing:\")\n",
        "drawing.paint_drawing()\n",
        "\n",
        "# Save\n",
        "drawing.save(\"my_drawing.txt\")\n",
        "\n",
        "# Load\n",
        "loaded = RasterDrawing.load(\"my_drawing.txt\", 6, 6)\n",
        "\n",
        "print(\"\\nLoaded Drawing:\")\n",
        "loaded.paint_drawing()\n"
      ],
      "metadata": {
        "id": "ZYUjitao6jMG",
        "colab": {
          "base_uri": "https://localhost:8080/"
        },
        "outputId": "4dd31cc4-0c3e-48e1-81b4-0132d9fe1f4a"
      },
      "execution_count": 276,
      "outputs": [
        {
          "output_type": "stream",
          "name": "stdout",
          "text": [
            "Initial Drawing:\n",
            "|-|   \n",
            "|-|oo \n",
            " * ooo\n",
            "*   o \n",
            "      \n",
            "      \n",
            "\n",
            "Loaded Drawing:\n",
            "|-|   \n",
            "|-|oo \n",
            " * ooo\n",
            "*   o \n",
            "      \n",
            "      \n"
          ]
        }
      ]
    }
  ],
  "metadata": {
    "kernelspec": {
      "display_name": "Python 3 (ipykernel)",
      "language": "python",
      "name": "python3"
    },
    "language_info": {
      "codemirror_mode": {
        "name": "ipython",
        "version": 3
      },
      "file_extension": ".py",
      "mimetype": "text/x-python",
      "name": "python",
      "nbconvert_exporter": "python",
      "pygments_lexer": "ipython3",
      "version": "3.9.6"
    },
    "colab": {
      "provenance": []
    }
  },
  "nbformat": 4,
  "nbformat_minor": 0
}