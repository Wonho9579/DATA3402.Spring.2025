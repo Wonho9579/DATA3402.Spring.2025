{
  "cells": [
    {
      "cell_type": "markdown",
      "source": [
        "##**DATA 3402 Lab2**"
      ],
      "metadata": {
        "id": "769uat6D6P1l"
      }
    },
    {
      "cell_type": "markdown",
      "source": [
        "## Wonho Jeong 1002242697 ##"
      ],
      "metadata": {
        "id": "QPgigpon6HP_"
      }
    },
    {
      "cell_type": "markdown",
      "metadata": {
        "id": "GVNbEEt6zwl-"
      },
      "source": [
        "## Lab 2- Tic Tac Toe\n",
        "\n",
        "In this lab your will build a n x n Tic Tac Toe game. As you do the exercises, make sure your solutions work for any size Tic Tac Toe game."
      ]
    },
    {
      "cell_type": "markdown",
      "metadata": {
        "id": "OiZY67X1zwmH"
      },
      "source": [
        "*Exercise 1:* Write a function that creates an n by n matrix (of list of lists) which will represent the state of a Tie Tac Toe game. Let 0, 1, and 2 represent empty, \"X\", and \"O\", respectively.\n"
      ]
    },
    {
      "cell_type": "code",
      "execution_count": 3,
      "metadata": {
        "collapsed": true,
        "id": "3fJdkrH_zwmI"
      },
      "outputs": [],
      "source": [
        "def create_tic_tac_toe_board(n):\n",
        "    \"\"\"\n",
        "    Create an n x n matrix to represent the state of a Tic Tac Toe game.\n",
        "    Each cell is initialized to 0 (empty).\n",
        "\n",
        "    Parameters:\n",
        "    n (int): The size of the Tic Tac Toe board.\n",
        "\n",
        "    Returns:\n",
        "    list of list: n x n matrix initialized with 0.\n",
        "    \"\"\"\n",
        "    # Use a list comprehension to create an n x n grid filled with 0\n",
        "    return [[0 for _ in range(n)] for _ in range(n)]\n"
      ]
    },
    {
      "cell_type": "code",
      "execution_count": 4,
      "metadata": {
        "collapsed": true,
        "colab": {
          "base_uri": "https://localhost:8080/"
        },
        "id": "yPzZPN4kzwmL",
        "outputId": "7dd49b63-d53b-4347-a396-2c4f584932d7"
      },
      "outputs": [
        {
          "output_type": "stream",
          "name": "stdout",
          "text": [
            "Tic Tac Toe Board (3x3):\n",
            "[0, 0, 0]\n",
            "[0, 0, 0]\n",
            "[0, 0, 0]\n"
          ]
        }
      ],
      "source": [
        "# Example: Create a 3x3 Tic Tac Toe board\n",
        "n = 3\n",
        "tic_tac_toe_board = create_tic_tac_toe_board(n)\n",
        "\n",
        "# Print the board row by row\n",
        "print(\"Tic Tac Toe Board (3x3):\")\n",
        "for row in tic_tac_toe_board:\n",
        "    print(row)\n"
      ]
    },
    {
      "cell_type": "markdown",
      "metadata": {
        "id": "glmRqNlkzwmL"
      },
      "source": [
        "*Exercise 2:* Write a function that takes 2 integers `n` and `m` as input and draws a `n` by `m` game board. For example the following is a 3x3 board:\n",
        "```\n",
        "   --- --- ---\n",
        "  |   |   |   |\n",
        "   --- --- ---  \n",
        "  |   |   |   |\n",
        "   --- --- ---  \n",
        "  |   |   |   |\n",
        "   --- --- ---\n",
        "   ```"
      ]
    },
    {
      "cell_type": "code",
      "execution_count": 5,
      "metadata": {
        "collapsed": true,
        "id": "K1-wfu41zwmM"
      },
      "outputs": [],
      "source": [
        "def draw_game_board(n, m):\n",
        "    \"\"\"\n",
        "    Draws a game board with n rows and m columns.\n",
        "\n",
        "    Parameters:\n",
        "    n (int): The number of rows in the game board.\n",
        "    m (int): The number of columns in the game board.\n",
        "    \"\"\"\n",
        "    for i in range(n):\n",
        "        # Print the horizontal lines for the current row\n",
        "        print(\" ---\" * m)\n",
        "        # Print the vertical lines for the current row\n",
        "        print(\"|   \" * (m + 1))\n",
        "    # Print the final horizontal line at the bottom of the board\n",
        "    print(\" ---\" * m)\n"
      ]
    },
    {
      "cell_type": "code",
      "execution_count": 6,
      "metadata": {
        "collapsed": true,
        "colab": {
          "base_uri": "https://localhost:8080/"
        },
        "id": "sl7idw2XzwmN",
        "outputId": "195f9a3c-7a0e-428d-b90a-16a46fef7ec1"
      },
      "outputs": [
        {
          "output_type": "stream",
          "name": "stdout",
          "text": [
            "3x3 Game Board:\n",
            " --- --- ---\n",
            "|   |   |   |   \n",
            " --- --- ---\n",
            "|   |   |   |   \n",
            " --- --- ---\n",
            "|   |   |   |   \n",
            " --- --- ---\n"
          ]
        }
      ],
      "source": [
        "# Example: Draw a 3x3 game board\n",
        "n = 3\n",
        "m = 3\n",
        "print(\"3x3 Game Board:\")\n",
        "draw_game_board(n, m)\n"
      ]
    },
    {
      "cell_type": "markdown",
      "metadata": {
        "id": "4PGEQpO_zwmO"
      },
      "source": [
        "*Exercise 3:* Modify exercise 2, so that it takes a matrix of the form from exercise 1 and draws a tic-tac-tie board with \"X\"s and \"O\"s.  "
      ]
    },
    {
      "cell_type": "code",
      "execution_count": 7,
      "metadata": {
        "collapsed": true,
        "id": "3LsOAvBczwmO"
      },
      "outputs": [],
      "source": [
        "def draw_tic_tac_toe_board(matrix):\n",
        "    \"\"\"\n",
        "    Draws a Tic Tac Toe board using a given matrix.\n",
        "\n",
        "    Parameters:\n",
        "    matrix (list of list): A 2D list where\n",
        "                           0 represents an empty cell,\n",
        "                           1 represents \"X\",\n",
        "                           2 represents \"O\".\n",
        "    \"\"\"\n",
        "    n = len(matrix)  # Number of rows\n",
        "    m = len(matrix[0])  # Number of columns\n",
        "\n",
        "    for i in range(n):\n",
        "        # Print the horizontal line\n",
        "        print(\" ---\" * m)\n",
        "        # Print the cell contents with vertical dividers\n",
        "        row = \"|\"\n",
        "        for j in range(m):\n",
        "            if matrix[i][j] == 0:\n",
        "                row += \"   |\"  # Empty space\n",
        "            elif matrix[i][j] == 1:\n",
        "                row += \" X |\"  # \"X\"\n",
        "            elif matrix[i][j] == 2:\n",
        "                row += \" O |\"  # \"O\"\n",
        "        print(row)\n",
        "    # Print the final horizontal line\n",
        "    print(\" ---\" * m)\n"
      ]
    },
    {
      "cell_type": "code",
      "execution_count": 8,
      "metadata": {
        "collapsed": true,
        "colab": {
          "base_uri": "https://localhost:8080/"
        },
        "id": "cbrBiKoizwmP",
        "outputId": "e327dea3-3739-4aae-f760-8eae4ca3204a"
      },
      "outputs": [
        {
          "output_type": "stream",
          "name": "stdout",
          "text": [
            "Tic Tac Toe Board:\n",
            " --- --- ---\n",
            "| X | O |   |\n",
            " --- --- ---\n",
            "|   | X | O |\n",
            " --- --- ---\n",
            "| O |   | X |\n",
            " --- --- ---\n"
          ]
        }
      ],
      "source": [
        "# Example: Create a 3x3 Tic Tac Toe board matrix\n",
        "test_matrix = [\n",
        "    [1, 2, 0],\n",
        "    [0, 1, 2],\n",
        "    [2, 0, 1]\n",
        "]\n",
        "\n",
        "print(\"Tic Tac Toe Board:\")\n",
        "draw_tic_tac_toe_board(test_matrix)\n"
      ]
    },
    {
      "cell_type": "markdown",
      "metadata": {
        "id": "IkveC6XKzwmQ"
      },
      "source": [
        "*Exercise 4:* Write a function that takes a `n` by `n` matrix representing a tic-tac-toe game, and returns -1, 0, 1, or 2 indicating the game is incomplete, the game is a draw, player 1 has won, or player 2 has one, respectively. Here are some example inputs you can use to test your code:"
      ]
    },
    {
      "cell_type": "code",
      "execution_count": 9,
      "metadata": {
        "collapsed": true,
        "id": "-Mb7JsW-zwmR"
      },
      "outputs": [],
      "source": [
        "def check_tic_tac_toe_winner(matrix):\n",
        "    \"\"\"\n",
        "    Check the state of a Tic Tac Toe game.\n",
        "\n",
        "    Parameters:\n",
        "    matrix (list of list): An n x n matrix representing the Tic Tac Toe board.\n",
        "\n",
        "    Returns:\n",
        "    int: -1 if the game is incomplete,\n",
        "         0 if the game is a draw,\n",
        "         1 if player 1 (X) has won,\n",
        "         2 if player 2 (O) has won.\n",
        "    \"\"\"\n",
        "    n = len(matrix)\n",
        "\n",
        "    # Check rows and columns for a winner\n",
        "    for i in range(n):\n",
        "        if all(cell == 1 for cell in matrix[i]):  # Row check for Player 1\n",
        "            return 1\n",
        "        if all(cell == 2 for cell in matrix[i]):  # Row check for Player 2\n",
        "            return 2\n",
        "        if all(matrix[j][i] == 1 for j in range(n)):  # Column check for Player 1\n",
        "            return 1\n",
        "        if all(matrix[j][i] == 2 for j in range(n)):  # Column check for Player 2\n",
        "            return 2\n",
        "\n",
        "    # Check diagonals for a winner\n",
        "    if all(matrix[i][i] == 1 for i in range(n)):  # Top-left to bottom-right for Player 1\n",
        "        return 1\n",
        "    if all(matrix[i][i] == 2 for i in range(n)):  # Top-left to bottom-right for Player 2\n",
        "        return 2\n",
        "    if all(matrix[i][n - 1 - i] == 1 for i in range(n)):  # Top-right to bottom-left for Player 1\n",
        "        return 1\n",
        "    if all(matrix[i][n - 1 - i] == 2 for i in range(n)):  # Top-right to bottom-left for Player 2\n",
        "        return 2\n",
        "\n",
        "    # Check for incomplete game\n",
        "    if any(cell == 0 for row in matrix for cell in row):\n",
        "        return -1\n",
        "\n",
        "    # Otherwise, it's a draw\n",
        "    return 0"
      ]
    },
    {
      "cell_type": "code",
      "execution_count": 10,
      "metadata": {
        "collapsed": true,
        "colab": {
          "base_uri": "https://localhost:8080/"
        },
        "id": "eJL3zBjZzwmR",
        "outputId": "6950dad2-fe93-422d-aa3e-437bf7f77deb"
      },
      "outputs": [
        {
          "output_type": "stream",
          "name": "stdout",
          "text": [
            "2\n",
            "1\n",
            "1\n",
            "1\n",
            "-1\n"
          ]
        }
      ],
      "source": [
        "winner_is_2 = [[2, 2, 0],\n",
        "               [2, 1, 0],\n",
        "               [2, 1, 1]]\n",
        "\n",
        "winner_is_1 = [[1, 2, 0],\n",
        "               [2, 1, 0],\n",
        "               [2, 1, 1]]\n",
        "\n",
        "winner_is_also_1 = [[0, 1, 0],\n",
        "                    [2, 1, 0],\n",
        "                    [2, 1, 1]]\n",
        "\n",
        "no_winner = [[1, 2, 0],\n",
        "             [2, 1, 0],\n",
        "             [1, 2, 1]]\n",
        "\n",
        "also_no_winner = [[1, 2, 0],\n",
        "                  [2, 1, 0],\n",
        "                  [2, 1, 0]]\n",
        "\n",
        "# Test cases\n",
        "print(check_tic_tac_toe_winner(winner_is_2))  # Expected output: 2\n",
        "print(check_tic_tac_toe_winner(winner_is_1))  # Expected output: 1\n",
        "print(check_tic_tac_toe_winner(winner_is_also_1))  # Expected output: 1\n",
        "print(check_tic_tac_toe_winner(no_winner))  # Expected output: -1 (incomplete)\n",
        "print(check_tic_tac_toe_winner(also_no_winner))  # Expected output: -1 (incomplete)\n"
      ]
    },
    {
      "cell_type": "code",
      "execution_count": 11,
      "metadata": {
        "collapsed": true,
        "id": "BRMTN7TnzwmS"
      },
      "outputs": [],
      "source": [
        "winner_is_2 = [[2, 2, 0],\n",
        "\t[2, 1, 0],\n",
        "\t[2, 1, 1]]\n",
        "\n",
        "winner_is_1 = [[1, 2, 0],\n",
        "\t[2, 1, 0],\n",
        "\t[2, 1, 1]]\n",
        "\n",
        "winner_is_also_1 = [[0, 1, 0],\n",
        "\t[2, 1, 0],\n",
        "\t[2, 1, 1]]\n",
        "\n",
        "no_winner = [[1, 2, 0],\n",
        "\t[2, 1, 0],\n",
        "\t[2, 1, 2]]\n",
        "\n",
        "also_no_winner = [[1, 2, 0],\n",
        "\t[2, 1, 0],\n",
        "\t[2, 1, 0]]"
      ]
    },
    {
      "cell_type": "markdown",
      "metadata": {
        "id": "NB8EesBUzwmT"
      },
      "source": [
        "*Exercise 5:* Write a function that takes a game board, player number, and `(x,y)` coordinates and places \"X\" or \"O\" in the correct location of the game board. Make sure that you only allow filling previously empty locations. Return `True` or `False` to indicate successful placement of \"X\" or \"O\"."
      ]
    },
    {
      "cell_type": "code",
      "execution_count": 12,
      "metadata": {
        "collapsed": true,
        "id": "RNJn0UmMzwmT"
      },
      "outputs": [],
      "source": [
        "def place_marker(board, player, x, y):\n",
        "    \"\"\"\n",
        "    Places a marker for the given player at the specified (x, y) coordinates on the game board.\n",
        "\n",
        "    Parameters:\n",
        "    board (list of list): The current game board (matrix).\n",
        "    player (int): The player number (1 for \"X\", 2 for \"O\").\n",
        "    x (int): The row index for the placement.\n",
        "    y (int): The column index for the placement.\n",
        "\n",
        "    Returns:\n",
        "    bool: True if the placement was successful, False otherwise.\n",
        "    \"\"\"\n",
        "    # Check if the coordinates are within the board's bounds\n",
        "    if 0 <= x < len(board) and 0 <= y < len(board[0]):\n",
        "        # Check if the position is empty\n",
        "        if board[x][y] == 0:\n",
        "            # Place the marker (1 for \"X\", 2 for \"O\")\n",
        "            board[x][y] = player\n",
        "            return True\n",
        "        else:\n",
        "            return False  # Position already taken\n",
        "    else:\n",
        "        return False  # Invalid coordinates\n"
      ]
    },
    {
      "cell_type": "code",
      "execution_count": 13,
      "metadata": {
        "collapsed": true,
        "colab": {
          "base_uri": "https://localhost:8080/"
        },
        "id": "oL58IrnxzwmU",
        "outputId": "5fa145bb-4f51-4003-b695-8c874800f94e"
      },
      "outputs": [
        {
          "output_type": "stream",
          "name": "stdout",
          "text": [
            "True\n",
            "[[1, 0, 0], [0, 0, 0], [0, 0, 0]]\n",
            "False\n",
            "[[1, 0, 0], [0, 0, 0], [0, 0, 0]]\n",
            "True\n",
            "[[1, 0, 0], [0, 2, 0], [0, 0, 0]]\n",
            "False\n",
            "[[1, 0, 0], [0, 2, 0], [0, 0, 0]]\n"
          ]
        }
      ],
      "source": [
        "# Create a 3x3 empty game board\n",
        "game_board = [\n",
        "    [0, 0, 0],\n",
        "    [0, 0, 0],\n",
        "    [0, 0, 0]\n",
        "]\n",
        "\n",
        "# Test cases\n",
        "print(place_marker(game_board, 1, 0, 0))  # Player 1 places \"X\" at (0, 0), expected: True\n",
        "print(game_board)  # Expected board: [[1, 0, 0], [0, 0, 0], [0, 0, 0]]\n",
        "\n",
        "print(place_marker(game_board, 2, 0, 0))  # Player 2 attempts to place \"O\" at (0, 0), expected: False\n",
        "print(game_board)  # Expected board: [[1, 0, 0], [0, 0, 0], [0, 0, 0]]\n",
        "\n",
        "print(place_marker(game_board, 2, 1, 1))  # Player 2 places \"O\" at (1, 1), expected: True\n",
        "print(game_board)  # Expected board: [[1, 0, 0], [0, 2, 0], [0, 0, 0]]\n",
        "\n",
        "print(place_marker(game_board, 1, 3, 3))  # Invalid position, expected: False\n",
        "print(game_board)  # Expected board: [[1, 0, 0], [0, 2, 0], [0, 0, 0]]\n"
      ]
    },
    {
      "cell_type": "markdown",
      "metadata": {
        "id": "2f1PXfQmzwmU"
      },
      "source": [
        "*Exercise 6:* Modify Exercise 3 to show column and row labels so that players can specify location using \"A2\" or \"C1\"."
      ]
    },
    {
      "cell_type": "code",
      "execution_count": 14,
      "metadata": {
        "collapsed": true,
        "id": "T_WzEMERzwmU"
      },
      "outputs": [],
      "source": [
        "def draw_tic_tac_toe_board_with_labels(matrix):\n",
        "    \"\"\"\n",
        "    Draws a Tic Tac Toe board with row and column labels.\n",
        "\n",
        "    Parameters:\n",
        "    matrix (list of list): A 2D list where\n",
        "                           0 represents an empty cell,\n",
        "                           1 represents \"X\",\n",
        "                           2 represents \"O\".\n",
        "    \"\"\"\n",
        "    n = len(matrix)  # Number of rows\n",
        "    m = len(matrix[0])  # Number of columns\n",
        "\n",
        "    # Print column labels (A, B, C, etc.)\n",
        "    column_labels = \"   \" + \"   \".join([chr(65 + i) for i in range(m)])  # A, B, C, ...\n",
        "    print(column_labels)\n",
        "\n",
        "    for i in range(n):\n",
        "        # Print the horizontal line\n",
        "        print(\"  \" + \"--- \" * m)\n",
        "        # Print the row label followed by the board row\n",
        "        row = f\"{i + 1} \"  # Row label (1, 2, 3, ...)\n",
        "        for j in range(m):\n",
        "            if matrix[i][j] == 0:\n",
        "                row += \"|   \"  # Empty space\n",
        "            elif matrix[i][j] == 1:\n",
        "                row += \"| X \"  # \"X\"\n",
        "            elif matrix[i][j] == 2:\n",
        "                row += \"| O \"  # \"O\"\n",
        "        row += \"|\"\n",
        "        print(row)\n",
        "    # Print the final horizontal line at the bottom of the board\n",
        "    print(\"  \" + \"--- \" * m)\n"
      ]
    },
    {
      "cell_type": "code",
      "execution_count": 15,
      "metadata": {
        "collapsed": true,
        "colab": {
          "base_uri": "https://localhost:8080/"
        },
        "id": "Y7-QX56czwmU",
        "outputId": "9875cf52-7785-4fa9-8fd8-d9496ce08f7d"
      },
      "outputs": [
        {
          "output_type": "stream",
          "name": "stdout",
          "text": [
            "Tic Tac Toe Board with Labels:\n",
            "   A   B   C\n",
            "  --- --- --- \n",
            "1 | X | O |   |\n",
            "  --- --- --- \n",
            "2 |   | X | O |\n",
            "  --- --- --- \n",
            "3 | O |   | X |\n",
            "  --- --- --- \n"
          ]
        }
      ],
      "source": [
        "# Create a 3x3 game board matrix\n",
        "test_matrix = [\n",
        "    [1, 2, 0],\n",
        "    [0, 1, 2],\n",
        "    [2, 0, 1]\n",
        "]\n",
        "\n",
        "print(\"Tic Tac Toe Board with Labels:\")\n",
        "draw_tic_tac_toe_board_with_labels(test_matrix)\n"
      ]
    },
    {
      "cell_type": "markdown",
      "metadata": {
        "id": "m3fPIyfjzwmV"
      },
      "source": [
        "*Exercise 7:* Write a function that takes a board, player number, and location specified as in exercise 6 and then calls exercise 5 to correctly modify the board.  "
      ]
    },
    {
      "cell_type": "code",
      "execution_count": 16,
      "metadata": {
        "collapsed": true,
        "id": "Fylkc7MGzwmV"
      },
      "outputs": [],
      "source": [
        "def place_marker_with_labels(board, player, location):\n",
        "    \"\"\"\n",
        "    Places a marker on the game board based on the location specified using labels (e.g., \"A2\").\n",
        "\n",
        "    Parameters:\n",
        "    board (list of list): The current game board (matrix).\n",
        "    player (int): The player number (1 for \"X\", 2 for \"O\").\n",
        "    location (str): The location on the board specified as column-row (e.g., \"A2\").\n",
        "\n",
        "    Returns:\n",
        "    bool: True if the placement was successful, False otherwise.\n",
        "    \"\"\"\n",
        "    try:\n",
        "        # Convert location (e.g., \"A2\") to matrix indices\n",
        "        column_label = location[0].upper()  # Extract column letter\n",
        "        row_label = location[1]  # Extract row number\n",
        "\n",
        "        # Map column letter (e.g., \"A\") to index\n",
        "        x = int(row_label) - 1  # Row index\n",
        "        y = ord(column_label) - ord('A')  # Column index\n",
        "\n",
        "        # Call the place_marker function from Exercise 5 to modify the board\n",
        "        return place_marker(board, player, x, y)\n",
        "    except (IndexError, ValueError):\n",
        "        # Invalid location format or out-of-bounds coordinates\n",
        "        return False\n"
      ]
    },
    {
      "cell_type": "code",
      "execution_count": 17,
      "metadata": {
        "collapsed": true,
        "colab": {
          "base_uri": "https://localhost:8080/"
        },
        "id": "6ewjzmodzwmV",
        "outputId": "e095cf52-6ce9-484d-e745-bbdc6698b060"
      },
      "outputs": [
        {
          "output_type": "stream",
          "name": "stdout",
          "text": [
            "True\n",
            "[[1, 0, 0], [0, 0, 0], [0, 0, 0]]\n",
            "True\n",
            "[[1, 0, 0], [0, 0, 0], [0, 0, 2]]\n",
            "True\n",
            "[[1, 0, 0], [0, 1, 0], [0, 0, 2]]\n",
            "False\n",
            "[[1, 0, 0], [0, 1, 0], [0, 0, 2]]\n",
            "False\n",
            "[[1, 0, 0], [0, 1, 0], [0, 0, 2]]\n"
          ]
        }
      ],
      "source": [
        "# Define the place_marker function from Exercise 5 (if not already defined)\n",
        "def place_marker(board, player, x, y):\n",
        "    if 0 <= x < len(board) and 0 <= y < len(board[0]) and board[x][y] == 0:\n",
        "        board[x][y] = player\n",
        "        return True\n",
        "    return False\n",
        "\n",
        "# Create a 3x3 game board\n",
        "game_board = [\n",
        "    [0, 0, 0],\n",
        "    [0, 0, 0],\n",
        "    [0, 0, 0]\n",
        "]\n",
        "\n",
        "# Test cases\n",
        "print(place_marker_with_labels(game_board, 1, \"A1\"))  # Player 1 places \"X\" at A1, expected: True\n",
        "print(game_board)  # Expected board: [[1, 0, 0], [0, 0, 0], [0, 0, 0]]\n",
        "\n",
        "print(place_marker_with_labels(game_board, 2, \"C3\"))  # Player 2 places \"O\" at C3, expected: True\n",
        "print(game_board)  # Expected board: [[1, 0, 0], [0, 0, 0], [0, 0, 2]]\n",
        "\n",
        "print(place_marker_with_labels(game_board, 1, \"B2\"))  # Player 1 places \"X\" at B2, expected: True\n",
        "print(game_board)  # Expected board: [[1, 0, 0], [0, 1, 0], [0, 0, 2]]\n",
        "\n",
        "print(place_marker_with_labels(game_board, 2, \"A1\"))  # Player 2 tries to place \"O\" at A1, expected: False\n",
        "print(game_board)  # Expected board: [[1, 0, 0], [0, 1, 0], [0, 0, 2]]\n",
        "\n",
        "print(place_marker_with_labels(game_board, 1, \"D4\"))  # Invalid location, expected: False\n",
        "print(game_board)  # Expected board: [[1, 0, 0], [0, 1, 0], [0, 0, 2]]\n"
      ]
    },
    {
      "cell_type": "markdown",
      "metadata": {
        "id": "eQISOqnFzwmV"
      },
      "source": [
        "*Exercise 8:* Write a function is called with a board and player number, takes input from the player using python's `input`, and modifies the board using your function from exercise 7. Note that you should keep asking for input until you have gotten a valid input that results in a valid move."
      ]
    },
    {
      "cell_type": "code",
      "execution_count": 18,
      "metadata": {
        "collapsed": true,
        "id": "EWn4J-WHzwmW"
      },
      "outputs": [],
      "source": [
        "def player_move(board, player):\n",
        "    \"\"\"\n",
        "    Takes input from the player and modifies the board using the function from Exercise 7.\n",
        "\n",
        "    Parameters:\n",
        "    board (list of list): The current game board (matrix).\n",
        "    player (int): The player number (1 for \"X\", 2 for \"O\").\n",
        "\n",
        "    Returns:\n",
        "    None\n",
        "    \"\"\"\n",
        "    while True:\n",
        "        # Prompt the player for a move\n",
        "        location = input(f\"Player {player} ({'X' if player == 1 else 'O'}), enter your move (e.g., A2): \").strip()\n",
        "\n",
        "        # Use the place_marker_with_labels function to try placing the marker\n",
        "        if place_marker_with_labels(board, player, location):\n",
        "            print(f\"Player {player} placed their marker at {location}.\")\n",
        "            break\n",
        "        else:\n",
        "            print(\"Invalid move. Please try again.\")\n"
      ]
    },
    {
      "cell_type": "code",
      "execution_count": 19,
      "metadata": {
        "collapsed": true,
        "colab": {
          "base_uri": "https://localhost:8080/"
        },
        "id": "FWA8JrzYzwmW",
        "outputId": "90a6ebdc-4341-406c-fb31-7bb7ded98841"
      },
      "outputs": [
        {
          "output_type": "stream",
          "name": "stdout",
          "text": [
            "Initial Board:\n",
            "   A   B   C\n",
            "  --- --- --- \n",
            "1 |   |   |   |\n",
            "  --- --- --- \n",
            "2 |   |   |   |\n",
            "  --- --- --- \n",
            "3 |   |   |   |\n",
            "  --- --- --- \n",
            "Player 1 (X), enter your move (e.g., A2): B3\n",
            "Player 1 placed their marker at B3.\n",
            "Board After Player 1's Move:\n",
            "   A   B   C\n",
            "  --- --- --- \n",
            "1 |   |   |   |\n",
            "  --- --- --- \n",
            "2 |   |   |   |\n",
            "  --- --- --- \n",
            "3 |   | X |   |\n",
            "  --- --- --- \n"
          ]
        }
      ],
      "source": [
        "# Define the place_marker_with_labels function from Exercise 7 (if not already defined)\n",
        "def place_marker_with_labels(board, player, location):\n",
        "    try:\n",
        "        column_label = location[0].upper()  # Extract column letter\n",
        "        row_label = location[1]  # Extract row number\n",
        "        x = int(row_label) - 1  # Row index\n",
        "        y = ord(column_label) - ord('A')  # Column index\n",
        "        return place_marker(board, player, x, y)\n",
        "    except (IndexError, ValueError):\n",
        "        return False\n",
        "\n",
        "# Define the place_marker function from Exercise 5 (if not already defined)\n",
        "def place_marker(board, player, x, y):\n",
        "    if 0 <= x < len(board) and 0 <= y < len(board[0]) and board[x][y] == 0:\n",
        "        board[x][y] = player\n",
        "        return True\n",
        "    return False\n",
        "\n",
        "# Create a 3x3 game board\n",
        "game_board = [\n",
        "    [0, 0, 0],\n",
        "    [0, 0, 0],\n",
        "    [0, 0, 0]\n",
        "]\n",
        "\n",
        "# Test the player_move function\n",
        "print(\"Initial Board:\")\n",
        "draw_tic_tac_toe_board_with_labels(game_board)  # Display the board with labels\n",
        "\n",
        "# Let Player 1 make a move\n",
        "player_move(game_board, 1)\n",
        "\n",
        "# Display the board after Player 1's move\n",
        "print(\"Board After Player 1's Move:\")\n",
        "draw_tic_tac_toe_board_with_labels(game_board)\n"
      ]
    },
    {
      "cell_type": "markdown",
      "metadata": {
        "id": "nO00RK8yzwmW"
      },
      "source": [
        "*Exercise 9:* Use all of the previous exercises to implement a full tic-tac-toe game, where an appropriate board is drawn, 2 players are repeatedly asked for a location coordinates of where they wish to place a mark, and the game status is checked until a player wins or a draw occurs."
      ]
    },
    {
      "cell_type": "code",
      "execution_count": 25,
      "metadata": {
        "collapsed": true,
        "id": "ELKd82JNzwmW"
      },
      "outputs": [],
      "source": [
        "def play_tic_tac_toe():\n",
        "    \"\"\"\n",
        "    Implements a full Tic Tac Toe game where two players take turns placing their marks,\n",
        "    the board is updated and displayed after each turn, and the game status is checked\n",
        "    until there is a winner or a draw.\n",
        "    \"\"\"\n",
        "    # Create a 3x3 empty game board\n",
        "    game_board = [[0, 0, 0], [0, 0, 0], [0, 0, 0]]\n",
        "\n",
        "    # Initialize variables\n",
        "    current_player = 1  # Player 1 starts\n",
        "    game_over = False\n",
        "\n",
        "    # Game loop\n",
        "    while not game_over:\n",
        "        # Display the current board\n",
        "        print(\"\\nCurrent Board:\")\n",
        "        draw_tic_tac_toe_board_with_labels(game_board)\n",
        "\n",
        "        # Ask the current player to make a move\n",
        "        player_move(game_board, current_player)\n",
        "\n",
        "        # Check the game status\n",
        "        status = check_tic_tac_toe_winner(game_board)\n",
        "        if status == 1:\n",
        "            print(\"\\nPlayer 1 (X) wins!\")\n",
        "            game_over = True\n",
        "        elif status == 2:\n",
        "            print(\"\\nPlayer 2 (O) wins!\")\n",
        "            game_over = True\n",
        "        elif status == 0:\n",
        "            print(\"\\nThe game is a draw!\")\n",
        "            game_over = True\n",
        "\n",
        "        # Switch to the other player\n",
        "        current_player = 1 if current_player == 2 else 2\n"
      ]
    },
    {
      "cell_type": "code",
      "execution_count": 21,
      "metadata": {
        "collapsed": true,
        "colab": {
          "base_uri": "https://localhost:8080/"
        },
        "id": "bloAFJwezwmX",
        "outputId": "fc957f5c-58a9-4a0b-9490-cb53782df145"
      },
      "outputs": [
        {
          "output_type": "stream",
          "name": "stdout",
          "text": [
            "\n",
            "Current Board:\n",
            "   A   B   C\n",
            "  --- --- --- \n",
            "1 |   |   |   |\n",
            "  --- --- --- \n",
            "2 |   |   |   |\n",
            "  --- --- --- \n",
            "3 |   |   |   |\n",
            "  --- --- --- \n",
            "Player 1 (X), enter your move (e.g., A2): C3\n",
            "Player 1 placed their marker at C3.\n",
            "\n",
            "Current Board:\n",
            "   A   B   C\n",
            "  --- --- --- \n",
            "1 |   |   |   |\n",
            "  --- --- --- \n",
            "2 |   |   |   |\n",
            "  --- --- --- \n",
            "3 |   |   | X |\n",
            "  --- --- --- \n",
            "Player 2 (O), enter your move (e.g., A2): B1\n",
            "Player 2 placed their marker at B1.\n",
            "\n",
            "Current Board:\n",
            "   A   B   C\n",
            "  --- --- --- \n",
            "1 |   | O |   |\n",
            "  --- --- --- \n",
            "2 |   |   |   |\n",
            "  --- --- --- \n",
            "3 |   |   | X |\n",
            "  --- --- --- \n",
            "Player 1 (X), enter your move (e.g., A2): B2\n",
            "Player 1 placed their marker at B2.\n",
            "\n",
            "Current Board:\n",
            "   A   B   C\n",
            "  --- --- --- \n",
            "1 |   | O |   |\n",
            "  --- --- --- \n",
            "2 |   | X |   |\n",
            "  --- --- --- \n",
            "3 |   |   | X |\n",
            "  --- --- --- \n",
            "Player 2 (O), enter your move (e.g., A2): A2\n",
            "Player 2 placed their marker at A2.\n",
            "\n",
            "Current Board:\n",
            "   A   B   C\n",
            "  --- --- --- \n",
            "1 |   | O |   |\n",
            "  --- --- --- \n",
            "2 | O | X |   |\n",
            "  --- --- --- \n",
            "3 |   |   | X |\n",
            "  --- --- --- \n",
            "Player 1 (X), enter your move (e.g., A2): C2\n",
            "Player 1 placed their marker at C2.\n",
            "\n",
            "Current Board:\n",
            "   A   B   C\n",
            "  --- --- --- \n",
            "1 |   | O |   |\n",
            "  --- --- --- \n",
            "2 | O | X | X |\n",
            "  --- --- --- \n",
            "3 |   |   | X |\n",
            "  --- --- --- \n",
            "Player 2 (O), enter your move (e.g., A2): A1\n",
            "Player 2 placed their marker at A1.\n",
            "\n",
            "Current Board:\n",
            "   A   B   C\n",
            "  --- --- --- \n",
            "1 | O | O |   |\n",
            "  --- --- --- \n",
            "2 | O | X | X |\n",
            "  --- --- --- \n",
            "3 |   |   | X |\n",
            "  --- --- --- \n",
            "Player 1 (X), enter your move (e.g., A2): A3\n",
            "Player 1 placed their marker at A3.\n",
            "\n",
            "Current Board:\n",
            "   A   B   C\n",
            "  --- --- --- \n",
            "1 | O | O |   |\n",
            "  --- --- --- \n",
            "2 | O | X | X |\n",
            "  --- --- --- \n",
            "3 | X |   | X |\n",
            "  --- --- --- \n",
            "Player 2 (O), enter your move (e.g., A2): C1\n",
            "Player 2 placed their marker at C1.\n",
            "\n",
            "Player 2 (O) wins!\n"
          ]
        }
      ],
      "source": [
        "# Run the game\n",
        "play_tic_tac_toe()"
      ]
    },
    {
      "cell_type": "markdown",
      "metadata": {
        "id": "mMyZwJTPzwmX"
      },
      "source": [
        "*Exercise 10:* Test that your game works for 5x5 Tic Tac Toe.  "
      ]
    },
    {
      "cell_type": "code",
      "source": [
        "# Define play_tic_tac_toe_dynamic\n",
        "def play_tic_tac_toe_dynamic(n):\n",
        "    \"\"\"\n",
        "    Implements a full Tic Tac Toe game for an n x n board where two players take turns\n",
        "    placing their marks, the board is updated and displayed after each turn, and the\n",
        "    game status is checked until there is a winner or a draw.\n",
        "\n",
        "    Parameters:\n",
        "    n (int): The size of the Tic Tac Toe board (n x n).\n",
        "    \"\"\"\n",
        "    # Create an n x n empty game board\n",
        "    game_board = [[0 for _ in range(n)] for _ in range(n)]\n",
        "\n",
        "    # Initialize variables\n",
        "    current_player = 1  # Player 1 starts\n",
        "    game_over = False\n",
        "\n",
        "    # Game loop\n",
        "    while not game_over:\n",
        "        # Display the current board\n",
        "        print(\"\\nCurrent Board:\")\n",
        "        draw_tic_tac_toe_board_with_labels(game_board)\n",
        "\n",
        "        # Ask the current player to make a move\n",
        "        player_move(game_board, current_player)\n",
        "\n",
        "        # Check the game status\n",
        "        status = check_tic_tac_toe_winner(game_board)\n",
        "        if status == 1:\n",
        "            print(\"\\nPlayer 1 (X) wins!\")\n",
        "            game_over = True\n",
        "        elif status == 2:\n",
        "            print(\"\\nPlayer 2 (O) wins!\")\n",
        "            game_over = True\n",
        "        elif status == 0:\n",
        "            print(\"\\nThe game is a draw!\")\n",
        "            game_over = True\n",
        "\n",
        "        # Switch to the other player\n",
        "        current_player = 1 if current_player == 2 else 2\n"
      ],
      "metadata": {
        "id": "BX3mH9bp5S9L"
      },
      "execution_count": 27,
      "outputs": []
    },
    {
      "cell_type": "code",
      "execution_count": 28,
      "metadata": {
        "collapsed": true,
        "colab": {
          "base_uri": "https://localhost:8080/"
        },
        "id": "aE887DvRzwmX",
        "outputId": "0ac6e8b0-89db-4f6f-f3fa-fd814534849d"
      },
      "outputs": [
        {
          "output_type": "stream",
          "name": "stdout",
          "text": [
            "\n",
            "Current Board:\n",
            "   A   B   C   D   E\n",
            "  --- --- --- --- --- \n",
            "1 |   |   |   |   |   |\n",
            "  --- --- --- --- --- \n",
            "2 |   |   |   |   |   |\n",
            "  --- --- --- --- --- \n",
            "3 |   |   |   |   |   |\n",
            "  --- --- --- --- --- \n",
            "4 |   |   |   |   |   |\n",
            "  --- --- --- --- --- \n",
            "5 |   |   |   |   |   |\n",
            "  --- --- --- --- --- \n",
            "Player 1 (X), enter your move (e.g., A2): A1\n",
            "Player 1 placed their marker at A1.\n",
            "\n",
            "Current Board:\n",
            "   A   B   C   D   E\n",
            "  --- --- --- --- --- \n",
            "1 | X |   |   |   |   |\n",
            "  --- --- --- --- --- \n",
            "2 |   |   |   |   |   |\n",
            "  --- --- --- --- --- \n",
            "3 |   |   |   |   |   |\n",
            "  --- --- --- --- --- \n",
            "4 |   |   |   |   |   |\n",
            "  --- --- --- --- --- \n",
            "5 |   |   |   |   |   |\n",
            "  --- --- --- --- --- \n",
            "Player 2 (O), enter your move (e.g., A2): A2\n",
            "Player 2 placed their marker at A2.\n",
            "\n",
            "Current Board:\n",
            "   A   B   C   D   E\n",
            "  --- --- --- --- --- \n",
            "1 | X |   |   |   |   |\n",
            "  --- --- --- --- --- \n",
            "2 | O |   |   |   |   |\n",
            "  --- --- --- --- --- \n",
            "3 |   |   |   |   |   |\n",
            "  --- --- --- --- --- \n",
            "4 |   |   |   |   |   |\n",
            "  --- --- --- --- --- \n",
            "5 |   |   |   |   |   |\n",
            "  --- --- --- --- --- \n",
            "Player 1 (X), enter your move (e.g., A2): B1\n",
            "Player 1 placed their marker at B1.\n",
            "\n",
            "Current Board:\n",
            "   A   B   C   D   E\n",
            "  --- --- --- --- --- \n",
            "1 | X | X |   |   |   |\n",
            "  --- --- --- --- --- \n",
            "2 | O |   |   |   |   |\n",
            "  --- --- --- --- --- \n",
            "3 |   |   |   |   |   |\n",
            "  --- --- --- --- --- \n",
            "4 |   |   |   |   |   |\n",
            "  --- --- --- --- --- \n",
            "5 |   |   |   |   |   |\n",
            "  --- --- --- --- --- \n",
            "Player 2 (O), enter your move (e.g., A2): A3\n",
            "Player 2 placed their marker at A3.\n",
            "\n",
            "Current Board:\n",
            "   A   B   C   D   E\n",
            "  --- --- --- --- --- \n",
            "1 | X | X |   |   |   |\n",
            "  --- --- --- --- --- \n",
            "2 | O |   |   |   |   |\n",
            "  --- --- --- --- --- \n",
            "3 | O |   |   |   |   |\n",
            "  --- --- --- --- --- \n",
            "4 |   |   |   |   |   |\n",
            "  --- --- --- --- --- \n",
            "5 |   |   |   |   |   |\n",
            "  --- --- --- --- --- \n",
            "Player 1 (X), enter your move (e.g., A2): C1\n",
            "Player 1 placed their marker at C1.\n",
            "\n",
            "Current Board:\n",
            "   A   B   C   D   E\n",
            "  --- --- --- --- --- \n",
            "1 | X | X | X |   |   |\n",
            "  --- --- --- --- --- \n",
            "2 | O |   |   |   |   |\n",
            "  --- --- --- --- --- \n",
            "3 | O |   |   |   |   |\n",
            "  --- --- --- --- --- \n",
            "4 |   |   |   |   |   |\n",
            "  --- --- --- --- --- \n",
            "5 |   |   |   |   |   |\n",
            "  --- --- --- --- --- \n",
            "Player 2 (O), enter your move (e.g., A2): A4\n",
            "Player 2 placed their marker at A4.\n",
            "\n",
            "Current Board:\n",
            "   A   B   C   D   E\n",
            "  --- --- --- --- --- \n",
            "1 | X | X | X |   |   |\n",
            "  --- --- --- --- --- \n",
            "2 | O |   |   |   |   |\n",
            "  --- --- --- --- --- \n",
            "3 | O |   |   |   |   |\n",
            "  --- --- --- --- --- \n",
            "4 | O |   |   |   |   |\n",
            "  --- --- --- --- --- \n",
            "5 |   |   |   |   |   |\n",
            "  --- --- --- --- --- \n",
            "Player 1 (X), enter your move (e.g., A2): D1\n",
            "Player 1 placed their marker at D1.\n",
            "\n",
            "Current Board:\n",
            "   A   B   C   D   E\n",
            "  --- --- --- --- --- \n",
            "1 | X | X | X | X |   |\n",
            "  --- --- --- --- --- \n",
            "2 | O |   |   |   |   |\n",
            "  --- --- --- --- --- \n",
            "3 | O |   |   |   |   |\n",
            "  --- --- --- --- --- \n",
            "4 | O |   |   |   |   |\n",
            "  --- --- --- --- --- \n",
            "5 |   |   |   |   |   |\n",
            "  --- --- --- --- --- \n",
            "Player 2 (O), enter your move (e.g., A2): B3\n",
            "Player 2 placed their marker at B3.\n",
            "\n",
            "Current Board:\n",
            "   A   B   C   D   E\n",
            "  --- --- --- --- --- \n",
            "1 | X | X | X | X |   |\n",
            "  --- --- --- --- --- \n",
            "2 | O |   |   |   |   |\n",
            "  --- --- --- --- --- \n",
            "3 | O | O |   |   |   |\n",
            "  --- --- --- --- --- \n",
            "4 | O |   |   |   |   |\n",
            "  --- --- --- --- --- \n",
            "5 |   |   |   |   |   |\n",
            "  --- --- --- --- --- \n",
            "Player 1 (X), enter your move (e.g., A2): E1\n",
            "Player 1 placed their marker at E1.\n",
            "\n",
            "Player 1 (X) wins!\n"
          ]
        }
      ],
      "source": [
        "# Run the game for a 5x5 board\n",
        "play_tic_tac_toe_dynamic(5)"
      ]
    },
    {
      "cell_type": "markdown",
      "metadata": {
        "id": "b6ebCTu0zwmX"
      },
      "source": [
        "*Exercise 11:* (Advanced / Challenge) Develop a version of the game where one player is the computer. Note that you don't need to do an extensive seach for the best move. You can have the computer simply protect against loosing and otherwise try to win with straight or diagonal patterns."
      ]
    },
    {
      "cell_type": "code",
      "execution_count": 30,
      "metadata": {
        "collapsed": true,
        "id": "VEgQdvE-zwmY"
      },
      "outputs": [],
      "source": [
        "import random\n",
        "\n",
        "def computer_move(board, computer_player, human_player):\n",
        "    \"\"\"\n",
        "    Makes a move for the computer player, prioritizing blocking the opponent\n",
        "    or winning if possible.\n",
        "\n",
        "    Parameters:\n",
        "    board (list of list): The current game board (matrix).\n",
        "    computer_player (int): The computer's player number (1 or 2).\n",
        "    human_player (int): The human player's number (1 or 2).\n",
        "\n",
        "    Returns:\n",
        "    None\n",
        "    \"\"\"\n",
        "    n = len(board)\n",
        "\n",
        "    # Check if the computer can win in the next move\n",
        "    for x in range(n):\n",
        "        for y in range(n):\n",
        "            if board[x][y] == 0:  # Empty cell\n",
        "                board[x][y] = computer_player\n",
        "                if check_tic_tac_toe_winner(board) == computer_player:\n",
        "                    return\n",
        "                board[x][y] = 0  # Undo move\n",
        "\n",
        "    # Check if the human can win in the next move and block it\n",
        "    for x in range(n):\n",
        "        for y in range(n):\n",
        "            if board[x][y] == 0:  # Empty cell\n",
        "                board[x][y] = human_player\n",
        "                if check_tic_tac_toe_winner(board) == human_player:\n",
        "                    board[x][y] = computer_player  # Block human's win\n",
        "                    return\n",
        "                board[x][y] = 0  # Undo move\n",
        "\n",
        "    # Otherwise, choose a random empty spot\n",
        "    empty_cells = [(x, y) for x in range(n) for y in range(n) if board[x][y] == 0]\n",
        "    if empty_cells:\n",
        "        x, y = random.choice(empty_cells)\n",
        "        board[x][y] = computer_player\n"
      ]
    },
    {
      "cell_type": "code",
      "execution_count": 31,
      "metadata": {
        "collapsed": true,
        "colab": {
          "base_uri": "https://localhost:8080/"
        },
        "id": "R4g2bfmmzwmY",
        "outputId": "9e67ed8a-7f86-43c1-96cb-4e6134905fda"
      },
      "outputs": [
        {
          "output_type": "stream",
          "name": "stdout",
          "text": [
            "\n",
            "Current Board:\n",
            "   A   B   C\n",
            "  --- --- --- \n",
            "1 |   |   |   |\n",
            "  --- --- --- \n",
            "2 |   |   |   |\n",
            "  --- --- --- \n",
            "3 |   |   |   |\n",
            "  --- --- --- \n",
            "Player 1 (X), enter your move (e.g., A2): A1\n",
            "Player 1 placed their marker at A1.\n",
            "\n",
            "Current Board:\n",
            "   A   B   C\n",
            "  --- --- --- \n",
            "1 | X |   |   |\n",
            "  --- --- --- \n",
            "2 |   |   |   |\n",
            "  --- --- --- \n",
            "3 |   |   |   |\n",
            "  --- --- --- \n",
            "Computer is making a move...\n",
            "\n",
            "Current Board:\n",
            "   A   B   C\n",
            "  --- --- --- \n",
            "1 | X | O |   |\n",
            "  --- --- --- \n",
            "2 |   |   |   |\n",
            "  --- --- --- \n",
            "3 |   |   |   |\n",
            "  --- --- --- \n",
            "Player 1 (X), enter your move (e.g., A2): B2\n",
            "Player 1 placed their marker at B2.\n",
            "\n",
            "Current Board:\n",
            "   A   B   C\n",
            "  --- --- --- \n",
            "1 | X | O |   |\n",
            "  --- --- --- \n",
            "2 |   | X |   |\n",
            "  --- --- --- \n",
            "3 |   |   |   |\n",
            "  --- --- --- \n",
            "Computer is making a move...\n",
            "\n",
            "Current Board:\n",
            "   A   B   C\n",
            "  --- --- --- \n",
            "1 | X | O |   |\n",
            "  --- --- --- \n",
            "2 |   | X |   |\n",
            "  --- --- --- \n",
            "3 |   |   | O |\n",
            "  --- --- --- \n",
            "Player 1 (X), enter your move (e.g., A2): A2\n",
            "Player 1 placed their marker at A2.\n",
            "\n",
            "Current Board:\n",
            "   A   B   C\n",
            "  --- --- --- \n",
            "1 | X | O |   |\n",
            "  --- --- --- \n",
            "2 | X | X |   |\n",
            "  --- --- --- \n",
            "3 |   |   | O |\n",
            "  --- --- --- \n",
            "Computer is making a move...\n",
            "\n",
            "Current Board:\n",
            "   A   B   C\n",
            "  --- --- --- \n",
            "1 | X | O |   |\n",
            "  --- --- --- \n",
            "2 | X | X | O |\n",
            "  --- --- --- \n",
            "3 |   |   | O |\n",
            "  --- --- --- \n",
            "Player 1 (X), enter your move (e.g., A2): C1\n",
            "Player 1 placed their marker at C1.\n",
            "\n",
            "Current Board:\n",
            "   A   B   C\n",
            "  --- --- --- \n",
            "1 | X | O | X |\n",
            "  --- --- --- \n",
            "2 | X | X | O |\n",
            "  --- --- --- \n",
            "3 |   |   | O |\n",
            "  --- --- --- \n",
            "Computer is making a move...\n",
            "\n",
            "Current Board:\n",
            "   A   B   C\n",
            "  --- --- --- \n",
            "1 | X | O | X |\n",
            "  --- --- --- \n",
            "2 | X | X | O |\n",
            "  --- --- --- \n",
            "3 | O |   | O |\n",
            "  --- --- --- \n",
            "Player 1 (X), enter your move (e.g., A2): B3\n",
            "Player 1 placed their marker at B3.\n",
            "\n",
            "The game is a draw!\n"
          ]
        }
      ],
      "source": [
        "def play_tic_tac_toe_with_computer(n):\n",
        "    \"\"\"\n",
        "    Implements a Tic Tac Toe game where one player is the computer.\n",
        "\n",
        "    Parameters:\n",
        "    n (int): The size of the Tic Tac Toe board (n x n).\n",
        "    \"\"\"\n",
        "    # Create an n x n empty game board\n",
        "    game_board = [[0 for _ in range(n)] for _ in range(n)]\n",
        "\n",
        "    # Initialize variables\n",
        "    human_player = 1  # Player 1 is human\n",
        "    computer_player = 2  # Player 2 is the computer\n",
        "    current_player = 1  # Human starts\n",
        "    game_over = False\n",
        "\n",
        "    # Game loop\n",
        "    while not game_over:\n",
        "        # Display the current board\n",
        "        print(\"\\nCurrent Board:\")\n",
        "        draw_tic_tac_toe_board_with_labels(game_board)\n",
        "\n",
        "        if current_player == human_player:\n",
        "            # Human player's turn\n",
        "            player_move(game_board, human_player)\n",
        "        else:\n",
        "            # Computer player's turn\n",
        "            print(\"Computer is making a move...\")\n",
        "            computer_move(game_board, computer_player, human_player)\n",
        "\n",
        "        # Check the game status\n",
        "        status = check_tic_tac_toe_winner(game_board)\n",
        "        if status == human_player:\n",
        "            print(\"\\nPlayer 1 (Human) wins!\")\n",
        "            game_over = True\n",
        "        elif status == computer_player:\n",
        "            print(\"\\nPlayer 2 (Computer) wins!\")\n",
        "            game_over = True\n",
        "        elif status == 0:\n",
        "            print(\"\\nThe game is a draw!\")\n",
        "            game_over = True\n",
        "\n",
        "        # Switch players\n",
        "        current_player = human_player if current_player == computer_player else computer_player\n",
        "\n",
        "# Run the game with the computer\n",
        "play_tic_tac_toe_with_computer(3)  # You can test with a 3x3 or larger board\n"
      ]
    }
  ],
  "metadata": {
    "kernelspec": {
      "display_name": "Python 3 (ipykernel)",
      "language": "python",
      "name": "python3"
    },
    "language_info": {
      "codemirror_mode": {
        "name": "ipython",
        "version": 3
      },
      "file_extension": ".py",
      "mimetype": "text/x-python",
      "name": "python",
      "nbconvert_exporter": "python",
      "pygments_lexer": "ipython3",
      "version": "3.9.6"
    },
    "colab": {
      "provenance": []
    }
  },
  "nbformat": 4,
  "nbformat_minor": 0
}