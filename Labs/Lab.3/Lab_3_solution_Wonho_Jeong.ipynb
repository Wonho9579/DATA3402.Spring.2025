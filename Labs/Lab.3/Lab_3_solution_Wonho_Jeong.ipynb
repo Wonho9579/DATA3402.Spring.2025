{
  "cells": [
    {
      "cell_type": "markdown",
      "metadata": {
        "id": "v4oBT5_wwrkU"
      },
      "source": [
        "# Lab 3\n",
        "\n",
        "In this lab we will become familiar with distributions, histograms, and functional programming. Do not use numpy or any other library for this lab.\n",
        "\n",
        "Before that, lets get setup homework submission and submit your previous lab.  \n",
        "\n",
        "## Working on the Command-line.\n",
        "\n",
        "It is important for you to learn to work on the command line and to be familiar with the Unix environment (e.g. Linux, Mac OS, or Windows Linux Subsystem). We'll go over working on the command-line in detail later in the course.\n",
        "\n",
        "You are required to submit your work in this course via GitHub. Today in class, you will setup everything on the command-line.\n",
        "\n",
        "### Command-line basics\n",
        "\n",
        "There is plenty of material online that will help you figure out how to do various tasks on the command line. Commands you may need to know today:\n",
        "\n",
        "* `ls`: lists the contents of the current directory.\n",
        "* `pwd`: prints the path of the current directory.\n",
        "* `cd <directory>`: changes your current directory to the specified directory.\n",
        "* `cd ..`: changes current directory to the previous directory. Basically steps out of the current directory to the directory containing the current directory.\n",
        "* `mkdir <directory>`: create a new directory with the specified name.\n",
        "* `rmdir <directory>`: removes the specified directory. Note it has to be empty.\n",
        "* `rm <filename>`: deletes the specified file.\n",
        "* `mv <filename 1> <filename 2>`: Moves or renames a file.\n",
        "* `cp <filename 1> <filename 2>`: copies an file. If you just provide a path to a directory, it copies the file into that directory with the same filename. If you specifiy a new filename, the copy has a new name. For example `cp File.1.txt File.2.txt` creates a copy of `File.1.txt` with the name `File.2.txt`. Meanwhile `cp File.1.txt my_directory`, where `my_directory` is a directory, creates a copy of `File.1.txt` in directory `my_directory` with the name `File.1.txt`.\n",
        "\n",
        "For reference, here are some example resources I found by googling:\n",
        "\n",
        "* Paths and Wildcards: https://www.warp.dev/terminus/linux-wildcards\n",
        "* Basic commands like copy: https://kb.iu.edu/d/afsk\n",
        "* General introduction to shell: https://github-pages.ucl.ac.uk/RCPSTrainingMaterials/HPCandHTCusingLegion/2_intro_to_shell.html\n",
        "* Manual pages: https://www.geeksforgeeks.org/linux-man-page-entries-different-types/?ref=ml_lbp\n",
        "* Chaining commands: https://www.geeksforgeeks.org/chaining-commands-in-linux/?ref=ml_lbp\n",
        "* Piping: https://www.geeksforgeeks.org/piping-in-unix-or-linux/\n",
        "* Using sed: https://www.geeksforgeeks.org/sed-command-linux-set-2/?ref=ml_lbp\n",
        "* Various Unix commands: https://www.geeksforgeeks.org/linux-commands/?ref=lbp\n",
        "* Cheat sheets:\n",
        "    * https://www.stationx.net/unix-commands-cheat-sheet/\n",
        "    * https://cheatography.com/davechild/cheat-sheets/linux-command-line/\n",
        "    * https://www.theknowledgeacademy.com/blog/unix-commands-cheat-sheet/\n",
        "    \n",
        "These aren't necessarily the best resources. Feel free to search for better ones. Also, don't forget that Unix has built-in manual pages for all of its commands. Just type `man <command>` at the command prompt. Use the space-bar to scroll through the documentation and \"q\" to exit.\n",
        "\n",
        "\n",
        "### Setup and Submission\n",
        "\n",
        "Our course repository is public. The instructions here aim to have you setup a fork of the course repository. Unfortunately because you are forking a public repo, your fork will have to be public also.\n",
        "\n",
        "You should be familiar with git from the first semester of this course. I assume that you all have github accounts and have setup things to be able to [push to github using ssh](https://docs.github.com/en/github/authenticating-to-github/connecting-to-github-with-ssh). The instuctions here lead you to:\n",
        "\n",
        "We'll overview what you will do before going through step by step instructions.\n",
        "\n",
        "1. Setup:\n",
        "    1. Fork the class repository. Some directions in [fork-a-repo](https://docs.github.com/en/github/getting-started-with-github/fork-a-repo).\n",
        "    1. Create a directory on your personal system where you will keep all course materials.\n",
        "    1. In that directory, clone your fork of the repository.\n",
        "    1. Using `git remote`, set the upstream to be the class repo, so you can pull from the class and push to your fork.\n",
        "\n",
        "1. Submission:\n",
        "    1. Copy your solutions into the appropriate directory (e.g. into `Labs/Lab.2/`) and with appropriate filename `Lab.2.solution.ipynb'.\n",
        "    1. Commit / push your solutions.\n",
        "\n",
        "Below are step by step instructions with examples (including example directory naming convention). Feel free to modify things as you see fit.\n",
        "\n",
        "#### Setup\n",
        "You should only need to follow this instructions once. Here are some useful git commands:\n",
        "\n",
        "* Git help: `git help`\n",
        "* Git remote help: `git help remote`\n",
        "* Check remote status: `git remote -v`\n",
        "* Add a remote: `git remote add <stream name> <repo URL>`\n",
        "* Add a remove: `git remote remove <stream name>`\n",
        "\n",
        "Steps:\n",
        "1. In a browser, log into GitHub and navigate to the [course repository](https://github.com/UTA-DataScience/DATA3402.Spring.2025).\n",
        "1. On the top right of the page, press the fork button to create a new fork into your own GitHub account.\n",
        "1. After successful fork, you should find the browser showing your fork of the course repository. Use the green \"Code\" button to copy path to the repo into your the clipboard of your computer.\n",
        "1. Open a shell on your personal computer.\n",
        "1. If you have not done so already, create a new directory/folder where you will keep all course material to navigate to it. For example: `mkdir Data-3402` and `cd Data-3402`.\n",
        "1. Clone your fork of the repository using `git clone` followed by the path you copied into your clipboard. (copy/paste)\n",
        "1. Paste the URL to your fork in the worksheet for the TAs and instructors.\n",
        "1. Now go into the directory of your clone (`cd DATA3402.Spring.2025`).\n",
        "1. Type `git remote -v` to see the current setup for fetch and pull.\n",
        "1. Note the URL you see. This should be the same as what you used for your clone for both push and fetch.\n",
        "1. Delete the origin remote using `git remote remove origin`.\n",
        "1. Add the course repo as your remote using `git remote add origin https://github.com/UTA-DataScience/DATA3402.Spring.2025.git`.\n",
        "1. Change the push to point to your fork. This means you will need the URL to your clone we copied earlier and confirmed as the original origin. The command will look something like: `git remote set-url --push origin  https://github.com/XXXXXX/DATA3402.Spring.2025.git`, where XXXXX is your username on GitHub.\n",
        "1. Note that if you setup everything correctly, you now should be able to do `git pull` to get updates from the course repo, and do `git push` to push your commits into your own fork.\n",
        "\n",
        "### Submission\n",
        "These instructions outline how you submit files. Some useful commands:\n",
        "* To add a file to local repository: `git add <file>`.\n",
        "* To commit all changed files into local repository: `git -a -m \"A message\"`. You need to provide some comment when you commit.\n",
        "* To push the commited files from the local repository to GitHub: `git push`.\n",
        "* To get updates from GitHub: `git pull`.\n",
        "\n",
        "Steps:\n",
        "1. To submit your labs, navigate to your clone of your fork of the course repository.\n",
        "1. Use `git pull` to make sure you have the latest updates.\n",
        "1. Make sure your copy of the lab your are working on is in the appropriate place in this clone. That means if you have the file elsewhere, copy it to the same directory in your clone of your fork.\n",
        "1. Note that in order to avoid future conflicts, you should always name your solution differently than the original file in the class repo. For example if your file is still named `Lab.2.ipynb` you should rename it using the `mv` command: `mv Lab.2.ipynb Lab.2.solution.ipynb`.\n",
        "1. Add and files you wish to submit into the repo. For example: `git add Labs/Lab.2/Lab.2.solution.ipynb`\n",
        "1. Commit any changes: `git commit -a -m \"Lab 2 updates\"`\n",
        "1. Push your changes: `git push`\n",
        "1. Check on github website that your solutions have been properly submitted.\n",
        "\n",
        "Before you leave the session today, make sure your GitHub Repo is setup. If you need to work further on your lab, navigate jupyter to the copy of the lab you just submitted and work there. Once done, repeat the commit and push commands to submit your updated solution. Note that lab 2 is due by midnight Friay 1/31/2025.\n"
      ]
    },
    {
      "cell_type": "markdown",
      "metadata": {
        "id": "yNdmEU0gwrkZ"
      },
      "source": [
        "### Uniform Distribution\n",
        "Lets start with generating some fake random data. You can get a random number between 0 and 1 using the python random module as follow:"
      ]
    },
    {
      "cell_type": "code",
      "execution_count": 1,
      "metadata": {
        "colab": {
          "base_uri": "https://localhost:8080/"
        },
        "id": "graKM9iHwrka",
        "outputId": "ea855cc8-3ba5-43f5-a023-64ecf8620edb"
      },
      "outputs": [
        {
          "output_type": "stream",
          "name": "stdout",
          "text": [
            "The Value of x is 0.05416550834577061\n"
          ]
        }
      ],
      "source": [
        "import random\n",
        "x=random.random()\n",
        "print(\"The Value of x is\", x)"
      ]
    },
    {
      "cell_type": "markdown",
      "metadata": {
        "id": "KxjaedEgwrkc"
      },
      "source": [
        "Everytime you call random, you will get a new number.\n",
        "\n",
        "*Exercise 1:* Using random, write a function `generate_uniform(N, mymin, mymax)`, that returns a python list containing N random numbers between specified minimum and maximum value. Note that you may want to quickly work out on paper how to turn numbers between 0 and 1 to between other values."
      ]
    },
    {
      "cell_type": "code",
      "execution_count": 2,
      "metadata": {
        "id": "_eALC06dwrkc"
      },
      "outputs": [],
      "source": [
        "import random\n",
        "\n",
        "# Skeleton\n",
        "def generate_uniform(N,x_min,x_max):\n",
        "    out = []\n",
        "    ### BEGIN SOLUTION\n",
        "\n",
        "    for _ in range(N):\n",
        "        random_num = random.uniform(x_min, x_max)\n",
        "        out.append(random_num)\n",
        "\n",
        "    ### END SOLUTION\n",
        "    return out"
      ]
    },
    {
      "cell_type": "code",
      "execution_count": 3,
      "metadata": {
        "colab": {
          "base_uri": "https://localhost:8080/"
        },
        "id": "KrGcsgSewrkc",
        "outputId": "062f7758-0f41-45a5-890b-e17d93b8344e"
      },
      "outputs": [
        {
          "output_type": "stream",
          "name": "stdout",
          "text": [
            "Data Type: <class 'list'>\n",
            "Data Length: 1000\n",
            "Type of Data Contents: <class 'float'>\n",
            "Data Minimum: -9.9777515003409\n",
            "Data Maximum: 9.991801101404935\n"
          ]
        }
      ],
      "source": [
        "# Test your solution here\n",
        "data=generate_uniform(1000,-10,10)\n",
        "print (\"Data Type:\", type(data))\n",
        "print (\"Data Length:\", len(data))\n",
        "if len(data)>0:\n",
        "    print (\"Type of Data Contents:\", type(data[0]))\n",
        "    print (\"Data Minimum:\", min(data))\n",
        "    print (\"Data Maximum:\", max(data))"
      ]
    },
    {
      "cell_type": "markdown",
      "metadata": {
        "id": "oHmNrkeXwrkd"
      },
      "source": [
        "*Exercise 2a:*\n",
        "Write a function that computes the mean of values in a list. Recall the equation for the mean of a random variable $\\bf{x}$ computed on a data set of $n$ values $\\{ x_i \\} = \\{x_1, x_2, ..., x_n\\}$  is ${\\bf\\bar{x}} = \\frac{1}{n} \\sum_i^n x_i$."
      ]
    },
    {
      "cell_type": "code",
      "execution_count": 4,
      "metadata": {
        "id": "8hiTuSaQwrkd"
      },
      "outputs": [],
      "source": [
        "# Skeleton\n",
        "def mean(Data):\n",
        "    m=0.\n",
        "\n",
        "    ### BEGIN SOLUTION\n",
        "\n",
        "    if len(Data) == 0:\n",
        "        m = 0.\n",
        "    else:\n",
        "        m = sum(Data) / len(Data)\n",
        "\n",
        "    ### END SOLUTION\n",
        "\n",
        "    return m"
      ]
    },
    {
      "cell_type": "code",
      "execution_count": 5,
      "metadata": {
        "colab": {
          "base_uri": "https://localhost:8080/"
        },
        "id": "25cD_ZMmwrke",
        "outputId": "dd7d58a7-37b7-4430-af98-480338cce632"
      },
      "outputs": [
        {
          "output_type": "stream",
          "name": "stdout",
          "text": [
            "Mean of Data: 0.1793128243266783\n"
          ]
        }
      ],
      "source": [
        "# Test your solution here\n",
        "print (\"Mean of Data:\", mean(data))"
      ]
    },
    {
      "cell_type": "markdown",
      "metadata": {
        "id": "DOWEfeO2wrke"
      },
      "source": [
        "*Exercise 2b:*\n",
        "Write a function that computes the variance of values in a list. Recall the equation for the variance of a random variable $\\bf{x}$ computed on a data set of $n$ values $\\{ x_i \\} = \\{x_1, x_2, ..., x_n\\}$  is ${\\bf\\langle x \\rangle} = \\frac{1}{n-1} \\sum_i^n (x_i - {\\bf\\bar{x}})^2$."
      ]
    },
    {
      "cell_type": "code",
      "execution_count": 6,
      "metadata": {
        "id": "xiVQnYslwrke"
      },
      "outputs": [],
      "source": [
        "# Skeleton\n",
        "def variance(Data):\n",
        "    m=0.\n",
        "\n",
        "    ### BEGIN SOLUTION\n",
        "\n",
        "    n = len(Data)\n",
        "    if n < 2:\n",
        "        m = 0.\n",
        "    else:\n",
        "        avg = sum(Data) / n\n",
        "        m = sum((x - avg) ** 2 for x in Data) / (n - 1)\n",
        "\n",
        "    ### END SOLUTION\n",
        "\n",
        "    return m"
      ]
    },
    {
      "cell_type": "code",
      "execution_count": 7,
      "metadata": {
        "colab": {
          "base_uri": "https://localhost:8080/"
        },
        "id": "M2goYu63wrkf",
        "outputId": "805c0c89-6d15-413a-9d1e-15f900155815"
      },
      "outputs": [
        {
          "output_type": "stream",
          "name": "stdout",
          "text": [
            "Variance of Data: 32.93444337241004\n"
          ]
        }
      ],
      "source": [
        "# Test your solution here\n",
        "print (\"Variance of Data:\", variance(data))"
      ]
    },
    {
      "cell_type": "markdown",
      "metadata": {
        "id": "EI8ARaV6wrkf"
      },
      "source": [
        "## Histogramming"
      ]
    },
    {
      "cell_type": "markdown",
      "metadata": {
        "id": "G_doqtWSwrkf"
      },
      "source": [
        "*Exercise 3:* Write a function that bins the data so that you can create a histogram. An example of how to implement histogramming is the following logic:\n",
        "\n",
        "* User inputs a list of values `x` and optionally `n_bins` which defaults to 10.\n",
        "* If not supplied, find the minimum and maximum (`x_min`,`x_max`) of the values in x.\n",
        "* Determine the bin size (`bin_size`) by dividing the range of the function by the number of bins.\n",
        "* Create an empty list of zeros of size `n_bins`, call it `hist`.\n",
        "* Loop over the values in `x`\n",
        "    * Loop over the values in `hist` with index `i`:\n",
        "        * If x is between `x_min+i*bin_size` and `x_min+(i+1)*bin_size`, increment `hist[i].`\n",
        "        * For efficiency, try to use continue to goto the next bin and data point.\n",
        "* Return `hist` and the list corresponding of the bin edges (i.e. of `x_min+i*bin_size`).    "
      ]
    },
    {
      "cell_type": "code",
      "execution_count": 8,
      "metadata": {
        "id": "XG8sRZO8wrkf"
      },
      "outputs": [],
      "source": [
        "# Solution\n",
        "def histogram(x, n_bins=10, x_min=None, x_max=None):\n",
        "    ### BEGIN SOLUTION\n",
        "    if x_min is None:\n",
        "        x_min = min(x)\n",
        "    if x_max is None:\n",
        "        x_max = max(x)\n",
        "\n",
        "    if x_max == x_min:\n",
        "        return [len(x)], [x_min, x_max]\n",
        "\n",
        "    bin_size = max(1, int((x_max - x_min) / n_bins))  # Ensure bin size is integer\n",
        "    hist = [0] * n_bins\n",
        "    bin_edges = [x_min + i * bin_size for i in range(n_bins + 1)]\n",
        "\n",
        "    for val in x:\n",
        "        idx = int((val - x_min) // bin_size)\n",
        "        if idx == n_bins:\n",
        "            idx = n_bins - 1\n",
        "        hist[idx] += 1\n",
        "\n",
        "    ### END SOLUTION\n",
        "    return hist, bin_edges"
      ]
    },
    {
      "cell_type": "code",
      "execution_count": 9,
      "metadata": {
        "colab": {
          "base_uri": "https://localhost:8080/"
        },
        "id": "T5JMTpG0wrkf",
        "outputId": "05fab20d-c26f-4127-9140-899480286bab"
      },
      "outputs": [
        {
          "output_type": "stream",
          "name": "stdout",
          "text": [
            "[39, 52, 48, 40, 60, 52, 47, 64, 47, 44, 46, 52, 51, 43, 46, 54, 59, 54, 57, 45, 0, 0, 0, 0, 0, 0, 0, 0, 0, 0, 0, 0, 0, 0, 0, 0, 0, 0, 0, 0, 0, 0, 0, 0, 0, 0, 0, 0, 0, 0, 0, 0, 0, 0, 0, 0, 0, 0, 0, 0, 0, 0, 0, 0, 0, 0, 0, 0, 0, 0, 0, 0, 0, 0, 0, 0, 0, 0, 0, 0, 0, 0, 0, 0, 0, 0, 0, 0, 0, 0, 0, 0, 0, 0, 0, 0, 0, 0, 0, 0]\n"
          ]
        }
      ],
      "source": [
        "# Test your solution here\n",
        "h,b=histogram(data,100)\n",
        "print(h)"
      ]
    },
    {
      "cell_type": "markdown",
      "metadata": {
        "id": "daUUkdY2wrkg"
      },
      "source": [
        "*Exercise 4:* Write a function that uses the histogram function in the previous exercise to create a text-based \"graph\". For example the output could look like the following:\n",
        "```\n",
        "[  0,  1] : ######\n",
        "[  1,  2] : #####\n",
        "[  2,  3] : ######\n",
        "[  3,  4] : ####\n",
        "[  4,  5] : ####\n",
        "[  5,  6] : ######\n",
        "[  6,  7] : #####\n",
        "[  7,  8] : ######\n",
        "[  8,  9] : ####\n",
        "[  9, 10] : #####\n",
        "```\n",
        "\n",
        "Where each line corresponds to a bin and the number of `#`'s are proportional to the value of the data in the bin."
      ]
    },
    {
      "cell_type": "code",
      "execution_count": 10,
      "metadata": {
        "id": "GFmSFsriwrkg"
      },
      "outputs": [],
      "source": [
        "# Solution\n",
        "def draw_histogram(x,n_bins,x_min=None,x_max=None,character=\"#\",max_character_per_line=20):\n",
        "    ### BEGIN SOLUTION\n",
        "    # Compute histogram\n",
        "    hist, bin_edges = histogram(x, n_bins, x_min, x_max)\n",
        "\n",
        "    # Normalize histogram values for visual representation\n",
        "    max_count = max(hist)\n",
        "    scale_factor = max_character_per_line / max_count if max_count > 0 else 1\n",
        "\n",
        "    # Print histogram\n",
        "    for i in range(n_bins):\n",
        "        bin_label = f\"[{bin_edges[i]:.1f}, {bin_edges[i+1]:.1f}]\"\n",
        "        bar = character * int(hist[i] * scale_factor)\n",
        "        print(f\"{bin_label} : {bar}\")\n",
        "\n",
        "\n",
        "    ### END SOLUTION\n",
        "\n",
        "    return hist,bin_edges"
      ]
    },
    {
      "cell_type": "code",
      "execution_count": 11,
      "metadata": {
        "colab": {
          "base_uri": "https://localhost:8080/"
        },
        "id": "B8w42unewrkg",
        "outputId": "2181742b-448c-4fb3-9ced-b7329c146ba2"
      },
      "outputs": [
        {
          "output_type": "stream",
          "name": "stdout",
          "text": [
            "[-10.0, -9.0] : ############\n",
            "[-9.0, -8.0] : ################\n",
            "[-8.0, -7.0] : ###############\n",
            "[-7.0, -6.0] : ############\n",
            "[-6.0, -5.0] : ##################\n",
            "[-5.0, -4.0] : ################\n",
            "[-4.0, -3.0] : ##############\n",
            "[-3.0, -2.0] : ####################\n",
            "[-2.0, -1.0] : ##############\n",
            "[-1.0, 0.0] : #############\n",
            "[0.0, 1.0] : ##############\n",
            "[1.0, 2.0] : ################\n",
            "[2.0, 3.0] : ###############\n",
            "[3.0, 4.0] : #############\n",
            "[4.0, 5.0] : ##############\n",
            "[5.0, 6.0] : ################\n",
            "[6.0, 7.0] : ##################\n",
            "[7.0, 8.0] : ################\n",
            "[8.0, 9.0] : #################\n",
            "[9.0, 10.0] : ##############\n"
          ]
        }
      ],
      "source": [
        "# Test your solution here\n",
        "h, b = draw_histogram(data, 20)"
      ]
    },
    {
      "cell_type": "markdown",
      "metadata": {
        "id": "6MYWqQy-wrkg"
      },
      "source": [
        "## Functional Programming\n",
        "\n",
        "*Exercise 5:* Write a function the applies a booling function (that returns true/false) to every element in data, and return a list of indices of elements where the result was true. Use this function to find the indices of entries greater than 0.5."
      ]
    },
    {
      "cell_type": "code",
      "execution_count": 12,
      "metadata": {
        "id": "twuVTC5-wrkg"
      },
      "outputs": [],
      "source": [
        "def where(mylist,myfunc):\n",
        "    out= []\n",
        "\n",
        "    ### BEGIN SOLUTION\n",
        "\n",
        "    for i, val in enumerate(mylist):\n",
        "        if myfunc(val):\n",
        "            out.append(i)\n",
        "\n",
        "    ### END SOLUTION\n",
        "\n",
        "    return out\n",
        "# Define the Boolean function to check if an element is greater than 0.5\n",
        "def greater_than_half(x):\n",
        "    return x > 0.5"
      ]
    },
    {
      "cell_type": "code",
      "execution_count": 13,
      "metadata": {
        "colab": {
          "base_uri": "https://localhost:8080/"
        },
        "id": "Khm5OhrYwrkg",
        "outputId": "d1f1fb0d-508a-4914-cdd4-b17c8ec679af"
      },
      "outputs": [
        {
          "output_type": "stream",
          "name": "stdout",
          "text": [
            "Indices where elements are greater than 0.5: [1, 2, 4]\n"
          ]
        }
      ],
      "source": [
        "# Test your solution here\n",
        "data = [0.2, 0.6, 0.8, 0.3, 0.9, 0.1]\n",
        "result = where(data, greater_than_half)\n",
        "print(\"Indices where elements are greater than 0.5:\", result)"
      ]
    },
    {
      "cell_type": "markdown",
      "metadata": {
        "id": "JS1AsnROwrkg"
      },
      "source": [
        "*Exercise 6:* The `inrange(mymin,mymax)` function below returns a function that tests if it's input is between the specified values. Write corresponding functions that test:\n",
        "* Even\n",
        "* Odd\n",
        "* Greater than\n",
        "* Less than\n",
        "* Equal\n",
        "* Divisible by"
      ]
    },
    {
      "cell_type": "code",
      "execution_count": 14,
      "metadata": {
        "colab": {
          "base_uri": "https://localhost:8080/"
        },
        "id": "lIpvaqyiwrkh",
        "outputId": "89ab112e-d788-4890-ad3d-e8e46d2c278a"
      },
      "outputs": [
        {
          "output_type": "stream",
          "name": "stdout",
          "text": [
            "True True False False False\n",
            "False False True True False\n",
            "Number of Entries passing F1: 6\n",
            "Number of Entries passing F2: 0\n"
          ]
        }
      ],
      "source": [
        "def in_range(mymin,mymax):\n",
        "    def testrange(x):\n",
        "        return x<mymax and x>=mymin\n",
        "    return testrange\n",
        "\n",
        "# Examples:\n",
        "F1 = in_range(0,10)\n",
        "F2 = in_range(10,20)\n",
        "\n",
        "# Test of in_range\n",
        "print (F1(0), F1(1), F1(10), F1(15), F1(20))\n",
        "print (F2(0), F2(1), F2(10), F2(15), F2(20))\n",
        "\n",
        "print (\"Number of Entries passing F1:\", len(where(data,F1)))\n",
        "print (\"Number of Entries passing F2:\", len(where(data,F2)))"
      ]
    },
    {
      "cell_type": "code",
      "execution_count": 15,
      "metadata": {
        "id": "E9Xu0u3Lwrkh"
      },
      "outputs": [],
      "source": [
        "### BEGIN SOLUTION\n",
        "\n",
        "def even():\n",
        "    def test_even(x):\n",
        "        return x % 2 == 0\n",
        "    return test_even\n",
        "\n",
        "def odd():\n",
        "    def test_odd(x):\n",
        "        return x % 2 != 0\n",
        "    return test_odd\n",
        "\n",
        "def greater_than(value):\n",
        "    def test_greater_than(x):\n",
        "        return x > value\n",
        "    return test_greater_than\n",
        "\n",
        "def less_than(value):\n",
        "    def test_less_than(x):\n",
        "        return x < value\n",
        "    return test_less_than\n",
        "\n",
        "def equal_to(value):\n",
        "    def test_equal_to(x):\n",
        "        return x == value\n",
        "    return test_equal_to\n",
        "\n",
        "def divisible_by(divisor):\n",
        "    def test_divisible_by(x):\n",
        "        return x % divisor == 0\n",
        "    return test_divisible_by\n",
        "\n",
        "### END SOLUTION"
      ]
    },
    {
      "cell_type": "code",
      "execution_count": 16,
      "metadata": {
        "colab": {
          "base_uri": "https://localhost:8080/"
        },
        "id": "GBf8iU8dwrkh",
        "outputId": "ecf585de-bb20-40f4-be34-9880d3e5d128"
      },
      "outputs": [
        {
          "output_type": "stream",
          "name": "stdout",
          "text": [
            "Inputs: [0, 1, 10, 15, 20]\n",
            "Outputs for F1 (range 0-9): [True, True, False, False, False]\n",
            "Outputs for F2 (range 10-19): [False, False, True, True, False]\n"
          ]
        }
      ],
      "source": [
        "# Examples:\n",
        "F1 = range(0, 10)  # Using the range function for [0, 10)\n",
        "F2 = range(10, 20)  # Using the range function for [10, 20)\n",
        "\n",
        "# Inputs and Outputs\n",
        "inputs = [0, 1, 10, 15, 20]\n",
        "\n",
        "# Test the functions\n",
        "outputs_F1 = [x in F1 for x in inputs]\n",
        "outputs_F2 = [x in F2 for x in inputs]\n",
        "\n",
        "print(\"Inputs:\", inputs)\n",
        "print(\"Outputs for F1 (range 0-9):\", outputs_F1)\n",
        "print(\"Outputs for F2 (range 10-19):\", outputs_F2)"
      ]
    },
    {
      "cell_type": "markdown",
      "metadata": {
        "id": "v2Z3vcFLwrkh"
      },
      "source": [
        "*Exercise 7:* Repeat the previous exercise using `lambda` and the built-in python functions sum and map instead of your solution above."
      ]
    },
    {
      "cell_type": "code",
      "execution_count": 17,
      "metadata": {
        "colab": {
          "base_uri": "https://localhost:8080/"
        },
        "id": "Xgfdzqwzwrkh",
        "outputId": "07a239db-f520-4ba6-e72d-0bbb2d29be6a"
      },
      "outputs": [
        {
          "output_type": "stream",
          "name": "stdout",
          "text": [
            "Inputs: [0, 1, 10, 15, 20]\n",
            "Outputs for F1 (even): [0, 10, 20]\n",
            "Outputs for F2 (range 10-19): [10, 15]\n"
          ]
        }
      ],
      "source": [
        "### BEGIN SOLUTION\n",
        "\n",
        "def even():\n",
        "    return lambda x: isinstance(x, int) and x % 2 == 0 and x >= 0\n",
        "\n",
        "def odd():\n",
        "    return lambda x: isinstance(x, int) and x % 2 != 0 and x >= 0\n",
        "\n",
        "def greater_than(value):\n",
        "    return lambda x: isinstance(x, (int, float)) and x > value\n",
        "\n",
        "def less_than(value):\n",
        "    return lambda x: isinstance(x, (int, float)) and x < value\n",
        "\n",
        "def equal_to(value):\n",
        "    return lambda x: isinstance(x, (int, float)) and x == value\n",
        "\n",
        "def divisible_by(divisor):\n",
        "    return lambda x: isinstance(x, int) and x % divisor == 0 and x >= 0\n",
        "\n",
        "\n",
        "# Examples:\n",
        "F1 = even()  # Lambda function to test even numbers\n",
        "F2 = range(10, 20)  # Using the range function for [10, 20)\n",
        "\n",
        "# Inputs and Outputs\n",
        "inputs = [0, 1, 10, 15, 20]\n",
        "\n",
        "# Test the functions using filter and map\n",
        "outputs_F1 = list(filter(even(), inputs))\n",
        "outputs_F2 = list(filter(lambda x: x in F2, inputs))\n",
        "\n",
        "print(\"Inputs:\", inputs)\n",
        "print(\"Outputs for F1 (even):\", outputs_F1)\n",
        "print(\"Outputs for F2 (range 10-19):\", outputs_F2)"
      ]
    },
    {
      "cell_type": "markdown",
      "metadata": {
        "id": "Hj5qNuMDwrkh"
      },
      "source": [
        "## Monte Carlo\n",
        "\n",
        "*Exercise 7:* Write a \"generator\" function called `generate_function(func,x_min,x_max,N)`, that instead of generating a flat distribution, generates a distribution with functional form coded in `func`. Note that `func` will always be > 0.  \n",
        "\n",
        "Use the test function below and your histogramming functions above to demonstrate that your generator is working properly.\n",
        "\n",
        "Hint: A simple, but slow, solution is to a draw random number `test_x` within the specified range and another number `p` between the `min` and `max` of the function (which you will have to determine). If `p<=function(test_x)`, then place `test_x` on the output. If not, repeat the process, drawing two new numbers. Repeat until you have the specified number of generated numbers, `N`. For this problem, it's OK to determine the `min` and `max` by numerically sampling the function.  "
      ]
    },
    {
      "cell_type": "code",
      "execution_count": 18,
      "metadata": {
        "id": "4T8RAsOVwrkh"
      },
      "outputs": [],
      "source": [
        "import random\n",
        "import matplotlib.pyplot as plt\n",
        "import math\n",
        "def generate_function(func, x_min, x_max, N=1000):\n",
        "    out = list()\n",
        "    ### BEGIN SOLUTION\n",
        "    # Estimate the maximum value of func within the range\n",
        "    sample_points = [random.uniform(x_min, x_max) for _ in range(1000)]\n",
        "    f_max = max(func(x) for x in sample_points)\n",
        "\n",
        "    # Rejection sampling\n",
        "    while len(out) < N:\n",
        "        test_x = random.uniform(x_min, x_max)  # Random x within the range\n",
        "        p = random.uniform(0, f_max)          # Random y between [0, f_max]\n",
        "        if p <= func(test_x):                 # Accept test_x if p <= func(test_x)\n",
        "            out.append(test_x)\n",
        "    ### END SOLUTION\n",
        "\n",
        "    # Plot histogram\n",
        "    plt.hist(out, bins=30, edgecolor='black', alpha=0.7)\n",
        "    plt.xlabel(\"Generated Values\")\n",
        "    plt.ylabel(\"Frequency\")\n",
        "    plt.title(\"Histogram of Generated Values\")\n",
        "    plt.show()\n",
        "\n",
        "    return out"
      ]
    },
    {
      "cell_type": "code",
      "execution_count": 19,
      "metadata": {
        "id": "WSQ1swtbwrki"
      },
      "outputs": [],
      "source": [
        "# A test function\n",
        "def test_func(x,a=1,b=1):\n",
        "    return abs(a*x+b)"
      ]
    },
    {
      "cell_type": "code",
      "source": [
        "# Example usage\n",
        "generated_data = generate_function(test_func, x_min=0, x_max=10, N=1000)\n",
        "print(f\"Generated {len(generated_data)} data points.\")"
      ],
      "metadata": {
        "colab": {
          "base_uri": "https://localhost:8080/",
          "height": 490
        },
        "id": "ujq-5uoIJIwd",
        "outputId": "cf5339dd-0671-4284-f93f-3ef2fab0696e"
      },
      "execution_count": 20,
      "outputs": [
        {
          "output_type": "display_data",
          "data": {
            "text/plain": [
              "<Figure size 640x480 with 1 Axes>"
            ],
            "image/png": "[encoded data removed]"
          },
          "metadata": {}
        },
        {
          "output_type": "stream",
          "name": "stdout",
          "text": [
            "Generated 1000 data points.\n"
          ]
        }
      ]
    },
    {
      "cell_type": "markdown",
      "metadata": {
        "id": "jxiNBujLwrki"
      },
      "source": [
        "*Exercise 8:* Use your function to generate 1000 numbers that are normal distributed, using the `gaussian` function below. Confirm the mean and variance of the data is close to the mean and variance you specify when building the Gaussian. Histogram the data."
      ]
    },
    {
      "cell_type": "code",
      "execution_count": 21,
      "metadata": {
        "id": "yY-AThG0wrki"
      },
      "outputs": [],
      "source": [
        "import math\n",
        "\n",
        "def gaussian(mean, sigma):\n",
        "    def f(x):\n",
        "        return math.exp(-((x-mean)**2)/(2*sigma**2))/math.sqrt(math.pi*sigma)\n",
        "    return f\n",
        "\n",
        "# Example Instantiation\n",
        "g1=gaussian(0,1)\n",
        "g2=gaussian(10,3)"
      ]
    },
    {
      "cell_type": "code",
      "source": [
        "import math\n",
        "import random\n",
        "import matplotlib.pyplot as plt\n",
        "\n",
        "def generate_function(func, x_min, x_max, n_points=1000):\n",
        "    \"\"\"\n",
        "    Generate a list of x and y values for a function\n",
        "    \"\"\"\n",
        "    x_values = []\n",
        "    y_values = []\n",
        "    x_step = (x_max - x_min) / n_points\n",
        "    for i in range(n_points):\n",
        "        x = x_min + i * x_step\n",
        "        x_values.append(x)\n",
        "        y_values.append(func(x))\n",
        "    return x_values, y_values\n",
        "\n",
        "def plot_histogram(numbers, n_bins=100):\n",
        "    \"\"\"\n",
        "    Plot a histogram of the given numbers\n",
        "    \"\"\"\n",
        "    plt.hist(numbers, bins=n_bins)\n",
        "    plt.show()\n",
        "\n",
        "    # Display Mean and Variance\n",
        "    mean_value = sum(numbers) / len(numbers)\n",
        "    variance_value = sum((x - mean_value) ** 2 for x in numbers) / len(numbers)\n",
        "    print(f\"Mean: {mean_value}\")\n",
        "    print(f\"Variance: {variance_value}\")\n",
        "\n",
        "def main():\n",
        "  \"\"\"\n",
        "    Test function\n",
        "    \"\"\"\n",
        "  g1 = gaussian(0, 1)\n",
        "  g2 = gaussian(10, 3)\n",
        "  x_values, y_values = generate_function(g1, -10, 10)\n",
        "  plt.plot(x_values, y_values)\n",
        "  x_values, y_values = generate_function(g2, -10, 10)\n",
        "  plt.plot(x_values, y_values)\n",
        "  plt.show()\n",
        "  numbers = [random.gauss(0, 1) for _ in range(1000)]\n",
        "  plot_histogram(numbers)\n",
        "\n",
        "if __name__ == \"__main__\":\n",
        "    main()\n",
        "    exit(0)"
      ],
      "metadata": {
        "colab": {
          "base_uri": "https://localhost:8080/",
          "height": 879
        },
        "id": "U3-dKS6L7wxu",
        "outputId": "c9e4377f-16f6-4922-9a50-064b031fb947"
      },
      "execution_count": 22,
      "outputs": [
        {
          "output_type": "display_data",
          "data": {
            "text/plain": [
              "<Figure size 640x480 with 1 Axes>"
            ],
            "image/png": "[encoded data removed]"
          },
          "metadata": {}
        },
        {
          "output_type": "display_data",
          "data": {
            "text/plain": [
              "<Figure size 640x480 with 1 Axes>"
            ],
            "image/png": "[encoded data removed]"
          },
          "metadata": {}
        },
        {
          "output_type": "stream",
          "name": "stdout",
          "text": [
            "Mean: 0.029891184388192795\n",
            "Variance: 1.0172068722644598\n"
          ]
        }
      ]
    },
    {
      "cell_type": "markdown",
      "metadata": {
        "id": "p_o-KPKmwrki"
      },
      "source": [
        "*Exercise 9:* Combine your `generate_function`, `where`, and `in_range` functions above to create an integrate function. Use your integrate function to show that approximately 68% of Normal distribution is within one variance."
      ]
    },
    {
      "cell_type": "code",
      "execution_count": 23,
      "metadata": {
        "id": "tI93PBVxwrki"
      },
      "outputs": [],
      "source": [
        "def integrate(func, x_min, x_max, n_points=1000):\n",
        "    \"\"\"\n",
        "    Approximate the integral of func(x) from x_min to x_max using numerical integration.\n",
        "    \"\"\"\n",
        "    integral = 0\n",
        "    x_step = (x_max - x_min) / n_points\n",
        "    for i in range(n_points):\n",
        "        x = x_min + i * x_step\n",
        "        integral += func(x) * x_step\n",
        "    return integral\n"
      ]
    },
    {
      "cell_type": "code",
      "execution_count": 24,
      "metadata": {
        "id": "YBNkd8MJwrki",
        "colab": {
          "base_uri": "https://localhost:8080/"
        },
        "outputId": "df9514d7-44ba-4e38-f1a1-d78727b19e7c"
      },
      "outputs": [
        {
          "output_type": "stream",
          "name": "stdout",
          "text": [
            "Integral within 1 std dev: 0.9655 (Expected ~0.68)\n",
            "Integral within 2 std dev: 1.3499 (Expected ~0.95)\n",
            "Integral within 3 std dev: 1.4104 (Expected ~0.997)\n"
          ]
        }
      ],
      "source": [
        "# Test the integrate function for Gaussian distribution\n",
        "def main():\n",
        "    # Define a Gaussian function with mean=0 and sigma=1\n",
        "    g1 = gaussian(0, 1)\n",
        "\n",
        "    # Calculate integral for different ranges\n",
        "    within_1_std_dev = integrate(g1, -1, 1)\n",
        "    within_2_std_dev = integrate(g1, -2, 2)\n",
        "    within_3_std_dev = integrate(g1, -3, 3)\n",
        "\n",
        "    # Print results\n",
        "    print(f\"Integral within 1 std dev: {within_1_std_dev:.4f} (Expected ~0.68)\")\n",
        "    print(f\"Integral within 2 std dev: {within_2_std_dev:.4f} (Expected ~0.95)\")\n",
        "    print(f\"Integral within 3 std dev: {within_3_std_dev:.4f} (Expected ~0.997)\")\n",
        "\n",
        "if __name__ == \"__main__\":\n",
        "    main()"
      ]
    }
  ],
  "metadata": {
    "kernelspec": {
      "display_name": "Python 3 (ipykernel)",
      "language": "python",
      "name": "python3"
    },
    "language_info": {
      "codemirror_mode": {
        "name": "ipython",
        "version": 3
      },
      "file_extension": ".py",
      "mimetype": "text/x-python",
      "name": "python",
      "nbconvert_exporter": "python",
      "pygments_lexer": "ipython3",
      "version": "3.9.6"
    },
    "colab": {
      "provenance": []
    }
  },
  "nbformat": 4,
  "nbformat_minor": 0
}